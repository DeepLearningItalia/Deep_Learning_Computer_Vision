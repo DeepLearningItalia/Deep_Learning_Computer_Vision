{
  "nbformat": 4,
  "nbformat_minor": 0,
  "metadata": {
    "colab": {
      "name": "02_cnn_from_scratch_numpy.ipynb",
      "provenance": [],
      "collapsed_sections": [],
      "include_colab_link": true
    },
    "kernelspec": {
      "name": "python3",
      "display_name": "Python 3"
    }
  },
  "cells": [
    {
      "cell_type": "markdown",
      "metadata": {
        "id": "view-in-github",
        "colab_type": "text"
      },
      "source": [
        "<a href=\"https://colab.research.google.com/github/denocris/Basics-of-deep-learning-for-cv/blob/main/02_cnn_from_scratch_numpy.ipynb\" target=\"_parent\"><img src=\"https://colab.research.google.com/assets/colab-badge.svg\" alt=\"Open In Colab\"/></a>"
      ]
    },
    {
      "cell_type": "markdown",
      "metadata": {
        "id": "Wj8auSeb0UI5"
      },
      "source": [
        "<h1><center>  Building a CNN from Scratch  </center></h1>\n",
        "\n",
        "<center>  <img src=\"https://drive.google.com/uc?export=view&id=14NR1ZtJRXsncnS6lah_T6k7u4g-BTNT2\"width=\"800\">  </center> \n",
        "\n"
      ]
    },
    {
      "cell_type": "markdown",
      "metadata": {
        "id": "NdpNbcvL-tVj"
      },
      "source": [
        "## About this Lecture (Notebook Nr. 2)\n",
        "\n",
        "In lecture nr. 1, we learned how to write from scratch convolutional layers using basics mathematics and NumPy. In the same philosophy, we will build a simple convolutional neural network from scratch (this must be done at least once in a lifetime). To keep things simple, our CNN is will be composed by:\n",
        "\n",
        "* $3\\times 3$ matrix as an input image;\n",
        "* a convolutional layer with kernel size 2, stride 1. As activation function we choose or a scaled version of the sigmoid function, $\\tanh(x)$, or a relu, $\\text{max}(0,x)$;\n",
        "* a fully connected layer on top of the convolutional layer with a logistic activation function: $f(x) = \\frac{1}{1+\\exp{(-x)}}$.\n",
        "\n",
        "In modern deep learning frameworks, such as PyTorch or TensorFlow, you only have to implement the forward pass, and the framework takes care of the backward pass. Then, it automatically computes derivatives with respect to the cost to update the parameters. The backward pass could be complicated to implement from scratch except for simple architecture like the CNN described above. In this notebook, we will write from scratch every step, from the forward to the backward pass. This could sound a bit pedant, but it is useful to understand a lot of details on deep learning basic mechanisms.\n",
        "\n",
        "\n",
        "## Tools used \n",
        "\n",
        "In the first part of this notebook, we will just use numpy library for most of our computations. Only in the second part we will introduce PyTorch and use it to reproduce and check all the results computed in the first part. "
      ]
    },
    {
      "cell_type": "markdown",
      "metadata": {
        "id": "S2JEYq5k1LJR"
      },
      "source": [
        "## Convolution and Activation Functions\n"
      ]
    },
    {
      "cell_type": "code",
      "metadata": {
        "id": "v2UPu_GS3jdd"
      },
      "source": [
        "import numpy as np"
      ],
      "execution_count": null,
      "outputs": []
    },
    {
      "cell_type": "markdown",
      "metadata": {
        "id": "1PfnYd0q3rtG"
      },
      "source": [
        "We copy below the convolutional function learned during the first notebook"
      ]
    },
    {
      "cell_type": "code",
      "metadata": {
        "id": "mwssz-jM-NIP"
      },
      "source": [
        "def convolution2d(X, K):\n",
        "    # transform in numpy array\n",
        "    X = np.array(X)\n",
        "    K = np.array(K)\n",
        "    # K dimensions\n",
        "    h, w = K.shape\n",
        "    # initialize the output (stride is 1)\n",
        "    Y = np.zeros((X.shape[0] - h + 1, X.shape[1] - w + 1))\n",
        "    for i in range(Y.shape[0]): #loop on rows\n",
        "        for j in range(Y.shape[1]): # loop on columns\n",
        "            Y[i, j] = (X[i: i + h, j: j + w] * K).sum()\n",
        "    return Y"
      ],
      "execution_count": null,
      "outputs": []
    },
    {
      "cell_type": "markdown",
      "metadata": {
        "id": "FzoUTBzv4HFF"
      },
      "source": [
        "As we saw during the first lecture, convolutions are linear operations. Therefore, to solve non-linear problems (99% of real-world problems) we need non-linear activation functions. There are plenty of activation functions in the literature. The choice of the more suited activation function for a network or a specific layer depends on many factors, such as the task itself. In this course, we will not deal with these design settings. For this exercise, we will use some common choice: *logistic sigmoid activation function* and *hyperbolic tangent activation function*. They have similar properties and, for this reason, the latter is often called *scaled sigmoid*. \n",
        "\n",
        "These functions:\n",
        "\n",
        "* are non linear in nature;\n",
        "\n",
        "* they have activations bounded;\n",
        "\n",
        "* between $x$ values $-2$ to $2$, $y$ values are very steep. Which means, any small changes in the values of $x$ in that region will cause values of $y$ to change significantly. Outside this range, $y$ values tend to respond very less to changes in $x$. This can cause an effect named *vanishing of gradients*;\n",
        "\n",
        "* tend to bring the activations to either side of the curve. In particular when used in the last layer, they are suited for binary classifiation problems making clear distinctions on prediction.\n",
        "\n",
        "\n",
        "We will also consider the widely used *ReLu activation* (Rectified Linear Unit). It is also a non-linear function, but it is not bounded. This means it can blow up the activation. Moreover, it is worth highlighting the sparsity of its activation. If we consider a neural network with a lot of neurons, using a *sigmoid* or *tanh* will cause almost all neurons to fire in an analog way. That means almost all activations will be taken into account and processed to describe the output of a network. We say that the activation is dense. This could be costly. Ideally, we would want a few neurons in the network to not activate and thereby making the activations sparse and efficient.\n",
        "\n"
      ]
    },
    {
      "cell_type": "code",
      "metadata": {
        "id": "aSmQz07_-PvF"
      },
      "source": [
        "# Scaled Sigmoid Activation Function\n",
        "def tanh(x):\n",
        "    return np.tanh(x)\n",
        "# Its derivative\n",
        "def d_tanh(x):\n",
        "    return 1 - np.tanh(x) ** 2\n",
        "\n",
        "# Logistic Activation Function\n",
        "def logistic(x):\n",
        "    return 1/(1 + np.exp(-1*x))\n",
        "# Its derivative\n",
        "def d_logistic(x):\n",
        "    return logistic(x) * ( 1 - logistic(x) )\n",
        "\n",
        "# ReLu Activation Function\n",
        "def relu(x):\n",
        "  return (np.abs(x) + x)*0.5\n",
        "# Its derivative\n",
        "def d_relu(x):\n",
        "    x= np.array(x)\n",
        "    return np.where(x > 0, 1, 0)"
      ],
      "execution_count": null,
      "outputs": []
    },
    {
      "cell_type": "code",
      "metadata": {
        "id": "YMNmcg367EFP",
        "outputId": "8f0a4448-cfa2-49b4-8ee1-c32848b3e55c",
        "colab": {
          "base_uri": "https://localhost:8080/",
          "height": 444
        }
      },
      "source": [
        "import matplotlib.pyplot as plt\n",
        "\n",
        "plt.figure(figsize=(15,7))\n",
        "\n",
        "# evenly sampled time at 200ms intervals\n",
        "t = np.arange(-3., 3., 0.01)\n",
        "\n",
        "# red dashes, blue squares and green triangles\n",
        "plt.plot(t, tanh(t), 'b--', label='tanh')\n",
        "plt.plot(t, logistic(t), 'r--', label='logistic sigmoid')\n",
        "plt.plot(t, relu(t), 'g--', label='ReLu')\n",
        "\n",
        "\n",
        "plt.title(\"Simple Plot\")\n",
        "\n",
        "plt.axvline(0)\n",
        "plt.axhline(0)\n",
        "\n",
        "plt.legend()\n",
        "plt.show()"
      ],
      "execution_count": null,
      "outputs": [
        {
          "output_type": "display_data",
          "data": {
            "image/png": "[encoded data removed]",
            "text/plain": [
              "<Figure size 1080x504 with 1 Axes>"
            ]
          },
          "metadata": {
            "tags": [],
            "needs_background": "light"
          }
        }
      ]
    },
    {
      "cell_type": "markdown",
      "metadata": {
        "id": "KgQXyF5FrQE-"
      },
      "source": [
        "## Generate a Simple Training Set\n",
        "\n"
      ]
    },
    {
      "cell_type": "markdown",
      "metadata": {
        "id": "psEs3NJ9VeDF"
      },
      "source": [
        "Let us define our simple dataset, composed by four different images of zeros and ones (black and white pixels). For technical reasons, we do not choose exactly zero as the black value but a small number called `zz`. "
      ]
    },
    {
      "cell_type": "code",
      "metadata": {
        "id": "Fhfbuj1lsRTW"
      },
      "source": [
        "zz = 0.001 #0.01\n",
        "np.random.seed(172) \n",
        "\n",
        "\n",
        "# Input Images\n",
        "x1 = np.array([[zz,zz,zz],[zz,zz,zz],[zz,zz,zz]])\n",
        "x2 = np.array([[zz,zz,zz],[1,1,1],[zz,zz,zz]])\n",
        "x3 = np.array([[1,1,1],[zz,zz,zz],[1,1,1]])\n",
        "x4 = np.array([[1,1,1],[1,1,1],[1,1,1]])\n",
        "\n",
        "# dataset\n",
        "dataset = [x1,x2,x3,x4]\n",
        "\n",
        "# labels\n",
        "Y = np.array([[0.53],[0.77],[0.88],[1.0]])\n",
        "\n",
        "# Convolutional kernel weights\n",
        "W = np.random.randn(2,2) #* 4\n",
        "#W = np.array([[1,2],[3,4]])\n",
        "# Dense layer weights\n",
        "V = np.random.randn(4,1) #* 4\n",
        "#V = np.array([[1],[2],[3],[4]])"
      ],
      "execution_count": null,
      "outputs": []
    },
    {
      "cell_type": "markdown",
      "metadata": {
        "id": "fREe3I7X_CHW"
      },
      "source": [
        "## Mathematical Derivation of Backpropagation\n",
        "\n",
        "In machine learning, backpropagation is a widely used algorithm in training feedforward neural networks for supervised learning. The backpropagation algorithm works by computing the gradient of the loss function with respect to each weight by the chain rule, computing the gradient one layer at a time, iterating backward from the last layer. When gradients are computed, weights can be updated."
      ]
    },
    {
      "cell_type": "markdown",
      "metadata": {
        "id": "1F45ffwA0ekK"
      },
      "source": [
        "#### **Math Description of our CNN**\n",
        "\n",
        "Let us dive a bit into the mathematics of CNN, whose structure will be composed by\n",
        "\n",
        "* a convolutional layer with kernel size 2, stride 1;\n",
        "* a scaled version sigmoid function, $\\tanh(x)$;\n",
        "* a fully connected layer with a logistic activation function: $f(x) = \\frac{1}{1+\\exp{(-x)}}$.\n",
        "\n",
        "If $X$ is the $3\\times3 $ matrix with entries $x_{ij}$ and $W_1$ the convolutional $2 \\times 2$ filter with entries $w_{ij}$, the result of their convolution, named $\\text{conv}(X,W_1)$, is\n",
        "\n",
        "\\\\\n",
        "\n",
        "$$\\begin{bmatrix} x_{11} & x_{12} & x_{13} \\\\  x_{21} & x_{22} & x_{23} \\\\ x_{31} & x_{32} & x_{33} \\end{bmatrix} \n",
        "\\, * \\, \\begin{bmatrix} w_{11} & w_{12} \\\\ w_{21} & w_{22}  \\end{bmatrix} \n",
        "\\,=\\,  \\begin{bmatrix} L_{11} & L_{12} \\\\ L_{21} & L_{22} \\end{bmatrix},$$\n",
        "\n",
        "\\\\\n",
        "\n",
        "which is a $(2,2)$ tensor, i.e a matrix. Just to remind, $L_{11}=x_{11}w_{11}+x_{12}w_{12}+x_{21}w_{21}+x_{22}w_{22}$. It is convinient to reshape the result into a $(1,4)$ tensor\n",
        "\n",
        "\\\\\n",
        "\n",
        "$$ L_1 = [L_{11}, L_{12}, L_{21}, L_{22}]$$\n",
        "\n",
        "\\\\\n",
        "\n",
        "Now we apply the scaled sigmoid activation function $L_1^A =\\tanh(L_1)$, obtaining the output of the first layer $L_1^A$. The second layer is a fully connected (or dense) layer, which output is $L_2^A = \\sigma(L_2)$, being $L_2 = L_1^A \\cdot V$. The vector $V$ contains the weights of the second layer and $\\sigma(\\cdot)$ is the logistic activation function. $L_2$ is a scalar, being the output of a scalar product of two vectors.\n",
        "Summarizing the structure of our simple CNN, we have\n",
        "\n",
        "\\\\\n",
        "\n",
        "* $L_1 = \\text{conv} (X, W)$, first layer (convolutional), shape (1,4)\n",
        "\n",
        "* $L_1^A =\\tanh(L_1)$, first layer activation (sigmoid), shape (1,4)\n",
        "\n",
        "* $L_2 = L_1^A \\cdot V$, second layer (dense), scalar\n",
        "\n",
        "* $L_2^A = \\sigma(L_2)$, second layer activation (logistic), scalar"
      ]
    },
    {
      "cell_type": "markdown",
      "metadata": {
        "id": "emBAUBTy0pop"
      },
      "source": [
        "### Gradient Computation: Backpropagation\n",
        "\n",
        "The loss function of our model will be the mean square error, that in the case when the `batch_size = 1` is\n",
        "$$C(w) = (L_2^A - Y)^2$$\n",
        "\n",
        "Now we will compute its derivative with respect to the model weights.\n",
        "\n",
        "#### **Derivatives with respect to the second layer**\n",
        "\n",
        "Let us start to compute the gradient of the cost function $C(w)$ with respect to $V$, the second layer weights:\n",
        "\n",
        "\\\\\n",
        "\n",
        "$$\\frac{d C}{d V} = \\frac{d C}{d L_2^A} \\, \\frac{d L_2^A}{d L_2} \\, \\frac{d L_2}{d V} = 2 (L_2^A - Y) \\, [ \\sigma(L_2) (1- \\sigma(L_2))] \\, L_1^A \\,,$$\n",
        "\n",
        "\\\\\n",
        "\n",
        "where to be as clear as possible with the code we define\n",
        "\n",
        "\\\\\n",
        "\n",
        "* $\\text{dC_dL2A} = 2 (L_2^A - Y) $\n",
        "*  $\\text{dL2A_dL2} = [ \\sigma(L_2) (1- \\sigma(L_2))]$\n",
        "* $\\text{dL2_dV}=  L_1^A $\n",
        "\n",
        "\n",
        "```\n",
        "dC_dL2A = 2.0*(layer_2_act - Y[2]) # scalar \n",
        "dL2A_dL2 = d_logistic(layer_2) # scalar\n",
        "dL2_dV = layer_1_act_vec # (1, 4)\n",
        "Grad_V =  dC_dL2A * dL2A_dL2 * dL2_dV  # (1,4)\n",
        "\n",
        "V = V - Grad_V.T * learning_rate\n",
        "```\n",
        "\n",
        "#### **Derivatives with respect to the first layer**\n",
        "\n",
        "Let us now compute the gradient of the cost function $C(w)$ with respect to $W_1$, the first layer weights. We explicitly compute the derivative of $C$ with respect to $w_{11}$ :\n",
        "\n",
        "\\\\\n",
        "\n",
        "$$\\frac{d C}{d w_{11}} = \\frac{d C}{d L_2^A} \\, \\frac{d L_2^A}{d L_2} \\, \\frac{d L_2}{d L_1^A} \\, \\frac{d L_1^A}{d L_1} \\, \\frac{d L_1}{d w_{11}} = 2(L_2^A - Y) \\, [ \\sigma(L_2) (1- \\sigma(L_2))] \\, V \\, (1-\\tanh (L_1)^2) \\, \\frac{d L_1}{d w_{11}}.$$\n",
        "\n",
        "\\\\\n",
        "\n",
        "Defing $g = 2 (L_2^A - Y) \\, [ \\sigma(L_2) (1- \\sigma(L_2))]$ and reminding that $L_1$ is a vector\n",
        "\n",
        "\\\\\n",
        "\n",
        "$$ \\frac{d C}{d w_{11}} =  g \\,  V \\,\\left[ (1-\\tanh (L_{11})^2), (1-\\tanh (L_{12})^2), (1-\\tanh (L_{21})^2),g(1-\\tanh (L_{22})^2) \\right]\\, \\left[ \\frac{d L_{11}}{d w_{11}}, \\frac{d L_{12}}{d w_{11}}, \\frac{d L_{11}}{d w_{21}} , \\frac{d L_{22}}{d w_{11}}\\right]\\,, $$  \n",
        "\n",
        "\\\\\n",
        "\n",
        "where  being that  $\\left[ \\frac{d L_{11}}{d w_{11}}, \\frac{d L_{12}}{d w_{11}}, \\frac{d L_{11}}{d w_{21}} , \\frac{d L_{22}}{d w_{11}}\\right] = [x_{11}, x_{12}, x_{21}, x_{22}]$ \n",
        "\n",
        "\\\\\n",
        "\n",
        "$$ \\frac{d C}{d w_{11}} = g \\,  V \\, \\left[ (1-\\tanh (L_{11})^2), (1-\\tanh (L_{12})^2), (1-\\tanh (L_{21})^2), (1-\\tanh (L_{22})^2) \\right] \\, [ x_{11}, x_{12}, x_{21}, x_{22}] $$  \n",
        "\n",
        "\\\\\n",
        "\n",
        "The same procedure can be applied to the derivatives with respect to the other weights. Then, one can easily realize that the gradient of $C$ with respect to weights of the first layer is nothing else than a convolution between the image $X$ and $g (1-\\tanh (L_1)^2)$\n",
        "\n",
        "\\\\\n",
        "\n",
        "$$ \\begin{bmatrix} \\frac{d C}{d w_{11}} & \\frac{d C}{d w_{12}}  \\\\ \\frac{d C}{d w_{21}} & \\frac{d C}{d w_{22}}  \\end{bmatrix} \n",
        "\\,=\\,  \\begin{bmatrix} x_{11} & x_{12} & x_{13} \\\\  x_{21} & x_{22} & x_{23} \\\\ x_{31} & x_{32} & x_{33} \\end{bmatrix} \n",
        "\\, * \\, \\begin{bmatrix} g (1-\\tanh (L_{11})^2) & g (1-\\tanh (L_{12})^2) \\\\ g (1-\\tanh (L_{21})^2)  & g (1-\\tanh (L_{22})^2)   \\end{bmatrix}  $$\n",
        "\n",
        "\n",
        "In our code, these quantities will be defined as\n",
        "\n",
        "```\n",
        "g = 2*(dC_dL2A * dL2A_dL2).dot(V.T) #(1,1).dot((1,4)) = (1,4)\n",
        "dL1A_dL1 = d_tanh(layer_1) # (2,2)\n",
        "dL1_dW = dataset[2]  # (3,3)\n",
        "```\n",
        "\n",
        "As last step, it is useful to reshape from (1,4) to (2,2) the vector `g` \n",
        "\n",
        "```\n",
        "g_reshape = np.reshape(g,(2,2)) # (2,2)\n",
        "dL1A_dL1 = d_tanh(layer_1) # (2,2)\n",
        "\n",
        "dL1_dW = dataset[2] # (3,3)\n",
        "Grad_W = convolution2d(dL1_dW, g_reshape * dL1A_dL1) # (2,2)\n",
        "```"
      ]
    },
    {
      "cell_type": "markdown",
      "metadata": {
        "id": "tbzTOGIXATgs"
      },
      "source": [
        "## Model Definition and Training"
      ]
    },
    {
      "cell_type": "markdown",
      "metadata": {
        "id": "yFkIbwpjP5VK"
      },
      "source": [
        "A typical training procedure for a neural network is as follows:\n",
        "\n",
        "- Define the neural network that has some learnable parameters, called wieghts;\n",
        "- iterate over a dataset of inputs;\n",
        "- process input through the network (forward pass);\n",
        "- compute the loss (how far is the output from being correct);\n",
        "- propagate gradients back into the network’s parameters (backward pass);\n",
        "- update the weights of the network, typically using a simple update rule:\n",
        "  ``weight = weight - learning_rate * gradient``."
      ]
    },
    {
      "cell_type": "code",
      "metadata": {
        "id": "v34-i_95cIp3"
      },
      "source": [
        "ACT = 'tanh' \n",
        "\n",
        "def model(image_id):\n",
        "    # first layer (conv layer)\n",
        "    layer_1 = convolution2d(dataset[image_id], W)\n",
        "    # activation function\n",
        "    layer_1_act = tanh(layer_1) if ACT == 'tanh' else relu(layer_1) # shape (2,2)\n",
        "    # reshape first layer output\n",
        "    layer_1_act_vec = np.expand_dims(np.reshape(layer_1_act,-1),axis=0) # shape (1,4)\n",
        "\n",
        "    # second layer (dense layer)\n",
        "    layer_2 = layer_1_act_vec.dot(V) # (1,4) dot (4,1) -> scalar\n",
        "    # activation function\n",
        "    layer_2_act = logistic(layer_2)\n",
        "    return layer_2_act\n",
        "\n",
        "# compute model output on image 0 before training\n",
        "init_model_pred_numpy = model(0)"
      ],
      "execution_count": null,
      "outputs": []
    },
    {
      "cell_type": "code",
      "metadata": {
        "id": "JP2ekRC3KL4t",
        "outputId": "7bdeb34e-e86c-4a61-959a-552f797dcec7",
        "colab": {
          "base_uri": "https://localhost:8080/",
          "height": 34
        }
      },
      "source": [
        "init_model_pred_numpy "
      ],
      "execution_count": null,
      "outputs": [
        {
          "output_type": "execute_result",
          "data": {
            "text/plain": [
              "array([[0.49876831]])"
            ]
          },
          "metadata": {
            "tags": []
          },
          "execution_count": 7
        }
      ]
    },
    {
      "cell_type": "code",
      "metadata": {
        "id": "WTiP5FqVqwls",
        "outputId": "468af0de-3ce0-4465-aa11-0820ed704cac",
        "colab": {
          "base_uri": "https://localhost:8080/",
          "height": 301
        }
      },
      "source": [
        "# Settings\n",
        "num_epoch = 100\n",
        "learning_rate = 0.5\n",
        "\n",
        "# Choose activation function\n",
        "ACT = 'tanh'\n",
        "\n",
        "cost_before_train, cost_after_train = 0, 0\n",
        "\n",
        "final_out, start_out = np.array([[]]),np.array([[]])\n",
        "\n",
        "# Cost before training\n",
        "for i in range(len(dataset)):\n",
        "    \n",
        "    model_pred = model(i)\n",
        "    \n",
        "    # loss function\n",
        "    cost = pow((model_pred - Y[i]),2).sum() * 0.25\n",
        "    cost_before_train = cost_before_train + cost\n",
        "    start_out = np.append(start_out, model_pred)\n",
        "\n",
        "\n",
        "# ----- TRAINING -------\n",
        "for iter in range(num_epoch):\n",
        "\n",
        "    for i in range(len(dataset)):\n",
        "\n",
        "        # ---------- Neural Network ---------------\n",
        "        # first layer\n",
        "        layer_1 = convolution2d(dataset[i],W)\n",
        "        # activation function\n",
        "        layer_1_act = tanh(layer_1) if ACT == 'tanh' else relu(layer_1) # shape (2,2)\n",
        "        # reshape first layer output\n",
        "        layer_1_act_vec = np.expand_dims(np.reshape(layer_1_act,-1), axis=0) # shape (1,4)\n",
        "\n",
        "        # second layer\n",
        "        layer_2 = layer_1_act_vec.dot(V) # (1,4) dot (4,1) -> scalar\n",
        "        # activation function\n",
        "        model_pred = logistic(layer_2)\n",
        "        # -----------------------------------------\n",
        "\n",
        "        # cost function\n",
        "        cost = pow((model_pred - Y[i]),2).sum() \n",
        "\n",
        "\n",
        "        # ---------- Backpropagation ---------------\n",
        "        dC_dL2A = 2*(model_pred - Y[i]) # scalar # model_pred = layer_2_act\n",
        "        dL2A_dL2 = d_logistic(layer_2) # scalar\n",
        "        dL2_dV = layer_1_act_vec # (1, 4)\n",
        "        Grad_V =  dC_dL2A * dL2A_dL2 * dL2_dV  \n",
        "\n",
        "        g = (dC_dL2A * dL2A_dL2).dot(V.T) #(1,1).dot((1,4)) = (1,4)\n",
        "        \n",
        "        \n",
        "        dL1A_dL1 = d_tanh(layer_1) if ACT == 'tanh' else d_relu(layer_1) # shape (2,2)\n",
        "        \n",
        "        dL1_dW = dataset[i]\n",
        "\n",
        "        g_reshape = np.reshape(g,(2,2))\n",
        "        dL1A_dL1 = d_tanh(layer_1) # (2,2)\n",
        "        dL1_dW = dataset[i]\n",
        "        Grad_W = convolution2d(dL1_dW, g_reshape * dL1A_dL1)\n",
        "\n",
        "        # ---------- Weights Update ---------------\n",
        "        W = W - Grad_W * learning_rate\n",
        "        V = V - Grad_V.T * learning_rate\n",
        "\n",
        "\n",
        "# ---- Cost after training ------\n",
        "for i in range(len(dataset)):\n",
        "\n",
        "    model_pred = model(i)\n",
        "\n",
        "    cost = pow((model_pred - Y[i]),2).sum() * 0.25\n",
        "    cost_after_train = cost_after_train + cost\n",
        "    final_out = np.append(final_out,model_pred)\n",
        "\n",
        "\n",
        "# ----- Print Results ---\n",
        "print(\"\\nW :\",W, \"\\n\\nV :\", V)\n",
        "print(\"----------------\")\n",
        "print(\"Cost before Training: \",cost_before_train)\n",
        "print(\"Cost after Training: \",cost_after_train)\n",
        "print(\"----------------\")\n",
        "print(\"Start Output : \", start_out)\n",
        "print(\"Final Output : \", final_out)\n",
        "print(\"Ground Truth  : \", Y.T)\n",
        "print(\"Diff  : \", final_out - Y.T)\n",
        "\n",
        "W_numpy, V_numpy = W, V"
      ],
      "execution_count": null,
      "outputs": [
        {
          "output_type": "stream",
          "text": [
            "\n",
            "W : [[ 0.18719648 -2.1564865 ]\n",
            " [ 0.40404502 -0.25352101]] \n",
            "\n",
            "V : [[-1.12665231]\n",
            " [-1.20578496]\n",
            " [-0.13551446]\n",
            " [-1.48128048]]\n",
            "----------------\n",
            "Cost before Training:  0.45964206899148174\n",
            "Cost after Training:  0.00033220053076344974\n",
            "----------------\n",
            "Start Output :  [0.49876831 0.13724093 0.17536692 0.03010256]\n",
            "Final Output :  [0.50179567 0.77048201 0.88130672 0.97694836]\n",
            "Ground Truth  :  [[0.53 0.77 0.88 1.  ]]\n",
            "Diff  :  [[-0.02820433  0.00048201  0.00130672 -0.02305164]]\n"
          ],
          "name": "stdout"
        }
      ]
    },
    {
      "cell_type": "markdown",
      "metadata": {
        "id": "4n0k2xk6z800"
      },
      "source": [
        "That is super! We have just built from scratch a simple but complete convolutional neural network using only numpy and basic python functions. Our next step will be to code the same minimal neural network but exploiting PyTorch.  "
      ]
    },
    {
      "cell_type": "markdown",
      "metadata": {
        "id": "qvvlXl0cCX_i"
      },
      "source": [
        "## PyTorch Warmup"
      ]
    },
    {
      "cell_type": "markdown",
      "metadata": {
        "id": "QuDWTUz5Ft1T"
      },
      "source": [
        "PyTorch is amongst the most widely used libraries for performing machine learning research and numerical computations. PyTorch is similar to NumPy, with the additional benefit that PyTorch allows you to perform your computations on CPUs and GPUs without any change to your code. PyTorch also makes it easy to distribute your computation across multiple devices or machines. One of the most important features of PyTorch is automatic differentiation. It allows computing the gradients of your functions analytically in an efficient manner which is crucial for training machine learning models using gradient descent method. \n",
        "\n",
        "So, we will now see these PyTorch useful classes (from PyTorch Tutorials):\n",
        "\n",
        "  -  ``torch.Tensor`` - A *multi-dimensional array* with support for autograd\n",
        "     operations like ``backward()``. Also *holds the gradient* w.r.t. the\n",
        "     tensor.\n",
        "  -  ``nn.Module`` - Neural network module. *Convenient way of\n",
        "     encapsulating parameters*, with helpers for moving them to GPU,\n",
        "     exporting, loading, etc.\n",
        "  -  ``nn.Parameter`` - A kind of Tensor, that is *automatically\n",
        "     registered as a parameter when assigned as an attribute to a*\n",
        "     ``Module``.\n",
        "  -  ``autograd.Function`` - Implements *forward and backward definitions\n",
        "     of an autograd operation*. Every ``Tensor`` operation creates at\n",
        "     least a single ``Function`` node that connects to functions that\n",
        "     created a ``Tensor`` and *encodes its history*."
      ]
    },
    {
      "cell_type": "markdown",
      "metadata": {
        "id": "5UuTS05oKKD8"
      },
      "source": [
        "### Tensors Basis\n",
        "\n",
        "Tensors are simply multidimensional arrays\n",
        "\n",
        "* A scalar (a number) is a $0-dim$ array;\n",
        "* a vector is a $1-dim$ array;\n",
        "* a matrix is a $2-dim$ array;\n",
        "* ..."
      ]
    },
    {
      "cell_type": "code",
      "metadata": {
        "id": "e4V6Ie6OMoB2"
      },
      "source": [
        "import torch"
      ],
      "execution_count": null,
      "outputs": []
    },
    {
      "cell_type": "code",
      "metadata": {
        "id": "_RoM8DevMzqj",
        "outputId": "410648aa-dbc1-4f4f-f906-1af3a8c2db06",
        "colab": {
          "base_uri": "https://localhost:8080/",
          "height": 176
        }
      },
      "source": [
        "s = torch.tensor(1)\n",
        "v = torch.tensor([1,2,3])\n",
        "m = torch.tensor([[1,2], [3,4]])\n",
        "t = torch.tensor([[[1,2,3], [4,5,6]], [[7,8,9], [10,11,12]]])\n",
        "\n",
        "print(s)\n",
        "print(v)\n",
        "print(m)\n",
        "print(t)"
      ],
      "execution_count": null,
      "outputs": [
        {
          "output_type": "stream",
          "text": [
            "tensor(1)\n",
            "tensor([1, 2, 3])\n",
            "tensor([[1, 2],\n",
            "        [3, 4]])\n",
            "tensor([[[ 1,  2,  3],\n",
            "         [ 4,  5,  6]],\n",
            "\n",
            "        [[ 7,  8,  9],\n",
            "         [10, 11, 12]]])\n"
          ],
          "name": "stdout"
        }
      ]
    },
    {
      "cell_type": "markdown",
      "metadata": {
        "id": "4-j26Q7hPzdg"
      },
      "source": [
        "We can extract the size of the tensor by simply"
      ]
    },
    {
      "cell_type": "code",
      "metadata": {
        "id": "DfovTKBTNKEk",
        "outputId": "709bc46c-06c2-4249-9c81-71b1896a6ef4",
        "colab": {
          "base_uri": "https://localhost:8080/",
          "height": 34
        }
      },
      "source": [
        "s.size(), v.size(), m.size(), t.size()"
      ],
      "execution_count": null,
      "outputs": [
        {
          "output_type": "execute_result",
          "data": {
            "text/plain": [
              "(torch.Size([]), torch.Size([3]), torch.Size([2, 2]), torch.Size([2, 2, 3]))"
            ]
          },
          "metadata": {
            "tags": []
          },
          "execution_count": 11
        }
      ]
    },
    {
      "cell_type": "markdown",
      "metadata": {
        "id": "0yKkxGU0P78b"
      },
      "source": [
        "We can also generate a random vector of arbitrary size"
      ]
    },
    {
      "cell_type": "code",
      "metadata": {
        "id": "3VShwK4mQBif",
        "outputId": "2be73302-e5a7-4f3b-b3b3-06e5fd0c102a",
        "colab": {
          "base_uri": "https://localhost:8080/",
          "height": 105
        }
      },
      "source": [
        "d = torch.rand([2, 2, 2])\n",
        "d"
      ],
      "execution_count": null,
      "outputs": [
        {
          "output_type": "execute_result",
          "data": {
            "text/plain": [
              "tensor([[[0.4235, 0.6670],\n",
              "         [0.2222, 0.3949]],\n",
              "\n",
              "        [[0.5163, 0.9313],\n",
              "         [0.9348, 0.7980]]])"
            ]
          },
          "metadata": {
            "tags": []
          },
          "execution_count": 12
        }
      ]
    },
    {
      "cell_type": "markdown",
      "metadata": {
        "id": "-WpeUB-9QP08"
      },
      "source": [
        "When you have more than one tensor you can perform algebric operations (and then convert it to a numpy array)"
      ]
    },
    {
      "cell_type": "code",
      "metadata": {
        "id": "5i2pi381QX_Z",
        "outputId": "b34611db-62fb-492a-9609-160aeb99db61",
        "colab": {
          "base_uri": "https://localhost:8080/",
          "height": 70
        }
      },
      "source": [
        "x = torch.randn([3, 5])  # random normal\n",
        "y = torch.randn([5, 4])\n",
        "z = x @ y # matrix multiplication\n",
        "\n",
        "print(z.numpy())"
      ],
      "execution_count": null,
      "outputs": [
        {
          "output_type": "stream",
          "text": [
            "[[-2.2723956   0.05799705 -0.8286556   0.2691786 ]\n",
            " [-2.0337021   1.7422463  -0.15035552 -1.9155627 ]\n",
            " [-0.33266476 -0.13925168  0.16327095  1.4322754 ]]\n"
          ],
          "name": "stdout"
        }
      ]
    },
    {
      "cell_type": "code",
      "metadata": {
        "id": "jCOfSQU3AJvb",
        "outputId": "360772df-e7ef-4103-8c9f-1b9e6ece8ed9",
        "colab": {
          "base_uri": "https://localhost:8080/",
          "height": 34
        }
      },
      "source": [
        "z.size()"
      ],
      "execution_count": null,
      "outputs": [
        {
          "output_type": "execute_result",
          "data": {
            "text/plain": [
              "torch.Size([3, 4])"
            ]
          },
          "metadata": {
            "tags": []
          },
          "execution_count": 14
        }
      ]
    },
    {
      "cell_type": "markdown",
      "metadata": {
        "id": "hPa71oqwB2Qr"
      },
      "source": [
        "### Automatic Differentiation\n",
        "\n",
        "One of the advantage of PyTorch over NumPy is its automatic differentiation which is very useful in optimization applications, such as neural network backpropagation. \n",
        "\n",
        "#### Example 1 (simple)\n",
        "\n",
        "Suppose to have a composite function which is a chain of two functions: g(u(x)). To compute the derivative of g with respect to x we can use the chain rule: \n",
        "\n",
        "$$\\frac{dg}{dx} = \\frac{dg}{du} \\cdot \\frac{du}{dx}$$\n",
        "\n",
        "PyTorch can analytically compute the derivatives for us.\n",
        "\n",
        "To compute the derivatives in PyTorch first we create a tensor and set its `requires_grad = true`. We can use tensor operations to define our functions. Let us give the following example"
      ]
    },
    {
      "cell_type": "code",
      "metadata": {
        "id": "cHtiQO2cFNRc"
      },
      "source": [
        "x = torch.tensor(0.5, requires_grad=True)\n",
        "\n",
        "def u(x):\n",
        "  return x * x\n",
        "\n",
        "def g(u):\n",
        "  return -2*u"
      ],
      "execution_count": null,
      "outputs": []
    },
    {
      "cell_type": "markdown",
      "metadata": {
        "id": "ncOlMx8GFfyK"
      },
      "source": [
        "Our composite function is $g(x) = -2 x^2$, whose derivative is $dg/dx = - 4 x$. At the point $x = 0.5$ its value is $-2$. Let us check this result"
      ]
    },
    {
      "cell_type": "code",
      "metadata": {
        "id": "VrpBOHtYGGiK",
        "outputId": "f65edb61-094a-4c6c-8a84-6077318e9541",
        "colab": {
          "base_uri": "https://localhost:8080/",
          "height": 34
        }
      },
      "source": [
        "dg_dx = torch.autograd.grad(g(u(x)), x)[0]\n",
        "print(dg_dx) "
      ],
      "execution_count": null,
      "outputs": [
        {
          "output_type": "stream",
          "text": [
            "tensor(-2.)\n"
          ],
          "name": "stdout"
        }
      ]
    },
    {
      "cell_type": "markdown",
      "metadata": {
        "id": "qejkRnZHGkpo"
      },
      "source": [
        "#### Example 2\n",
        "\n",
        "Assume that we have samples from a curve (say $f(x) = 3x^2 + 5$) and we want to estimate f(x) based on these samples. We define a parametric function $g(x, w) = w_0 x^2 + w_1 x + w_2$, which is a function of the input x and parameters w. The goal is then to find the parameters such that $g(x, w) ≈ f(x)$. \n"
      ]
    },
    {
      "cell_type": "code",
      "metadata": {
        "id": "4lWG9bd1MDba",
        "outputId": "dfc57f54-9d31-4a15-9131-03e607b0cd4a",
        "colab": {
          "base_uri": "https://localhost:8080/",
          "height": 125
        }
      },
      "source": [
        "# Assuming we know that the desired function is a polynomial of 2nd degree, we\n",
        "# allocate a vector of size 3 to hold the coefficients and initialize it with\n",
        "# random noise.\n",
        "w = torch.tensor(torch.randn([3, 1]), requires_grad=True)\n",
        "\n",
        "# We use the Adam optimizer with learning rate set to 0.1 to minimize the loss.\n",
        "opt = torch.optim.Adam([w], 0.1)\n",
        "\n",
        "def model(x):\n",
        "  f = torch.stack([x*x, x , torch.ones_like(x)], 1)\n",
        "  pred = torch.squeeze(f @ w, 1)\n",
        "  return pred\n",
        "\n",
        "def compute_loss(y, pred):\n",
        "    # The loss is defined to be the mean squared error distance between our\n",
        "    # estimate of y and its true value. \n",
        "    loss = torch.nn.functional.mse_loss(y, pred)\n",
        "    return loss\n",
        "\n",
        "def data_generator():\n",
        "  # Generate some training data (between -10 and 10) based on the true function\n",
        "  x = torch.rand(100) * 20 - 10\n",
        "  y = 3*x*x + 5  \n",
        "  return x, y\n",
        "\n",
        "def train_step():\n",
        "  x, y = data_generator()\n",
        "\n",
        "  pred = model(x)\n",
        "\n",
        "  loss = compute_loss(y, pred)\n",
        "\n",
        "  opt.zero_grad()\n",
        "  loss.backward()\n",
        "  opt.step()\n",
        "\n",
        "for _ in range(1000):\n",
        "    train_step()\n",
        "\n",
        "print(w.detach().numpy())\n"
      ],
      "execution_count": null,
      "outputs": [
        {
          "output_type": "stream",
          "text": [
            "/usr/local/lib/python3.6/dist-packages/ipykernel_launcher.py:4: UserWarning: To copy construct from a tensor, it is recommended to use sourceTensor.clone().detach() or sourceTensor.clone().detach().requires_grad_(True), rather than torch.tensor(sourceTensor).\n",
            "  after removing the cwd from sys.path.\n"
          ],
          "name": "stderr"
        },
        {
          "output_type": "stream",
          "text": [
            "[[ 3.002180e+00]\n",
            " [-6.964267e-04]\n",
            " [ 4.872326e+00]]\n"
          ],
          "name": "stdout"
        }
      ]
    },
    {
      "cell_type": "markdown",
      "metadata": {
        "id": "kdnb0cxE8ioc"
      },
      "source": [
        "## PyTorch CNN Implementation I (Custom Version)"
      ]
    },
    {
      "cell_type": "markdown",
      "metadata": {
        "id": "nVWAJPQMdwse"
      },
      "source": [
        "The main goal of this section is to warm up with PyTorch and more in general the standard pipeline to build a model and its training. We will code exactly the same problem we just solved above but in a PyTorch fashioned way.\n",
        "\n",
        "To find the same results, first we must initialize the weights with the same values."
      ]
    },
    {
      "cell_type": "code",
      "metadata": {
        "id": "QYBZsNBEAHQV"
      },
      "source": [
        "import torch.nn as nn\n",
        "import torch.nn.functional as F\n",
        "import torch"
      ],
      "execution_count": null,
      "outputs": []
    },
    {
      "cell_type": "markdown",
      "metadata": {
        "id": "nl_iXpWgnVgu"
      },
      "source": [
        "#### Convolutions Comparison: our `convolution2d()` vs `F.conv2d()`"
      ]
    },
    {
      "cell_type": "markdown",
      "metadata": {
        "id": "DHnSc9Xmf8ic"
      },
      "source": [
        "Let us check that our 2d-convolution written above in numpy will give us the same results of the built-in PyTorch 2d-convolution `F.conv2d()`. We will not use immediatly `F.conv2d()`, but later on. However, now it is the right time to check it gives the same output of our `convolution2d()`"
      ]
    },
    {
      "cell_type": "code",
      "metadata": {
        "id": "y3aOH0gaSb4A"
      },
      "source": [
        "# Select the same seed\n",
        "np.random.seed(172)\n",
        "#torch.manual_seed(172)\n",
        "\n",
        "# Convolutional kernel weights\n",
        "W = np.random.randn(2,2) #random normal\n",
        "# Dense layer weights\n",
        "V = np.random.randn(4,1)\n",
        "\n",
        "# Convolution\n",
        "conv_numpy = convolution2d(dataset[2], W)"
      ],
      "execution_count": null,
      "outputs": []
    },
    {
      "cell_type": "markdown",
      "metadata": {
        "id": "dmurH1NXgy0m"
      },
      "source": [
        "Now let us compute the PyTorch implementation of the 2d-convolution operation. It is important to\n",
        "\n",
        "* Transform numpy tensors in **torch.tensors**;\n",
        "* set the correct shape (view in PyTorch) for our tensors."
      ]
    },
    {
      "cell_type": "code",
      "metadata": {
        "id": "awQJn_Xgb8ya"
      },
      "source": [
        "dtype = torch.float\n",
        "device = torch.device(\"cpu\")\n",
        "\n",
        "# we must transform all numpy tensors in pytorch tensors\n",
        "dataset = torch.tensor(dataset, device=device, dtype=dtype)\n",
        "Y = torch.tensor(Y, device=device, dtype=dtype)\n",
        "W = torch.tensor(W, device=device, dtype=dtype, requires_grad=True)\n",
        "V = torch.tensor(V, device=device, dtype=dtype, requires_grad=True)\n",
        "\n",
        "# we must reshape tensors according to\n",
        "# image input must be of shape (batch, in_channel, h, w)\n",
        "# kernel must be of shape (out_channel, in_channel, h, w)\n",
        "image = dataset[2].view(1, 1, 3, 3)\n",
        "W = W.view(1,1,2,2)\n",
        "\n",
        "# Convolution\n",
        "conv_pytorch = F.conv2d(image, W)"
      ],
      "execution_count": null,
      "outputs": []
    },
    {
      "cell_type": "markdown",
      "metadata": {
        "id": "hTDpbc15nfdH"
      },
      "source": [
        "Let us compute their differece and see that it is close to zero"
      ]
    },
    {
      "cell_type": "code",
      "metadata": {
        "id": "f9TROc4ilnSR"
      },
      "source": [
        "diff = conv_numpy - conv_pytorch.detach().numpy()\n",
        "\n",
        "assert all(v <= 1e-5 for v in diff.flatten())"
      ],
      "execution_count": null,
      "outputs": []
    },
    {
      "cell_type": "markdown",
      "metadata": {
        "id": "ttNq4-ldrBqa"
      },
      "source": [
        "**About detach...**\n",
        "\n",
        "In order to enable automatic differentiation, PyTorch keeps track of all operations involving tensors for which the gradient may need to be computed (i.e., `require_grad = True`). The operations are recorded as a directed graph. The detach() method constructs a new view on a tensor which is declared not to need gradients, i.e., it is to be excluded from further tracking of operations, and therefore the subgraph involving this view is not recorded."
      ]
    },
    {
      "cell_type": "markdown",
      "metadata": {
        "id": "IdaPEZrsqycn"
      },
      "source": [
        "#### Custom PyTorch Layers: Convolutional and Linear Layer"
      ]
    },
    {
      "cell_type": "markdown",
      "metadata": {
        "id": "Z2fZDNfdhbwy"
      },
      "source": [
        "Now we will build our custom convolutional layer. We want to be sure to reproduce the same results of the previous numpy approach. For this reason we set the same seed. Since numpy and PyTorch have different random generators, we will\n",
        "\n",
        "* use numpy.random function to generate the initial weights;\n",
        "* we will convert them in torch.tensors with **torch.from_numpy**."
      ]
    },
    {
      "cell_type": "code",
      "metadata": {
        "id": "BUTeSeTcnuaH"
      },
      "source": [
        "np.random.seed(172)\n",
        "torch.manual_seed(172)\n",
        "\n",
        "# Convolutional kernel weights\n",
        "kernel_h, kernel_w = 2, 2\n",
        "W = np.random.randn(kernel_h, kernel_w)\n",
        "# Dense layer weights\n",
        "size_in, size_out = 4, 1\n",
        "V = np.random.randn(4,1)\n",
        "\n",
        "class MyConv2dLayer(nn.Module):\n",
        "    \"\"\" Custom Conv layer\"\"\"\n",
        "    def __init__(self, kernel_h = 2, kernel_w = 2):\n",
        "        super().__init__()\n",
        "\n",
        "        self.kernel_h, self.kernel_w = kernel_h, kernel_w\n",
        "\n",
        "        # to keep control of the seed, import weight from numpy\n",
        "        self.W  = nn.Parameter(torch.from_numpy(W).float(), requires_grad=True)\n",
        "\n",
        "        # otherwise this is the correct weights init\n",
        "        #weights = torch.tensor(self.kernel_h, self.kernel_w)\n",
        "        #self.W = nn.Parameter(weights, requires_grad=True)\n",
        "        #torch.nn.init.normal_(self.W, mean=0.0, std=1.0)\n",
        "\n",
        "    def forward(self, x):\n",
        "        W = self.W.view(1, 1, self.kernel_h, self.kernel_w)\n",
        "        out  = F.conv2d(x, W)\n",
        "        return out\n",
        "\n",
        "conv = MyConv2dLayer(kernel_h, kernel_w)\n",
        "\n",
        "# check that we obtain the same result\n",
        "diff = conv(image) - conv_pytorch \n",
        "\n",
        "assert all(v <= 1e-5 for v in diff.flatten())"
      ],
      "execution_count": null,
      "outputs": []
    },
    {
      "cell_type": "markdown",
      "metadata": {
        "id": "QkBNOZQxrIxY"
      },
      "source": [
        "When you build a custom layer (or model), using `nn.Module` you can take advantage of the already present methods. Then, let us check the parameters of `MyConvLayer()`"
      ]
    },
    {
      "cell_type": "code",
      "metadata": {
        "id": "Ei8nIxJB2Jc1",
        "outputId": "e2621704-ef8c-4ae7-9540-66e136624204",
        "colab": {
          "base_uri": "https://localhost:8080/",
          "height": 105
        }
      },
      "source": [
        "list(conv.parameters()), W"
      ],
      "execution_count": null,
      "outputs": [
        {
          "output_type": "execute_result",
          "data": {
            "text/plain": [
              "([Parameter containing:\n",
              "  tensor([[ 1.1561, -1.1876],\n",
              "          [ 0.9290,  0.2715]], requires_grad=True)],\n",
              " array([[ 1.15609793, -1.18758506],\n",
              "        [ 0.92901938,  0.27145336]]))"
            ]
          },
          "metadata": {
            "tags": []
          },
          "execution_count": 23
        }
      ]
    },
    {
      "cell_type": "markdown",
      "metadata": {
        "id": "W6DXaTR8kwAZ"
      },
      "source": [
        "Now it is the turn of the custom linear layer.\n",
        "\n"
      ]
    },
    {
      "cell_type": "code",
      "metadata": {
        "id": "dPHESgNLxFYr",
        "outputId": "4ff910eb-8a20-46f9-d85d-c5fccd0db364",
        "colab": {
          "base_uri": "https://localhost:8080/",
          "height": 34
        }
      },
      "source": [
        "class MyLinearLayer(nn.Module):\n",
        "    \"\"\" Custom Linear layer\"\"\"\n",
        "    def __init__(self, size_in = size_in, size_out = size_out):\n",
        "        super().__init__()\n",
        "\n",
        "        self.size_in, self.size_out = size_in, size_out\n",
        "\n",
        "        # to keep control of the seed\n",
        "        #weights = np.random.randn(self.size_in, self.size_out)\n",
        "        self.V = nn.Parameter(torch.from_numpy(V).float(), requires_grad=True)\n",
        "        #self.V = weights.view(self.size_in, self.size_out)\n",
        "\n",
        "        # otherwise this is the correct weights init\n",
        "        #weights = torch.Tensor(size_out, size_in)\n",
        "        #self.W = nn.Parameter(weights, requires_grad=True)\n",
        "        #torch.nn.init.normal_(self.W, mean=0.0, std=1.0)\n",
        "\n",
        "\n",
        "    def forward(self, x):\n",
        "        V = self.V.view(self.size_in, self.size_out)\n",
        "        #print(x, self.V)\n",
        "        out = torch.mm(x, self.V)\n",
        "        return out \n",
        "\n",
        "linearlay = MyLinearLayer(size_in, size_out)\n",
        "linearlay(conv_pytorch.view(1,4))\n",
        "\n",
        "# Let us check that it gives the same results as the numpy linear layer built before\n",
        "\n",
        "layer_1_act_vec = np.expand_dims(np.reshape(conv_numpy,-1),axis=0) # shape (1,4)\n",
        "layer_2 = layer_1_act_vec.dot(V) \n",
        "\n",
        "torch.tensor(layer_2) - linearlay(conv_pytorch.view(1,4))"
      ],
      "execution_count": null,
      "outputs": [
        {
          "output_type": "execute_result",
          "data": {
            "text/plain": [
              "tensor([[-1.2410e-07]], dtype=torch.float64, grad_fn=<SubBackward0>)"
            ]
          },
          "metadata": {
            "tags": []
          },
          "execution_count": 24
        }
      ]
    },
    {
      "cell_type": "code",
      "metadata": {
        "id": "W3m0pKV027ew",
        "outputId": "08d3d098-e7eb-4654-b8a9-3fe154ad76b3",
        "colab": {
          "base_uri": "https://localhost:8080/",
          "height": 158
        }
      },
      "source": [
        "list(linearlay.parameters()), V"
      ],
      "execution_count": null,
      "outputs": [
        {
          "output_type": "execute_result",
          "data": {
            "text/plain": [
              "([Parameter containing:\n",
              "  tensor([[-1.0981],\n",
              "          [-1.1772],\n",
              "          [-0.2968],\n",
              "          [-1.6425]], requires_grad=True)], array([[-1.09807964],\n",
              "        [-1.17721229],\n",
              "        [-0.29675542],\n",
              "        [-1.64252144]]))"
            ]
          },
          "metadata": {
            "tags": []
          },
          "execution_count": 25
        }
      ]
    },
    {
      "cell_type": "markdown",
      "metadata": {
        "id": "sA5w4aummryu"
      },
      "source": [
        "So far we have built two custom layers. Now we will use them for our simple CNN that share the same structure of the numpy implementation"
      ]
    },
    {
      "cell_type": "code",
      "metadata": {
        "id": "uzTTTXfJoBVd"
      },
      "source": [
        "class MySimpleCNN(nn.Module):\n",
        "    def __init__(self):\n",
        "        super(MySimpleCNN, self).__init__()\n",
        "        self.conv2d = MyConv2dLayer(2,2)\n",
        "        self.linear = MyLinearLayer(4, 1)\n",
        "\n",
        "    def forward(self, x):\n",
        "        #x_reshaped = x.view(1,1,3,3)\n",
        "        layer1_out = torch.tanh(self.conv2d(x)) # [1, 1, 2, 2]\n",
        "        layer1_out_flat = layer1_out.view(1, 4) # [1, 1, 4]\n",
        "        y_pred = torch.sigmoid(self.linear(layer1_out_flat))\n",
        "        return y_pred.squeeze(-1).squeeze(-1)"
      ],
      "execution_count": null,
      "outputs": []
    },
    {
      "cell_type": "markdown",
      "metadata": {
        "id": "4VMmtYpZCtdw"
      },
      "source": [
        "Let us now check (again!) that the models (numpy and pytorch) give identical outputs"
      ]
    },
    {
      "cell_type": "code",
      "metadata": {
        "id": "JDZoqfYknfa9",
        "outputId": "d462bdac-055d-4a4f-e821-5e41757db2db",
        "colab": {
          "base_uri": "https://localhost:8080/",
          "height": 34
        }
      },
      "source": [
        "model = MySimpleCNN()\n",
        "list(model.parameters()), W, V\n",
        "\n",
        "# test pytorch model on image 0\n",
        "init_model_pred_pytorch = model(dataset[0].view(1, 1, 3, 3))\n",
        "\n",
        "# Diff initial model predictions (numpy vs pytorch)\n",
        "init_model_pred_pytorch - torch.tensor(init_model_pred_numpy)"
      ],
      "execution_count": null,
      "outputs": [
        {
          "output_type": "execute_result",
          "data": {
            "text/plain": [
              "tensor([[-4.0474e-08]], dtype=torch.float64, grad_fn=<SubBackward0>)"
            ]
          },
          "metadata": {
            "tags": []
          },
          "execution_count": 27
        }
      ]
    },
    {
      "cell_type": "markdown",
      "metadata": {
        "id": "JnCLvcy3DO5b"
      },
      "source": [
        "When we built the numpy training we used as loss function the mean square error. Let us check that the built-in PyTorch `nn.MSELoss()` return the same value"
      ]
    },
    {
      "cell_type": "code",
      "metadata": {
        "id": "K3ttQXdNycA8",
        "outputId": "1d5cccee-b3a0-45db-bd5d-1ef889dd37f0",
        "colab": {
          "base_uri": "https://localhost:8080/",
          "height": 34
        }
      },
      "source": [
        "loss_fn = nn.MSELoss(reduction = 'mean')\n",
        "pow((np.array([0.70]) - np.array([0.83])),2), loss_fn(torch.tensor([0.70]), torch.tensor([0.83]))\n"
      ],
      "execution_count": null,
      "outputs": [
        {
          "output_type": "execute_result",
          "data": {
            "text/plain": [
              "(array([0.0169]), tensor(0.0169))"
            ]
          },
          "metadata": {
            "tags": []
          },
          "execution_count": 28
        }
      ]
    },
    {
      "cell_type": "markdown",
      "metadata": {
        "id": "yNXxvCM9DtJ6"
      },
      "source": [
        "Now we are ready to start the training using our customized PyTorch model"
      ]
    },
    {
      "cell_type": "code",
      "metadata": {
        "id": "NmwghXJ6tTH8",
        "outputId": "3e059258-1172-4738-a1ef-d8cb88e22462",
        "colab": {
          "base_uri": "https://localhost:8080/",
          "height": 72
        }
      },
      "source": [
        "# Settings\n",
        "num_epoch = 100\n",
        "learning_rate = 0.5\n",
        "\n",
        "model = MySimpleCNN()\n",
        "\n",
        "\n",
        "loss_fn = nn.MSELoss(reduction = 'mean')\n",
        "# Use the optim package to define an Optimizer that will update the weights of\n",
        "# the model for us. Here we will use Adam; the optim package contains many other\n",
        "# optimization algorithms. The first argument to the Adam constructor tells the\n",
        "# optimizer which Tensors it should update.\n",
        "# optimizer = torch.optim.Adam(model.parameters(), lr=learning_rate)\n",
        "\n",
        "\n",
        "# ----- TRAINING -------\n",
        "for iter in range(num_epoch):\n",
        "    for i in range(len(dataset)):\n",
        "      \n",
        "      # set the correct shape for the image\n",
        "      image = dataset[i].view(1, 1, 3, 3)\n",
        "\n",
        "      model_pred = model(image)\n",
        "      #print(model_pred , Y[i])\n",
        "      \n",
        "      loss = loss_fn(model_pred, Y[i])\n",
        "\n",
        "      # Zero the gradients before running the backward pass.\n",
        "      model.zero_grad()\n",
        "\n",
        "      # Backward pass: compute gradient of the loss with respect to all the learnable\n",
        "      # parameters of the model. Internally, the parameters of each Module are stored\n",
        "      # in Tensors with requires_grad=True, so this call will compute gradients for\n",
        "      # all learnable parameters in the model.\n",
        "      loss.backward()\n",
        "\n",
        "      # In alternative of optimizer step using torch.optim:\n",
        "      # Update the weights using gradient descent (almost manually). Each parameter is a Tensor, so\n",
        "      # we can access its gradients like we did before.\n",
        "      # torch.no_grad(): it temporarily sets all the requires_grad flag to false. If we omit it,\n",
        "      # then weight update step will be added to the computation graph of the model which is not desired.\n",
        "      # This will simply update their values without changing their gradients.\n",
        "      with torch.no_grad(): \n",
        "          for param in model.parameters():\n",
        "              param -= learning_rate * param.grad\n"
      ],
      "execution_count": null,
      "outputs": [
        {
          "output_type": "stream",
          "text": [
            "/usr/local/lib/python3.6/dist-packages/torch/nn/modules/loss.py:445: UserWarning: Using a target size (torch.Size([1])) that is different to the input size (torch.Size([])). This will likely lead to incorrect results due to broadcasting. Please ensure they have the same size.\n",
            "  return F.mse_loss(input, target, reduction=self.reduction)\n"
          ],
          "name": "stderr"
        }
      ]
    },
    {
      "cell_type": "markdown",
      "metadata": {
        "id": "zHKA9Oj3jV9H"
      },
      "source": [
        "Let us now check the ouput differences between numpy and PyTorch approaches"
      ]
    },
    {
      "cell_type": "code",
      "metadata": {
        "id": "2Em49E1cLaoH",
        "outputId": "58ba01a3-5654-440b-b7c7-8f1ff0957083",
        "colab": {
          "base_uri": "https://localhost:8080/",
          "height": 141
        }
      },
      "source": [
        "list(model.parameters())"
      ],
      "execution_count": null,
      "outputs": [
        {
          "output_type": "execute_result",
          "data": {
            "text/plain": [
              "[Parameter containing:\n",
              " tensor([[ 0.1872, -2.1565],\n",
              "         [ 0.4040, -0.2535]], requires_grad=True), Parameter containing:\n",
              " tensor([[-1.1267],\n",
              "         [-1.2058],\n",
              "         [-0.1355],\n",
              "         [-1.4813]], requires_grad=True)]"
            ]
          },
          "metadata": {
            "tags": []
          },
          "execution_count": 30
        }
      ]
    },
    {
      "cell_type": "code",
      "metadata": {
        "id": "Q_01qmdsbE-M"
      },
      "source": [
        "diff = list(model.parameters())[0].detach().numpy() - W_numpy\n",
        "\n",
        "assert all(v <= 1e-5 for v in diff.flatten())"
      ],
      "execution_count": null,
      "outputs": []
    },
    {
      "cell_type": "code",
      "metadata": {
        "id": "c_UQByoOhtks"
      },
      "source": [
        "diff = list(model.parameters())[1].detach().numpy() - V_numpy\n",
        "\n",
        "assert all(v <= 1e-5 for v in diff.flatten())"
      ],
      "execution_count": null,
      "outputs": []
    },
    {
      "cell_type": "code",
      "metadata": {
        "id": "7GsnFST-wVTE",
        "outputId": "a57e2a4c-03a6-4a26-bdc9-82820aaabf64",
        "colab": {
          "base_uri": "https://localhost:8080/",
          "height": 52
        }
      },
      "source": [
        "res = []\n",
        "\n",
        "for i in range(len(dataset)):\n",
        "  image = dataset[i].view(1, 1, 3, 3)\n",
        "  model_pred = model(image)\n",
        "  pred = model_pred.detach().numpy()\n",
        "  res.append(pred)\n",
        "\n",
        "print(res)\n",
        "print(Y.squeeze(-1).numpy())"
      ],
      "execution_count": null,
      "outputs": [
        {
          "output_type": "stream",
          "text": [
            "[array(0.50179565, dtype=float32), array(0.770482, dtype=float32), array(0.8813068, dtype=float32), array(0.97694844, dtype=float32)]\n",
            "[0.53 0.77 0.88 1.  ]\n"
          ],
          "name": "stdout"
        }
      ]
    },
    {
      "cell_type": "code",
      "metadata": {
        "id": "4uVcbGiRI1s_"
      },
      "source": [
        "diff = list(res) - final_out  # final_out contains the predictions of the numpy model\n",
        "\n",
        "assert all(v <= 1e-5 for v in diff)"
      ],
      "execution_count": null,
      "outputs": []
    },
    {
      "cell_type": "markdown",
      "metadata": {
        "id": "jrEzaKtzLdMN"
      },
      "source": [
        "## PyTorch CNN Implementation II"
      ]
    },
    {
      "cell_type": "markdown",
      "metadata": {
        "id": "pgk-IVZ2nk2c"
      },
      "source": [
        "Below, we will repeat what done so far but \n",
        "\n",
        "* without using custom layers. We will use PyTorch built-in convolutional and linear layers: `nn.Conv2d()` and `cc.Linear()` ;\n",
        "\n",
        "* using `torch.optim` that will take care for us of stochastic gradient descend.\n",
        "\n",
        "Note: using `nn.Conv2d()` and `cc.Linear()`, we will not expect exact results with respect to previous cases. The reason is that, as mentioned above, built-in PyTorch functions have internal random initialization which, given a seed, is different from numpy."
      ]
    },
    {
      "cell_type": "code",
      "metadata": {
        "id": "N84B-nFEn1F9"
      },
      "source": [
        "class SimpleCNN(nn.Module):\n",
        "    def __init__(self):\n",
        "        super(SimpleCNN, self).__init__()\n",
        "        # PyTorch built-in conv2d and linear layers\n",
        "        self.conv2d = nn.Conv2d(1, 1, (2,2)) # channel_in, channel_out, kernel_size\n",
        "        self.linear = nn.Linear(4, 1)\n",
        "\n",
        "    def forward(self, x):\n",
        "        layer1_out = torch.tanh(self.conv2d(x)) # [1, 1, 2, 2]\n",
        "        layer1_out_flat = layer1_out.view(1, 4) # [1, 1, 4]\n",
        "        y_pred = torch.sigmoid(self.linear(layer1_out_flat))\n",
        "        return y_pred.squeeze(-1).squeeze(-1)"
      ],
      "execution_count": null,
      "outputs": []
    },
    {
      "cell_type": "code",
      "metadata": {
        "id": "lx1CvDLcWAdz",
        "outputId": "f47343a3-cd95-40e0-85ca-0f32a8fb2270",
        "colab": {
          "base_uri": "https://localhost:8080/",
          "height": 72
        }
      },
      "source": [
        "# Settings\n",
        "num_epoch = 100\n",
        "learning_rate = 0.05\n",
        "\n",
        "model = SimpleCNN()\n",
        "\n",
        "\n",
        "loss_fn = nn.MSELoss(reduction = 'mean')\n",
        "\n",
        "# Use the optim package to define an Optimizer that will update the weights of\n",
        "# the model for us. Here we will use Adam; the optim package contains many other\n",
        "# optimization algorithms. The first argument to the Adam constructor tells the\n",
        "# optimizer which Tensors it should update.\n",
        "optimizer = torch.optim.Adam(model.parameters(), lr=learning_rate)\n",
        "\n",
        "\n",
        "# ----- TRAINING -------\n",
        "for iter in range(num_epoch):\n",
        "    for i in range(len(dataset)):\n",
        "      \n",
        "      # set the correct shape for the image\n",
        "      image = dataset[i].view(1, 1, 3, 3)\n",
        "\n",
        "      model_pred = model(image)\n",
        "      #print(model_pred , Y[i])\n",
        "      \n",
        "      loss = loss_fn(model_pred, Y[i])\n",
        "\n",
        "      # Before the backward pass, use the optimizer object to zero all of the\n",
        "      # gradients for the variables it will update (which are the learnable\n",
        "      # weights of the model). This is because by default, gradients are\n",
        "      # accumulated in buffers( i.e, not overwritten) whenever .backward()\n",
        "      # is called. Checkout docs of torch.autograd.backward for more details.\n",
        "      optimizer.zero_grad()\n",
        "\n",
        "      # NOTE: What is the difference between model.zero_grad() and optimizer.zero_grad()?\n",
        "      # The distinction is useful when you have multiple models in the same optimizer, \n",
        "      # or multiple optimizer for different part of their model. In these cases you can have \n",
        "      # more freedom and choose what to zero grad.\n",
        "\n",
        "      # Backward pass: compute gradient of the loss with respect to model\n",
        "      # parameters\n",
        "      loss.backward()\n",
        "\n",
        "      # Calling the step function on an Optimizer makes an update to its\n",
        "      # parameters\n",
        "      optimizer.step()"
      ],
      "execution_count": null,
      "outputs": [
        {
          "output_type": "stream",
          "text": [
            "/usr/local/lib/python3.6/dist-packages/torch/nn/modules/loss.py:445: UserWarning: Using a target size (torch.Size([1])) that is different to the input size (torch.Size([])). This will likely lead to incorrect results due to broadcasting. Please ensure they have the same size.\n",
            "  return F.mse_loss(input, target, reduction=self.reduction)\n"
          ],
          "name": "stderr"
        }
      ]
    },
    {
      "cell_type": "code",
      "metadata": {
        "id": "cXT6VE_VeK8U",
        "outputId": "6651fe2f-cbb0-4370-fc95-c49bd10761e8",
        "colab": {
          "base_uri": "https://localhost:8080/",
          "height": 52
        }
      },
      "source": [
        "res = []\n",
        "\n",
        "for i in range(len(dataset)):\n",
        "  image = dataset[i].view(1, 1, 3, 3)\n",
        "  model_pred = model(image)\n",
        "  pred = model_pred.detach().numpy()\n",
        "  res.append(pred)\n",
        "\n",
        "print(res)\n",
        "print(Y.squeeze(-1).numpy())"
      ],
      "execution_count": null,
      "outputs": [
        {
          "output_type": "stream",
          "text": [
            "[array(0.529691, dtype=float32), array(0.7699678, dtype=float32), array(0.8840444, dtype=float32), array(0.97438216, dtype=float32)]\n",
            "[0.53 0.77 0.88 1.  ]\n"
          ],
          "name": "stdout"
        }
      ]
    },
    {
      "cell_type": "markdown",
      "metadata": {
        "id": "jRIGJzTTonnB"
      },
      "source": [
        "That is great! In this case the results do not match exactly because of the different weights initialization of built-in PyTorch layers parameters."
      ]
    }
  ]
}