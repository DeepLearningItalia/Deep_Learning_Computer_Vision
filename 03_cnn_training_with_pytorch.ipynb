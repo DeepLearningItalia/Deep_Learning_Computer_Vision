{
  "nbformat": 4,
  "nbformat_minor": 0,
  "metadata": {
    "colab": {
      "name": "03_cnn_training_with_pytorch.ipynb",
      "provenance": [],
      "collapsed_sections": [],
      "authorship_tag": "ABX9TyM25zLJHW54SKuHh8xFT2e1",
      "include_colab_link": true
    },
    "kernelspec": {
      "name": "python3",
      "display_name": "Python 3"
    },
    "accelerator": "GPU",
    "widgets": {
      "application/vnd.jupyter.widget-state+json": {
        "607877f88ffa4c3b8ac1f0ad203ab2bb": {
          "model_module": "@jupyter-widgets/controls",
          "model_name": "HBoxModel",
          "state": {
            "_view_name": "HBoxView",
            "_dom_classes": [],
            "_model_name": "HBoxModel",
            "_view_module": "@jupyter-widgets/controls",
            "_model_module_version": "1.5.0",
            "_view_count": null,
            "_view_module_version": "1.5.0",
            "box_style": "",
            "layout": "IPY_MODEL_7f82eb2625cc4aa29890ca2bb5690c11",
            "_model_module": "@jupyter-widgets/controls",
            "children": [
              "IPY_MODEL_fd10646935914980ace2da47c1c05a2a",
              "IPY_MODEL_e4b47b341d7644789ce56c402acd79c8"
            ]
          }
        },
        "7f82eb2625cc4aa29890ca2bb5690c11": {
          "model_module": "@jupyter-widgets/base",
          "model_name": "LayoutModel",
          "state": {
            "_view_name": "LayoutView",
            "grid_template_rows": null,
            "right": null,
            "justify_content": null,
            "_view_module": "@jupyter-widgets/base",
            "overflow": null,
            "_model_module_version": "1.2.0",
            "_view_count": null,
            "flex_flow": null,
            "width": null,
            "min_width": null,
            "border": null,
            "align_items": null,
            "bottom": null,
            "_model_module": "@jupyter-widgets/base",
            "top": null,
            "grid_column": null,
            "overflow_y": null,
            "overflow_x": null,
            "grid_auto_flow": null,
            "grid_area": null,
            "grid_template_columns": null,
            "flex": null,
            "_model_name": "LayoutModel",
            "justify_items": null,
            "grid_row": null,
            "max_height": null,
            "align_content": null,
            "visibility": null,
            "align_self": null,
            "height": null,
            "min_height": null,
            "padding": null,
            "grid_auto_rows": null,
            "grid_gap": null,
            "max_width": null,
            "order": null,
            "_view_module_version": "1.2.0",
            "grid_template_areas": null,
            "object_position": null,
            "object_fit": null,
            "grid_auto_columns": null,
            "margin": null,
            "display": null,
            "left": null
          }
        },
        "fd10646935914980ace2da47c1c05a2a": {
          "model_module": "@jupyter-widgets/controls",
          "model_name": "FloatProgressModel",
          "state": {
            "_view_name": "ProgressView",
            "style": "IPY_MODEL_9a13b65c32644a1c9bdd69cd9dda623c",
            "_dom_classes": [],
            "description": "",
            "_model_name": "FloatProgressModel",
            "bar_style": "success",
            "max": 1,
            "_view_module": "@jupyter-widgets/controls",
            "_model_module_version": "1.5.0",
            "value": 1,
            "_view_count": null,
            "_view_module_version": "1.5.0",
            "orientation": "horizontal",
            "min": 0,
            "description_tooltip": null,
            "_model_module": "@jupyter-widgets/controls",
            "layout": "IPY_MODEL_ecef3d0b5d8a45fd87c7aebf2b31dde3"
          }
        },
        "e4b47b341d7644789ce56c402acd79c8": {
          "model_module": "@jupyter-widgets/controls",
          "model_name": "HTMLModel",
          "state": {
            "_view_name": "HTMLView",
            "style": "IPY_MODEL_18189b69ffdb482b959b7a7a0c867b45",
            "_dom_classes": [],
            "description": "",
            "_model_name": "HTMLModel",
            "placeholder": "​",
            "_view_module": "@jupyter-widgets/controls",
            "_model_module_version": "1.5.0",
            "value": " 9920512/? [00:04&lt;00:00, 2106769.37it/s]",
            "_view_count": null,
            "_view_module_version": "1.5.0",
            "description_tooltip": null,
            "_model_module": "@jupyter-widgets/controls",
            "layout": "IPY_MODEL_e08e5cd5cb6f4e2cb69524fea25ce103"
          }
        },
        "9a13b65c32644a1c9bdd69cd9dda623c": {
          "model_module": "@jupyter-widgets/controls",
          "model_name": "ProgressStyleModel",
          "state": {
            "_view_name": "StyleView",
            "_model_name": "ProgressStyleModel",
            "description_width": "initial",
            "_view_module": "@jupyter-widgets/base",
            "_model_module_version": "1.5.0",
            "_view_count": null,
            "_view_module_version": "1.2.0",
            "bar_color": null,
            "_model_module": "@jupyter-widgets/controls"
          }
        },
        "ecef3d0b5d8a45fd87c7aebf2b31dde3": {
          "model_module": "@jupyter-widgets/base",
          "model_name": "LayoutModel",
          "state": {
            "_view_name": "LayoutView",
            "grid_template_rows": null,
            "right": null,
            "justify_content": null,
            "_view_module": "@jupyter-widgets/base",
            "overflow": null,
            "_model_module_version": "1.2.0",
            "_view_count": null,
            "flex_flow": null,
            "width": null,
            "min_width": null,
            "border": null,
            "align_items": null,
            "bottom": null,
            "_model_module": "@jupyter-widgets/base",
            "top": null,
            "grid_column": null,
            "overflow_y": null,
            "overflow_x": null,
            "grid_auto_flow": null,
            "grid_area": null,
            "grid_template_columns": null,
            "flex": null,
            "_model_name": "LayoutModel",
            "justify_items": null,
            "grid_row": null,
            "max_height": null,
            "align_content": null,
            "visibility": null,
            "align_self": null,
            "height": null,
            "min_height": null,
            "padding": null,
            "grid_auto_rows": null,
            "grid_gap": null,
            "max_width": null,
            "order": null,
            "_view_module_version": "1.2.0",
            "grid_template_areas": null,
            "object_position": null,
            "object_fit": null,
            "grid_auto_columns": null,
            "margin": null,
            "display": null,
            "left": null
          }
        },
        "18189b69ffdb482b959b7a7a0c867b45": {
          "model_module": "@jupyter-widgets/controls",
          "model_name": "DescriptionStyleModel",
          "state": {
            "_view_name": "StyleView",
            "_model_name": "DescriptionStyleModel",
            "description_width": "",
            "_view_module": "@jupyter-widgets/base",
            "_model_module_version": "1.5.0",
            "_view_count": null,
            "_view_module_version": "1.2.0",
            "_model_module": "@jupyter-widgets/controls"
          }
        },
        "e08e5cd5cb6f4e2cb69524fea25ce103": {
          "model_module": "@jupyter-widgets/base",
          "model_name": "LayoutModel",
          "state": {
            "_view_name": "LayoutView",
            "grid_template_rows": null,
            "right": null,
            "justify_content": null,
            "_view_module": "@jupyter-widgets/base",
            "overflow": null,
            "_model_module_version": "1.2.0",
            "_view_count": null,
            "flex_flow": null,
            "width": null,
            "min_width": null,
            "border": null,
            "align_items": null,
            "bottom": null,
            "_model_module": "@jupyter-widgets/base",
            "top": null,
            "grid_column": null,
            "overflow_y": null,
            "overflow_x": null,
            "grid_auto_flow": null,
            "grid_area": null,
            "grid_template_columns": null,
            "flex": null,
            "_model_name": "LayoutModel",
            "justify_items": null,
            "grid_row": null,
            "max_height": null,
            "align_content": null,
            "visibility": null,
            "align_self": null,
            "height": null,
            "min_height": null,
            "padding": null,
            "grid_auto_rows": null,
            "grid_gap": null,
            "max_width": null,
            "order": null,
            "_view_module_version": "1.2.0",
            "grid_template_areas": null,
            "object_position": null,
            "object_fit": null,
            "grid_auto_columns": null,
            "margin": null,
            "display": null,
            "left": null
          }
        },
        "5d6e09535a694a388d168e08aa4f7246": {
          "model_module": "@jupyter-widgets/controls",
          "model_name": "HBoxModel",
          "state": {
            "_view_name": "HBoxView",
            "_dom_classes": [],
            "_model_name": "HBoxModel",
            "_view_module": "@jupyter-widgets/controls",
            "_model_module_version": "1.5.0",
            "_view_count": null,
            "_view_module_version": "1.5.0",
            "box_style": "",
            "layout": "IPY_MODEL_088681b4d06c424e9f68df4a5cebd1fa",
            "_model_module": "@jupyter-widgets/controls",
            "children": [
              "IPY_MODEL_67c6581f6f66448a932c387f54d4a32d",
              "IPY_MODEL_342cc4a904984265910ee798765c4d69"
            ]
          }
        },
        "088681b4d06c424e9f68df4a5cebd1fa": {
          "model_module": "@jupyter-widgets/base",
          "model_name": "LayoutModel",
          "state": {
            "_view_name": "LayoutView",
            "grid_template_rows": null,
            "right": null,
            "justify_content": null,
            "_view_module": "@jupyter-widgets/base",
            "overflow": null,
            "_model_module_version": "1.2.0",
            "_view_count": null,
            "flex_flow": null,
            "width": null,
            "min_width": null,
            "border": null,
            "align_items": null,
            "bottom": null,
            "_model_module": "@jupyter-widgets/base",
            "top": null,
            "grid_column": null,
            "overflow_y": null,
            "overflow_x": null,
            "grid_auto_flow": null,
            "grid_area": null,
            "grid_template_columns": null,
            "flex": null,
            "_model_name": "LayoutModel",
            "justify_items": null,
            "grid_row": null,
            "max_height": null,
            "align_content": null,
            "visibility": null,
            "align_self": null,
            "height": null,
            "min_height": null,
            "padding": null,
            "grid_auto_rows": null,
            "grid_gap": null,
            "max_width": null,
            "order": null,
            "_view_module_version": "1.2.0",
            "grid_template_areas": null,
            "object_position": null,
            "object_fit": null,
            "grid_auto_columns": null,
            "margin": null,
            "display": null,
            "left": null
          }
        },
        "67c6581f6f66448a932c387f54d4a32d": {
          "model_module": "@jupyter-widgets/controls",
          "model_name": "FloatProgressModel",
          "state": {
            "_view_name": "ProgressView",
            "style": "IPY_MODEL_a70d142c118f44e9a7976c6a5403ab0b",
            "_dom_classes": [],
            "description": "  0%",
            "_model_name": "FloatProgressModel",
            "bar_style": "info",
            "max": 1,
            "_view_module": "@jupyter-widgets/controls",
            "_model_module_version": "1.5.0",
            "value": 0,
            "_view_count": null,
            "_view_module_version": "1.5.0",
            "orientation": "horizontal",
            "min": 0,
            "description_tooltip": null,
            "_model_module": "@jupyter-widgets/controls",
            "layout": "IPY_MODEL_2c7796eb5a754263ac9e85e4e5940c73"
          }
        },
        "342cc4a904984265910ee798765c4d69": {
          "model_module": "@jupyter-widgets/controls",
          "model_name": "HTMLModel",
          "state": {
            "_view_name": "HTMLView",
            "style": "IPY_MODEL_31734f484a4745ab849800daaf559f54",
            "_dom_classes": [],
            "description": "",
            "_model_name": "HTMLModel",
            "placeholder": "​",
            "_view_module": "@jupyter-widgets/controls",
            "_model_module_version": "1.5.0",
            "value": " 0/28881 [00:00&lt;?, ?it/s]",
            "_view_count": null,
            "_view_module_version": "1.5.0",
            "description_tooltip": null,
            "_model_module": "@jupyter-widgets/controls",
            "layout": "IPY_MODEL_d7d21bb646c043de910e829ac5a54bf4"
          }
        },
        "a70d142c118f44e9a7976c6a5403ab0b": {
          "model_module": "@jupyter-widgets/controls",
          "model_name": "ProgressStyleModel",
          "state": {
            "_view_name": "StyleView",
            "_model_name": "ProgressStyleModel",
            "description_width": "initial",
            "_view_module": "@jupyter-widgets/base",
            "_model_module_version": "1.5.0",
            "_view_count": null,
            "_view_module_version": "1.2.0",
            "bar_color": null,
            "_model_module": "@jupyter-widgets/controls"
          }
        },
        "2c7796eb5a754263ac9e85e4e5940c73": {
          "model_module": "@jupyter-widgets/base",
          "model_name": "LayoutModel",
          "state": {
            "_view_name": "LayoutView",
            "grid_template_rows": null,
            "right": null,
            "justify_content": null,
            "_view_module": "@jupyter-widgets/base",
            "overflow": null,
            "_model_module_version": "1.2.0",
            "_view_count": null,
            "flex_flow": null,
            "width": null,
            "min_width": null,
            "border": null,
            "align_items": null,
            "bottom": null,
            "_model_module": "@jupyter-widgets/base",
            "top": null,
            "grid_column": null,
            "overflow_y": null,
            "overflow_x": null,
            "grid_auto_flow": null,
            "grid_area": null,
            "grid_template_columns": null,
            "flex": null,
            "_model_name": "LayoutModel",
            "justify_items": null,
            "grid_row": null,
            "max_height": null,
            "align_content": null,
            "visibility": null,
            "align_self": null,
            "height": null,
            "min_height": null,
            "padding": null,
            "grid_auto_rows": null,
            "grid_gap": null,
            "max_width": null,
            "order": null,
            "_view_module_version": "1.2.0",
            "grid_template_areas": null,
            "object_position": null,
            "object_fit": null,
            "grid_auto_columns": null,
            "margin": null,
            "display": null,
            "left": null
          }
        },
        "31734f484a4745ab849800daaf559f54": {
          "model_module": "@jupyter-widgets/controls",
          "model_name": "DescriptionStyleModel",
          "state": {
            "_view_name": "StyleView",
            "_model_name": "DescriptionStyleModel",
            "description_width": "",
            "_view_module": "@jupyter-widgets/base",
            "_model_module_version": "1.5.0",
            "_view_count": null,
            "_view_module_version": "1.2.0",
            "_model_module": "@jupyter-widgets/controls"
          }
        },
        "d7d21bb646c043de910e829ac5a54bf4": {
          "model_module": "@jupyter-widgets/base",
          "model_name": "LayoutModel",
          "state": {
            "_view_name": "LayoutView",
            "grid_template_rows": null,
            "right": null,
            "justify_content": null,
            "_view_module": "@jupyter-widgets/base",
            "overflow": null,
            "_model_module_version": "1.2.0",
            "_view_count": null,
            "flex_flow": null,
            "width": null,
            "min_width": null,
            "border": null,
            "align_items": null,
            "bottom": null,
            "_model_module": "@jupyter-widgets/base",
            "top": null,
            "grid_column": null,
            "overflow_y": null,
            "overflow_x": null,
            "grid_auto_flow": null,
            "grid_area": null,
            "grid_template_columns": null,
            "flex": null,
            "_model_name": "LayoutModel",
            "justify_items": null,
            "grid_row": null,
            "max_height": null,
            "align_content": null,
            "visibility": null,
            "align_self": null,
            "height": null,
            "min_height": null,
            "padding": null,
            "grid_auto_rows": null,
            "grid_gap": null,
            "max_width": null,
            "order": null,
            "_view_module_version": "1.2.0",
            "grid_template_areas": null,
            "object_position": null,
            "object_fit": null,
            "grid_auto_columns": null,
            "margin": null,
            "display": null,
            "left": null
          }
        },
        "bf5d8eb306a9467aadf6c7d1c814fef0": {
          "model_module": "@jupyter-widgets/controls",
          "model_name": "HBoxModel",
          "state": {
            "_view_name": "HBoxView",
            "_dom_classes": [],
            "_model_name": "HBoxModel",
            "_view_module": "@jupyter-widgets/controls",
            "_model_module_version": "1.5.0",
            "_view_count": null,
            "_view_module_version": "1.5.0",
            "box_style": "",
            "layout": "IPY_MODEL_a0ee0a713dba46ce98f099bfff58d23a",
            "_model_module": "@jupyter-widgets/controls",
            "children": [
              "IPY_MODEL_43b05a120a174a3c9f7fdceefd88b2d4",
              "IPY_MODEL_11dd14e330f74caeb94382ad39660428"
            ]
          }
        },
        "a0ee0a713dba46ce98f099bfff58d23a": {
          "model_module": "@jupyter-widgets/base",
          "model_name": "LayoutModel",
          "state": {
            "_view_name": "LayoutView",
            "grid_template_rows": null,
            "right": null,
            "justify_content": null,
            "_view_module": "@jupyter-widgets/base",
            "overflow": null,
            "_model_module_version": "1.2.0",
            "_view_count": null,
            "flex_flow": null,
            "width": null,
            "min_width": null,
            "border": null,
            "align_items": null,
            "bottom": null,
            "_model_module": "@jupyter-widgets/base",
            "top": null,
            "grid_column": null,
            "overflow_y": null,
            "overflow_x": null,
            "grid_auto_flow": null,
            "grid_area": null,
            "grid_template_columns": null,
            "flex": null,
            "_model_name": "LayoutModel",
            "justify_items": null,
            "grid_row": null,
            "max_height": null,
            "align_content": null,
            "visibility": null,
            "align_self": null,
            "height": null,
            "min_height": null,
            "padding": null,
            "grid_auto_rows": null,
            "grid_gap": null,
            "max_width": null,
            "order": null,
            "_view_module_version": "1.2.0",
            "grid_template_areas": null,
            "object_position": null,
            "object_fit": null,
            "grid_auto_columns": null,
            "margin": null,
            "display": null,
            "left": null
          }
        },
        "43b05a120a174a3c9f7fdceefd88b2d4": {
          "model_module": "@jupyter-widgets/controls",
          "model_name": "FloatProgressModel",
          "state": {
            "_view_name": "ProgressView",
            "style": "IPY_MODEL_ac38be435fa74a2fa6cbccee6ad55323",
            "_dom_classes": [],
            "description": "",
            "_model_name": "FloatProgressModel",
            "bar_style": "success",
            "max": 1,
            "_view_module": "@jupyter-widgets/controls",
            "_model_module_version": "1.5.0",
            "value": 1,
            "_view_count": null,
            "_view_module_version": "1.5.0",
            "orientation": "horizontal",
            "min": 0,
            "description_tooltip": null,
            "_model_module": "@jupyter-widgets/controls",
            "layout": "IPY_MODEL_187081f6b9b442e8813e4697f0db7c07"
          }
        },
        "11dd14e330f74caeb94382ad39660428": {
          "model_module": "@jupyter-widgets/controls",
          "model_name": "HTMLModel",
          "state": {
            "_view_name": "HTMLView",
            "style": "IPY_MODEL_d90800aae3ab4758b105b80225ecd7d3",
            "_dom_classes": [],
            "description": "",
            "_model_name": "HTMLModel",
            "placeholder": "​",
            "_view_module": "@jupyter-widgets/controls",
            "_model_module_version": "1.5.0",
            "value": " 1654784/? [00:04&lt;00:00, 340604.15it/s]",
            "_view_count": null,
            "_view_module_version": "1.5.0",
            "description_tooltip": null,
            "_model_module": "@jupyter-widgets/controls",
            "layout": "IPY_MODEL_9c7856064aef4776ace351fc6fd0843b"
          }
        },
        "ac38be435fa74a2fa6cbccee6ad55323": {
          "model_module": "@jupyter-widgets/controls",
          "model_name": "ProgressStyleModel",
          "state": {
            "_view_name": "StyleView",
            "_model_name": "ProgressStyleModel",
            "description_width": "initial",
            "_view_module": "@jupyter-widgets/base",
            "_model_module_version": "1.5.0",
            "_view_count": null,
            "_view_module_version": "1.2.0",
            "bar_color": null,
            "_model_module": "@jupyter-widgets/controls"
          }
        },
        "187081f6b9b442e8813e4697f0db7c07": {
          "model_module": "@jupyter-widgets/base",
          "model_name": "LayoutModel",
          "state": {
            "_view_name": "LayoutView",
            "grid_template_rows": null,
            "right": null,
            "justify_content": null,
            "_view_module": "@jupyter-widgets/base",
            "overflow": null,
            "_model_module_version": "1.2.0",
            "_view_count": null,
            "flex_flow": null,
            "width": null,
            "min_width": null,
            "border": null,
            "align_items": null,
            "bottom": null,
            "_model_module": "@jupyter-widgets/base",
            "top": null,
            "grid_column": null,
            "overflow_y": null,
            "overflow_x": null,
            "grid_auto_flow": null,
            "grid_area": null,
            "grid_template_columns": null,
            "flex": null,
            "_model_name": "LayoutModel",
            "justify_items": null,
            "grid_row": null,
            "max_height": null,
            "align_content": null,
            "visibility": null,
            "align_self": null,
            "height": null,
            "min_height": null,
            "padding": null,
            "grid_auto_rows": null,
            "grid_gap": null,
            "max_width": null,
            "order": null,
            "_view_module_version": "1.2.0",
            "grid_template_areas": null,
            "object_position": null,
            "object_fit": null,
            "grid_auto_columns": null,
            "margin": null,
            "display": null,
            "left": null
          }
        },
        "d90800aae3ab4758b105b80225ecd7d3": {
          "model_module": "@jupyter-widgets/controls",
          "model_name": "DescriptionStyleModel",
          "state": {
            "_view_name": "StyleView",
            "_model_name": "DescriptionStyleModel",
            "description_width": "",
            "_view_module": "@jupyter-widgets/base",
            "_model_module_version": "1.5.0",
            "_view_count": null,
            "_view_module_version": "1.2.0",
            "_model_module": "@jupyter-widgets/controls"
          }
        },
        "9c7856064aef4776ace351fc6fd0843b": {
          "model_module": "@jupyter-widgets/base",
          "model_name": "LayoutModel",
          "state": {
            "_view_name": "LayoutView",
            "grid_template_rows": null,
            "right": null,
            "justify_content": null,
            "_view_module": "@jupyter-widgets/base",
            "overflow": null,
            "_model_module_version": "1.2.0",
            "_view_count": null,
            "flex_flow": null,
            "width": null,
            "min_width": null,
            "border": null,
            "align_items": null,
            "bottom": null,
            "_model_module": "@jupyter-widgets/base",
            "top": null,
            "grid_column": null,
            "overflow_y": null,
            "overflow_x": null,
            "grid_auto_flow": null,
            "grid_area": null,
            "grid_template_columns": null,
            "flex": null,
            "_model_name": "LayoutModel",
            "justify_items": null,
            "grid_row": null,
            "max_height": null,
            "align_content": null,
            "visibility": null,
            "align_self": null,
            "height": null,
            "min_height": null,
            "padding": null,
            "grid_auto_rows": null,
            "grid_gap": null,
            "max_width": null,
            "order": null,
            "_view_module_version": "1.2.0",
            "grid_template_areas": null,
            "object_position": null,
            "object_fit": null,
            "grid_auto_columns": null,
            "margin": null,
            "display": null,
            "left": null
          }
        },
        "660ea6d7bdb74dcea6b00e57a58c2afa": {
          "model_module": "@jupyter-widgets/controls",
          "model_name": "HBoxModel",
          "state": {
            "_view_name": "HBoxView",
            "_dom_classes": [],
            "_model_name": "HBoxModel",
            "_view_module": "@jupyter-widgets/controls",
            "_model_module_version": "1.5.0",
            "_view_count": null,
            "_view_module_version": "1.5.0",
            "box_style": "",
            "layout": "IPY_MODEL_67513f2fe231497da26100c175a73016",
            "_model_module": "@jupyter-widgets/controls",
            "children": [
              "IPY_MODEL_4bdedbea74bd487299fdc50d03ea70b2",
              "IPY_MODEL_ef1e342dd8bc4dd68e42909e66b8e9b1"
            ]
          }
        },
        "67513f2fe231497da26100c175a73016": {
          "model_module": "@jupyter-widgets/base",
          "model_name": "LayoutModel",
          "state": {
            "_view_name": "LayoutView",
            "grid_template_rows": null,
            "right": null,
            "justify_content": null,
            "_view_module": "@jupyter-widgets/base",
            "overflow": null,
            "_model_module_version": "1.2.0",
            "_view_count": null,
            "flex_flow": null,
            "width": null,
            "min_width": null,
            "border": null,
            "align_items": null,
            "bottom": null,
            "_model_module": "@jupyter-widgets/base",
            "top": null,
            "grid_column": null,
            "overflow_y": null,
            "overflow_x": null,
            "grid_auto_flow": null,
            "grid_area": null,
            "grid_template_columns": null,
            "flex": null,
            "_model_name": "LayoutModel",
            "justify_items": null,
            "grid_row": null,
            "max_height": null,
            "align_content": null,
            "visibility": null,
            "align_self": null,
            "height": null,
            "min_height": null,
            "padding": null,
            "grid_auto_rows": null,
            "grid_gap": null,
            "max_width": null,
            "order": null,
            "_view_module_version": "1.2.0",
            "grid_template_areas": null,
            "object_position": null,
            "object_fit": null,
            "grid_auto_columns": null,
            "margin": null,
            "display": null,
            "left": null
          }
        },
        "4bdedbea74bd487299fdc50d03ea70b2": {
          "model_module": "@jupyter-widgets/controls",
          "model_name": "FloatProgressModel",
          "state": {
            "_view_name": "ProgressView",
            "style": "IPY_MODEL_da301b90ac0641acb150085d864566af",
            "_dom_classes": [],
            "description": "",
            "_model_name": "FloatProgressModel",
            "bar_style": "success",
            "max": 1,
            "_view_module": "@jupyter-widgets/controls",
            "_model_module_version": "1.5.0",
            "value": 1,
            "_view_count": null,
            "_view_module_version": "1.5.0",
            "orientation": "horizontal",
            "min": 0,
            "description_tooltip": null,
            "_model_module": "@jupyter-widgets/controls",
            "layout": "IPY_MODEL_bf7a4f11f66b46d0bbc392292363adb9"
          }
        },
        "ef1e342dd8bc4dd68e42909e66b8e9b1": {
          "model_module": "@jupyter-widgets/controls",
          "model_name": "HTMLModel",
          "state": {
            "_view_name": "HTMLView",
            "style": "IPY_MODEL_d3fa498e72c74d488a33853b626394ae",
            "_dom_classes": [],
            "description": "",
            "_model_name": "HTMLModel",
            "placeholder": "​",
            "_view_module": "@jupyter-widgets/controls",
            "_model_module_version": "1.5.0",
            "value": " 8192/? [00:04&lt;00:00, 2022.79it/s]",
            "_view_count": null,
            "_view_module_version": "1.5.0",
            "description_tooltip": null,
            "_model_module": "@jupyter-widgets/controls",
            "layout": "IPY_MODEL_5159d534ee7643a3a7a1484e60965a60"
          }
        },
        "da301b90ac0641acb150085d864566af": {
          "model_module": "@jupyter-widgets/controls",
          "model_name": "ProgressStyleModel",
          "state": {
            "_view_name": "StyleView",
            "_model_name": "ProgressStyleModel",
            "description_width": "initial",
            "_view_module": "@jupyter-widgets/base",
            "_model_module_version": "1.5.0",
            "_view_count": null,
            "_view_module_version": "1.2.0",
            "bar_color": null,
            "_model_module": "@jupyter-widgets/controls"
          }
        },
        "bf7a4f11f66b46d0bbc392292363adb9": {
          "model_module": "@jupyter-widgets/base",
          "model_name": "LayoutModel",
          "state": {
            "_view_name": "LayoutView",
            "grid_template_rows": null,
            "right": null,
            "justify_content": null,
            "_view_module": "@jupyter-widgets/base",
            "overflow": null,
            "_model_module_version": "1.2.0",
            "_view_count": null,
            "flex_flow": null,
            "width": null,
            "min_width": null,
            "border": null,
            "align_items": null,
            "bottom": null,
            "_model_module": "@jupyter-widgets/base",
            "top": null,
            "grid_column": null,
            "overflow_y": null,
            "overflow_x": null,
            "grid_auto_flow": null,
            "grid_area": null,
            "grid_template_columns": null,
            "flex": null,
            "_model_name": "LayoutModel",
            "justify_items": null,
            "grid_row": null,
            "max_height": null,
            "align_content": null,
            "visibility": null,
            "align_self": null,
            "height": null,
            "min_height": null,
            "padding": null,
            "grid_auto_rows": null,
            "grid_gap": null,
            "max_width": null,
            "order": null,
            "_view_module_version": "1.2.0",
            "grid_template_areas": null,
            "object_position": null,
            "object_fit": null,
            "grid_auto_columns": null,
            "margin": null,
            "display": null,
            "left": null
          }
        },
        "d3fa498e72c74d488a33853b626394ae": {
          "model_module": "@jupyter-widgets/controls",
          "model_name": "DescriptionStyleModel",
          "state": {
            "_view_name": "StyleView",
            "_model_name": "DescriptionStyleModel",
            "description_width": "",
            "_view_module": "@jupyter-widgets/base",
            "_model_module_version": "1.5.0",
            "_view_count": null,
            "_view_module_version": "1.2.0",
            "_model_module": "@jupyter-widgets/controls"
          }
        },
        "5159d534ee7643a3a7a1484e60965a60": {
          "model_module": "@jupyter-widgets/base",
          "model_name": "LayoutModel",
          "state": {
            "_view_name": "LayoutView",
            "grid_template_rows": null,
            "right": null,
            "justify_content": null,
            "_view_module": "@jupyter-widgets/base",
            "overflow": null,
            "_model_module_version": "1.2.0",
            "_view_count": null,
            "flex_flow": null,
            "width": null,
            "min_width": null,
            "border": null,
            "align_items": null,
            "bottom": null,
            "_model_module": "@jupyter-widgets/base",
            "top": null,
            "grid_column": null,
            "overflow_y": null,
            "overflow_x": null,
            "grid_auto_flow": null,
            "grid_area": null,
            "grid_template_columns": null,
            "flex": null,
            "_model_name": "LayoutModel",
            "justify_items": null,
            "grid_row": null,
            "max_height": null,
            "align_content": null,
            "visibility": null,
            "align_self": null,
            "height": null,
            "min_height": null,
            "padding": null,
            "grid_auto_rows": null,
            "grid_gap": null,
            "max_width": null,
            "order": null,
            "_view_module_version": "1.2.0",
            "grid_template_areas": null,
            "object_position": null,
            "object_fit": null,
            "grid_auto_columns": null,
            "margin": null,
            "display": null,
            "left": null
          }
        }
      }
    }
  },
  "cells": [
    {
      "cell_type": "markdown",
      "metadata": {
        "id": "view-in-github",
        "colab_type": "text"
      },
      "source": [
        "<a href=\"https://colab.research.google.com/github/denocris/Basics-of-deep-learning-for-cv/blob/main/03_cnn_training_with_pytorch.ipynb\" target=\"_parent\"><img src=\"https://colab.research.google.com/assets/colab-badge.svg\" alt=\"Open In Colab\"/></a>"
      ]
    },
    {
      "cell_type": "markdown",
      "metadata": {
        "id": "zPTNy_tHUrrI"
      },
      "source": [
        "<h1><center> CNN Training with PyTorch </center></h1>\n",
        "\n",
        "\n",
        "\n",
        "<center>  <img src=\"https://drive.google.com/uc?export=view&id=1D2O4x5i05Ztx0gUto5VOLJH_EQvDb5lt\"width=\"800\">  </center> \n",
        "\n",
        "\n",
        "\n"
      ]
    },
    {
      "cell_type": "markdown",
      "metadata": {
        "id": "rychVYL5J_-O"
      },
      "source": [
        "## About this Lecture (Notebook Nr. 3)\n",
        "\n",
        "In notebook nr. 1 and 2, we wrote from scratch a simple CNN model and manually set up its backpropagation. Then, to warm up with PyTorch, we implemented the same network to check the consistency of our numpy implementation. Now that we understood the basic mechanism, we are ready to build a more sophisticated CNN, LeNet, and train it using PyTorch. We will then learn cross-validation and grid search methods.\n",
        "\n",
        "LeNet is a convolutional neural network structure proposed by [Yann LeCun et al. in 1998](http://vision.stanford.edu/cs598_spring07/papers/Lecun98.pdf). Being one of the earliest CNNs, its structure is quite simple but defines the basic components of CNN.\n",
        "\n",
        "### Tools used \n",
        "\n",
        "PyTorch, NumPy, sklearn. To perform grid search we will use the Optuna optimization library.\n",
        "\n",
        "### Outline\n",
        "\n",
        "* information theory background;\n",
        "* explain overfitting and underfitting;\n",
        "* introduce regularization techniques (Dropout, Batch Normalization, L1, L2);\n",
        "* write and train LeNet on MNIST using hold-out validation;\n",
        "* implement grid search with Optuna;\n",
        "* learn k-fold cross-validation\n",
        "\n"
      ]
    },
    {
      "cell_type": "markdown",
      "metadata": {
        "id": "p1WdF9dANBDu"
      },
      "source": [
        "## Packages and GPU Settings"
      ]
    },
    {
      "cell_type": "code",
      "metadata": {
        "id": "M99bQapvPh-e",
        "outputId": "8ee63e22-e1aa-44d4-93f3-76d0c2b68585",
        "colab": {
          "base_uri": "https://localhost:8080/",
          "height": 301
        }
      },
      "source": [
        "!pip install -q tensorboard\n",
        "!pip install -q optuna "
      ],
      "execution_count": null,
      "outputs": [
        {
          "output_type": "stream",
          "text": [
            "\u001b[?25l\r\u001b[K     |█▍                              | 10kB 26.5MB/s eta 0:00:01\r\u001b[K     |██▉                             | 20kB 5.9MB/s eta 0:00:01\r\u001b[K     |████▎                           | 30kB 7.4MB/s eta 0:00:01\r\u001b[K     |█████▋                          | 40kB 7.9MB/s eta 0:00:01\r\u001b[K     |███████                         | 51kB 7.0MB/s eta 0:00:01\r\u001b[K     |████████▌                       | 61kB 8.0MB/s eta 0:00:01\r\u001b[K     |█████████▉                      | 71kB 8.2MB/s eta 0:00:01\r\u001b[K     |███████████▎                    | 81kB 8.4MB/s eta 0:00:01\r\u001b[K     |████████████▊                   | 92kB 7.9MB/s eta 0:00:01\r\u001b[K     |██████████████                  | 102kB 8.1MB/s eta 0:00:01\r\u001b[K     |███████████████▌                | 112kB 8.1MB/s eta 0:00:01\r\u001b[K     |█████████████████               | 122kB 8.1MB/s eta 0:00:01\r\u001b[K     |██████████████████▎             | 133kB 8.1MB/s eta 0:00:01\r\u001b[K     |███████████████████▊            | 143kB 8.1MB/s eta 0:00:01\r\u001b[K     |█████████████████████▏          | 153kB 8.1MB/s eta 0:00:01\r\u001b[K     |██████████████████████▌         | 163kB 8.1MB/s eta 0:00:01\r\u001b[K     |████████████████████████        | 174kB 8.1MB/s eta 0:00:01\r\u001b[K     |█████████████████████████▍      | 184kB 8.1MB/s eta 0:00:01\r\u001b[K     |██████████████████████████▊     | 194kB 8.1MB/s eta 0:00:01\r\u001b[K     |████████████████████████████▏   | 204kB 8.1MB/s eta 0:00:01\r\u001b[K     |█████████████████████████████▋  | 215kB 8.1MB/s eta 0:00:01\r\u001b[K     |███████████████████████████████ | 225kB 8.1MB/s eta 0:00:01\r\u001b[K     |████████████████████████████████| 235kB 8.1MB/s \n",
            "\u001b[?25h  Installing build dependencies ... \u001b[?25l\u001b[?25hdone\n",
            "  Getting requirements to build wheel ... \u001b[?25l\u001b[?25hdone\n",
            "    Preparing wheel metadata ... \u001b[?25l\u001b[?25hdone\n",
            "\u001b[K     |████████████████████████████████| 81kB 7.9MB/s \n",
            "\u001b[K     |████████████████████████████████| 1.1MB 17.2MB/s \n",
            "\u001b[?25h  Installing build dependencies ... \u001b[?25l\u001b[?25hdone\n",
            "  Getting requirements to build wheel ... \u001b[?25l\u001b[?25hdone\n",
            "    Preparing wheel metadata ... \u001b[?25l\u001b[?25hdone\n",
            "\u001b[K     |████████████████████████████████| 51kB 7.6MB/s \n",
            "\u001b[K     |████████████████████████████████| 133kB 33.5MB/s \n",
            "\u001b[K     |████████████████████████████████| 112kB 47.3MB/s \n",
            "\u001b[K     |████████████████████████████████| 81kB 10.3MB/s \n",
            "\u001b[?25h  Building wheel for optuna (PEP 517) ... \u001b[?25l\u001b[?25hdone\n",
            "  Building wheel for alembic (PEP 517) ... \u001b[?25l\u001b[?25hdone\n",
            "  Building wheel for pyperclip (setup.py) ... \u001b[?25l\u001b[?25hdone\n"
          ],
          "name": "stdout"
        }
      ]
    },
    {
      "cell_type": "code",
      "metadata": {
        "id": "53Fac-e3rNUw"
      },
      "source": [
        "import torch\n",
        "\n",
        "import torch.nn as nn\n",
        "import torch.nn.functional as F\n",
        "from torchvision.datasets import MNIST\n",
        "from torch.utils.data import DataLoader, TensorDataset, random_split\n",
        "from torch.utils.tensorboard import SummaryWriter\n",
        "from torchvision import transforms\n",
        "from torchsummary import summary\n",
        "\n",
        "\n",
        "from matplotlib import pyplot as plt\n",
        "import numpy as np\n",
        "import random\n",
        "import optuna"
      ],
      "execution_count": null,
      "outputs": []
    },
    {
      "cell_type": "markdown",
      "metadata": {
        "id": "SG9z4Rz_HCPS"
      },
      "source": [
        "GPU info e device set up"
      ]
    },
    {
      "cell_type": "code",
      "metadata": {
        "id": "MjmlP7ZObnce",
        "outputId": "54fae81b-97ab-453c-92d9-2d8e8941cd98",
        "colab": {
          "base_uri": "https://localhost:8080/",
          "height": 372
        }
      },
      "source": [
        "gpu_info = !nvidia-smi\n",
        "gpu_info = '\\n'.join(gpu_info)\n",
        "if gpu_info.find('failed') >= 0:\n",
        "  print('Select the Runtime → \"Change runtime type\" menu to enable a GPU accelerator, ')\n",
        "  print('and then re-execute this cell.')\n",
        "else:\n",
        "  print(gpu_info)"
      ],
      "execution_count": null,
      "outputs": [
        {
          "output_type": "stream",
          "text": [
            "Thu Sep 10 14:18:49 2020       \n",
            "+-----------------------------------------------------------------------------+\n",
            "| NVIDIA-SMI 450.66       Driver Version: 418.67       CUDA Version: 10.1     |\n",
            "|-------------------------------+----------------------+----------------------+\n",
            "| GPU  Name        Persistence-M| Bus-Id        Disp.A | Volatile Uncorr. ECC |\n",
            "| Fan  Temp  Perf  Pwr:Usage/Cap|         Memory-Usage | GPU-Util  Compute M. |\n",
            "|                               |                      |               MIG M. |\n",
            "|===============================+======================+======================|\n",
            "|   0  Tesla V100-SXM2...  Off  | 00000000:00:04.0 Off |                    0 |\n",
            "| N/A   38C    P0    27W / 300W |      0MiB / 16130MiB |      0%      Default |\n",
            "|                               |                      |                 ERR! |\n",
            "+-------------------------------+----------------------+----------------------+\n",
            "                                                                               \n",
            "+-----------------------------------------------------------------------------+\n",
            "| Processes:                                                                  |\n",
            "|  GPU   GI   CI        PID   Type   Process name                  GPU Memory |\n",
            "|        ID   ID                                                   Usage      |\n",
            "|=============================================================================|\n",
            "|  No running processes found                                                 |\n",
            "+-----------------------------------------------------------------------------+\n"
          ],
          "name": "stdout"
        }
      ]
    },
    {
      "cell_type": "code",
      "metadata": {
        "id": "Ozj-Ar_7b_55"
      },
      "source": [
        "use_cuda = torch.cuda.is_available()\n",
        "device = torch.device(\"cuda\" if use_cuda else \"cpu\")\n",
        "kwargs = {'num_workers': 1, 'pin_memory': True} if use_cuda else {}"
      ],
      "execution_count": null,
      "outputs": []
    },
    {
      "cell_type": "markdown",
      "metadata": {
        "id": "uPAl3Tqrtc2H"
      },
      "source": [
        "As usual, to have reproducible results we choose a seed."
      ]
    },
    {
      "cell_type": "code",
      "metadata": {
        "id": "iGWGkFSetRQH",
        "outputId": "ee2d7279-cf9f-4493-a0b9-81ac650a808c",
        "colab": {
          "base_uri": "https://localhost:8080/",
          "height": 34
        }
      },
      "source": [
        "# set the seed: built-in python, numpy, and pytorch\n",
        "seed = 172\n",
        "random.seed(seed)\n",
        "np.random.seed(seed)\n",
        "torch.manual_seed(seed) # works for all devices (CPU and GPU)"
      ],
      "execution_count": null,
      "outputs": [
        {
          "output_type": "execute_result",
          "data": {
            "text/plain": [
              "<torch._C.Generator at 0x7f39f69b0138>"
            ]
          },
          "metadata": {
            "tags": []
          },
          "execution_count": 5
        }
      ]
    },
    {
      "cell_type": "markdown",
      "metadata": {
        "id": "uOyMhZgTHinw"
      },
      "source": [
        "## Information Theory Background \n"
      ]
    },
    {
      "cell_type": "markdown",
      "metadata": {
        "id": "a_h2KilRH39t"
      },
      "source": [
        "Basic notions of Information Theory are essetial for the understanding of many machine/deep learning mechanisms as we will see in a while."
      ]
    },
    {
      "cell_type": "markdown",
      "metadata": {
        "id": "CtrqdhkMID39"
      },
      "source": [
        "### Self-Information\n",
        "\n",
        "Every event takes with it an ammount of self-information. The idea behind self-information goes as follows\n",
        "\n",
        "* if an event always occurs, we associate it with a smaller amount of information. It will not suprise us!\n",
        "* On the other side, a rare event is associated with a huge amount of information. It will suprise us!\n",
        "\n",
        "I am not surprise to see the sunrise every morning (likely event). Instead,  I would be really suprised if tomorrow the Sun will not rise (unlikely event). This amount of surprise or self-information of the event $x$ is quantified by\n",
        "\n",
        "$$I(x) = - \\log p(x),$$\n",
        "\n",
        "where $p(x)$ is the probability of the event $x$. If $p(x)=1$, then self-info is zero. A rare event instead has a huge surpise factor.\n",
        "\n",
        "### Shannon Entropy \n",
        "\n",
        "Here the original paper by Claude Shannon (1948): [A Mathematical Theory of Communication](http://people.math.harvard.edu/~ctm/home/text/others/shannon/entropy/entropy.pdf).\n",
        "\n",
        "In terms of self-info, Shannon Entropy is the average self-information (expected value) over all possible values of X.\n",
        "The entropy for a probability $p(x)$ distribution is\n",
        "\n",
        "$$ S = - \\sum_i p(x_i) \\log p(x_i),$$\n",
        "\n",
        "where we assume we know the probability $p$ for each outcome $i$ and $ \\sum_i p(x_i)=1$. If we use $log_2$ for our calculation we can interpret entropy as *the minimum number of bits it would take us to encode our information*.\n",
        "\n",
        "For continous variables, we can use the integral form\n",
        "\n",
        "$$ S = - \\int  p(x) \\log p(x) \\, dx,$$\n",
        "\n",
        "where now $p(x)$ is taking the role of a probability density function (PDF). Take in mind that a broad probability density has higher entropy than a narrowed one (think about Gaussian distribution vs delta Dirac, which has $S=0$).\n",
        "\n",
        "In both discrete and continous formulation, we are computing the expectation (i.e. average) of the negative log-probability (i.e. self-info) which is the theoretical minimum encoding size of the information from the event $x$. The same formula is usually written as\n",
        "\n",
        "$$S = \\mathbb E _{\\, x \\sim p} \\left[ -\\log p(x) \\right],$$\n",
        "\n",
        "where $x \\sim p$ means that we calculate the expectation with the probability distribution $p$."
      ]
    },
    {
      "cell_type": "markdown",
      "metadata": {
        "id": "8BEow_oxYSje"
      },
      "source": [
        "Let's give an example! \n",
        "\n",
        "<!---\n",
        "  REMIND to change open with uc\n",
        " https://drive.google.com/open?id=1Y52T3Z4dwRU4Rq5L5bEVYh0d3kU0aVB8\n",
        "--->\n",
        "\n",
        "  <center>  <img src=https://drive.google.com/uc?id=1GaAeK8xIZCVDRb-oHQNUzRuoOprFh1eS \" width=\"700\">  </center> "
      ]
    },
    {
      "cell_type": "markdown",
      "metadata": {
        "id": "K5E4znWyYWDT"
      },
      "source": [
        "Let us say we have to pass a message about what drink Cristiano will order during an event. In general, Cristiano loves [Midori Sour](https://drizly.com/midori-sour/r-b972d5282bec6fe8) , Daiquiri, Spritz and Wine.\n",
        "\n",
        "On Monday, Cristiano loves to listen Jazz and the probability distribution of his choice is: \n",
        "\n",
        "$$P(\\text Midori ) =  P(\\text Daiquiri ) = P(\\text Spritz ) = P(\\text Wine ) = 0.25,$$\n",
        "\n",
        "while the corresponding entropy\n",
        "\n",
        "$$S = - \\frac{1}{4} \\log \\frac{1}{4} - \\frac{1}{4} \\log \\frac{1}{4} - \\frac{1}{4} \\log \\frac{1}{4} - \\frac{1}{4} \\log \\frac{1}{4} = 2$$\n",
        "\n",
        "On Wednesday, he usually meets with some friends after work: \n",
        "\n",
        "$$P(\\text Midori ) = 0.125,\\;  P(\\text Daiquiri ) =0.125,\\;  P(\\text Spritz ) = 0.5,\\; P(\\text  Wine ) = 0.25,$$\n",
        "\n",
        "while the corresponding entropy\n",
        "\n",
        "$$S = - \\frac{1}{8} \\log \\frac{1}{8} - \\frac{1}{8} \\log \\frac{1}{8} - \\frac{1}{2} \\log \\frac{1}{2} - \\frac{1}{4} \\log \\frac{1}{4} = 1.75$$\n",
        "\n",
        "\n",
        "On Thursday, he often goes to an event where cocktail attire dress code is required\n",
        "\n",
        "$$P(\\text Midori ) = 0.95,\\;  P(\\text Daiquiri ) =0.02,\\;  P(\\text Spritz ) = 0.018,\\; P(\\text  Wine ) = 0.012,$$\n",
        "\n",
        "and the corresponding entropy\n",
        "\n",
        "$$S = - 0.95 \\log 0.95 - 0.02 \\log 0.02 - 0.018 \\log 0.018 - 0.012 \\log 0.012 = 0.364$$"
      ]
    },
    {
      "cell_type": "code",
      "metadata": {
        "id": "KReLhZDvICt1",
        "outputId": "3d38218f-ef94-4b5b-cbd3-1b05a3645d78",
        "colab": {
          "base_uri": "https://localhost:8080/",
          "height": 70
        }
      },
      "source": [
        "# On Monday, all drinks have equal probability to be chose\n",
        "entropy_1 = -0.25*np.log2(0.25)-0.25*np.log2(0.25)-0.25*np.log2(0.25)-0.25*np.log2(0.25)\n",
        "print('On Monday, high entropy: ', entropy_1)\n",
        "\n",
        "# On Wednesday, some are more probable than others\n",
        "entropy_2 = -0.5*np.log2(0.5)-0.25*np.log2(0.25)-0.125*np.log2(0.125)-0.125*np.log2(0.125)\n",
        "print('On Wednesday, medium entropy: ', entropy_2)\n",
        "\n",
        "# On Thursday, one drink is by far the most probable\n",
        "entropy_3 = -0.95*np.log2(0.95)-0.02*np.log2(0.02)-0.018*np.log2(0.018)-0.012*np.log2(0.012)\n",
        "print('On Thursday, low entropy: ', entropy_3)"
      ],
      "execution_count": null,
      "outputs": [
        {
          "output_type": "stream",
          "text": [
            "On Monday, high entropy:  2.0\n",
            "On Wednesday, medium entropy:  1.75\n",
            "On Thursday, low entropy:  0.36407300467232967\n"
          ],
          "name": "stdout"
        }
      ]
    },
    {
      "cell_type": "markdown",
      "metadata": {
        "id": "CZh-58l2Qwvu"
      },
      "source": [
        "If entropy is high (encoding size $log_2 p(x)$ is big on average), it means we have many message types with small and almost equal probabilities. Hence, every time a new message arrives, you would expect a different type than previous messages. You may see it as a disorder or uncertainty or unpredictability.\n",
        "\n",
        "On the contrary, when a message has much smaller probability than other messages, it appears as a surprise because on average you would expect other more frequently sent message types. Moreover, a rare message type has more information than more frequent message types because it eliminates a lot of other probabilities and tells us more specific information.\n",
        "\n",
        "In the drink scenario, by sending “Wine” on thursday which happens 1.2% of the times, we are reducing the uncertainty by 98.8% of the probability distribution (“Midori, Daiquiri, Spritz”) provided we had no information before. If we were sending “Midori” (95%) instead, we would be reducing the uncertainty by 5% only.\n",
        "\n",
        "If the entropy is high (ex: fair coin), the average encoding size is significant which means each message tends to have more (specific) information. Again, this is why high entropy is associated with disorder, uncertainty, surprise, unpredictability, amount of information. The more random a message is, the more information will be gained from decoding the message.\n",
        "\n",
        "Low entropy (ex: sunrise) means that most of the times we are receiving the more predictable information which means less disorder, less uncertainty, less surprise, more predictability and less (specific) information. This is the Thursday case."
      ]
    },
    {
      "cell_type": "markdown",
      "metadata": {
        "id": "Fu6ZmWp5UGDa"
      },
      "source": [
        "### Cross Entropy\n",
        "\n",
        "Suppose to have two distributions, the true one $p(x)$ and the estimated $q(x)$. In the language of neural networks, $p(x)$ would be the grond truth (labels in one hot-encoding) and $q(x)$ the outcome of the net, i.e. the one that your machine learning algorithm is trying to match. Cross entropy is a mathematical tool for comparing two probability distributions $p(x)$ and $q(x)$ and it is expressed by the formula \n",
        "\n",
        "$$ H (p,q) = - \\int p(x) \\log q(x)\\,dx.$$\n",
        "\n",
        "If $\\log$ is in base $2$, then cross entropy measures the number of bits you will need encoding symbols from $p$ using the wrong distribution $q$. Subtracting to cross entropy the entropy of $p$, you are counting the cost in terms of bits of using the wrong distribution $q$ (this somehow will be KL-divergence). An important property of cross-entropy is that its value is minimum (and corresponds to $H(p)$) when $p(x)=q(x)$. That is the reason why, during training we want to minimize its value. This corresponds to force the estimated distribution $q(x)$ to be close to the true one $p(x)$."
      ]
    },
    {
      "cell_type": "markdown",
      "metadata": {
        "id": "60tieif3uc-l"
      },
      "source": [
        "### Kullback-Leibler Divergence\n",
        "\n",
        "KL-divergence is just a slight modification of our formula for entropy. Rather than just having our probability distribution $h$ we add into the game our approximating distribution $g$. Then we look at the difference of the log values for each\n",
        "\n",
        "$$D_{KL}(h || g) =  \\sum_i h(x_i) (\\log h(x) - \\log g(x)) = \\sum_i h(x_i) \\log \\frac{h(x)}{g(x)}$$ \n",
        "\n",
        "from which\n",
        "\n",
        "$$H(h, g) =  H(h) + D_{KL}(h || g).$$ \n",
        "\n",
        "\n",
        "KL-divergence is the expectation of the log-difference between the probability of data in the original distribution $h$ with the approximating distribution $g$. Again, if we think in terms of $\\log_2$ we can interpret this as how many bits of information we expect to lose when we choose an approximation $g$ of our original ditribution $h$. \n",
        "\n",
        "In the variational autoencoder loss function, the KL-divergence is used to force the distribution of latent variables $q(z | x)$ to be a normal distribution $n(z)$ so that we can sample latent variables from the normal distribution. As such, the KL-divergence is included in the loss function to improve the similarity between the distribution of latent variables and the normal distribution. More about **KL** can be found [here](https://towardsdatascience.com/demystifying-kl-divergence-7ebe4317ee68) and about **cross-entropy** [here](https://towardsdatascience.com/demystifying-cross-entropy-e80e3ad54a8)."
      ]
    },
    {
      "cell_type": "markdown",
      "metadata": {
        "id": "G50odvEWhgkv"
      },
      "source": [
        "## Overfitting, Underfitting and Dropout Layer"
      ]
    },
    {
      "cell_type": "markdown",
      "metadata": {
        "id": "L56Oa0-LkF3I"
      },
      "source": [
        "When training neural networks, our models are prone to some drowbacks such as overfitting and underfitting. \n",
        "\n",
        "* Underfit Model. A model that fails to sufficiently learn the problem and performs poorly on a training dataset and does not perform well on hold-out samples.\n",
        "* Overfit Model. A model that learns the training dataset too well, performing well on the training dataset but does not perform well on hold-out samples.\n",
        "\n",
        "Both cases result in a model that does not generalize well. A model with too little capacity cannot learn the problem, whereas a model with too much capacity can learn it too well and overfit the training dataset. While underfitting can easily be addressed by increasing the capacity of the network, overfitting requires the use of specialized techniques. We can recognize overfitting when the model achieves very low error on training data but have a much higher error on the testing data. \n",
        "\n",
        "The objective of a neural network is to have a final model that performs well both on the data that we used to train it and the new data on which the model will be used to make predictions. When this is achieved we say that the model learned to generalize well.\n",
        "\n",
        "In the following example, we will taste overfitting and underfitting using a simple model. Then we will use dropout (we will explain it in detail later on) to soften overfitting.\n"
      ]
    },
    {
      "cell_type": "markdown",
      "metadata": {
        "id": "zmGWOQATK0iZ"
      },
      "source": [
        "### Forcing Overfitting and Underfitting in a Universal Approximator"
      ]
    },
    {
      "cell_type": "code",
      "metadata": {
        "id": "bbw6Hl6Mkk9p"
      },
      "source": [
        "num_samples = 256\n",
        "\n",
        "inputs = torch.rand(num_samples)\n",
        "noise = torch.randn(num_samples)\n",
        "\n",
        "targets = torch.sin(8*inputs) + .7*noise\n"
      ],
      "execution_count": null,
      "outputs": []
    },
    {
      "cell_type": "code",
      "metadata": {
        "id": "F6N6-6qA8es9",
        "outputId": "ba93010b-87ef-4810-c874-05e5f70fecf7",
        "colab": {
          "base_uri": "https://localhost:8080/",
          "height": 387
        }
      },
      "source": [
        "fig, ax = plt.subplots(figsize=(13,6))\n",
        "\n",
        "ax.scatter(inputs, targets, c='b', s=5, label='target points')\n",
        "ax.set_xticks(range(0, 1))\n",
        "plt.xlim(0, 1)\n",
        "ax.set_xlabel('Inputs')\n",
        "ax.set_ylabel('Target Function')\n",
        "#ax.set_title(f'Distribution of sum of two different dices')\n",
        "ax.legend(loc='upper right')\n",
        "plt.show()"
      ],
      "execution_count": null,
      "outputs": [
        {
          "output_type": "display_data",
          "data": {
            "image/png": "[encoded data removed]",
            "text/plain": [
              "<Figure size 936x432 with 1 Axes>"
            ]
          },
          "metadata": {
            "tags": [],
            "needs_background": "light"
          }
        }
      ]
    },
    {
      "cell_type": "code",
      "metadata": {
        "id": "745Oe-08usLI"
      },
      "source": [
        "# DataLoader combines a dataset and a sampler, and provides an iterable over the given dataset. The idea behind the DataLoader is to load \n",
        "# your data using multiprocessing (and pinned memory) to asynchronously push your data batch onto the GPU during training so that you can \n",
        "# basically hide the data loading time.\n",
        "# TensorDataset is a convenient method to wrap already loaded tensors into a Dataset.\n",
        "\n",
        "train_dataloader = DataLoader(TensorDataset(inputs, targets), batch_size= 256, shuffle=True)"
      ],
      "execution_count": null,
      "outputs": []
    },
    {
      "cell_type": "code",
      "metadata": {
        "id": "RKD2h5UMhf5E"
      },
      "source": [
        "\n",
        "class UniversalApprox(nn.Module):\n",
        "  def __init__(self, num_units, dropout_rate):\n",
        "    super().__init__()\n",
        "\n",
        "    self.num_units = num_units\n",
        "    self.dropout_rate = dropout_rate\n",
        "\n",
        "    # dropout is a function that takes as input activations from the previous layer and\n",
        "    # sets some of them at zero, according to the dropout rate value.\n",
        "\n",
        "    self.dense1 = nn.Linear(1, self.num_units, bias=True)\n",
        "    self.dense2 = nn.Linear(self.num_units, int(self.num_units), bias=True)\n",
        "    self.dense3 = nn.Linear(int(self.num_units), int(self.num_units / 2), bias=True)\n",
        "    self.dense4 = nn.Linear(int(self.num_units/ 2), 1, bias=True)\n",
        "    self.droput = nn.Dropout2d(p = self.dropout_rate)\n",
        "\n",
        "  def forward(self, x):\n",
        "    result = torch.tanh(self.dense1(x))\n",
        "    result = self.droput(result)\n",
        "    result = torch.tanh(self.dense2(result))\n",
        "    result = self.droput(result)\n",
        "    result = torch.tanh(self.dense3(result))\n",
        "    result = self.droput(result)\n",
        "    result = torch.tanh(self.dense4(result))\n",
        "    return result"
      ],
      "execution_count": null,
      "outputs": []
    },
    {
      "cell_type": "markdown",
      "metadata": {
        "id": "V_OKueJkMyoz"
      },
      "source": [
        "Let us define three models:\n",
        "\n",
        "* model 1: huge model (lot of parameters) with no dropout\n",
        "\n",
        "* model 2: huge model with dropout activated\n",
        "\n",
        "* model 3: light model with dropout activated"
      ]
    },
    {
      "cell_type": "code",
      "metadata": {
        "id": "nDzbqxzkMxfm",
        "outputId": "39bb5123-ed10-4c54-fa0e-1d1c34e205e5",
        "colab": {
          "base_uri": "https://localhost:8080/",
          "height": 141
        }
      },
      "source": [
        "model_1 = UniversalApprox(num_units = 2048, dropout_rate = .0000001)\n",
        "model_1.to(device) # load the model on the device (GPU)\n",
        "\n",
        "model_2 = UniversalApprox(num_units = 2048, dropout_rate = .2)\n",
        "model_2.to(device)\n",
        "\n",
        "model_3 = UniversalApprox(num_units = 64, dropout_rate = .2)\n",
        "model_3.to(device)\n",
        "\n",
        "model_4 = UniversalApprox(num_units = 8, dropout_rate = .2)\n",
        "model_4.to(device)"
      ],
      "execution_count": null,
      "outputs": [
        {
          "output_type": "execute_result",
          "data": {
            "text/plain": [
              "UniversalApprox(\n",
              "  (dense1): Linear(in_features=1, out_features=8, bias=True)\n",
              "  (dense2): Linear(in_features=8, out_features=8, bias=True)\n",
              "  (dense3): Linear(in_features=8, out_features=4, bias=True)\n",
              "  (dense4): Linear(in_features=4, out_features=1, bias=True)\n",
              "  (droput): Dropout2d(p=0.2, inplace=False)\n",
              ")"
            ]
          },
          "metadata": {
            "tags": []
          },
          "execution_count": 12
        }
      ]
    },
    {
      "cell_type": "markdown",
      "metadata": {
        "id": "Ff0whhuEoV32"
      },
      "source": [
        "Let us now see the predictions for each model before training"
      ]
    },
    {
      "cell_type": "code",
      "metadata": {
        "id": "9fSNP3l22v3H"
      },
      "source": [
        "pred_model_1 = model_1(inputs.view(-1,1).to(device)).detach().to('cpu')\n",
        "pred_model_2 = model_2(inputs.view(-1,1).to(device)).detach().to('cpu')\n",
        "pred_model_3 = model_3(inputs.view(-1,1).to(device)).detach().to('cpu')"
      ],
      "execution_count": null,
      "outputs": []
    },
    {
      "cell_type": "code",
      "metadata": {
        "id": "pEqMDdnt2inP",
        "outputId": "2af5f7f7-c3b3-4ec6-e2b4-0ba208d18e74",
        "colab": {
          "base_uri": "https://localhost:8080/",
          "height": 404
        }
      },
      "source": [
        "fig, ax = plt.subplots(figsize=(13,6))\n",
        "\n",
        "ax.scatter(inputs, targets, c='b', s=5, label='target points')\n",
        "ax.scatter(inputs, pred_model_1, c='r', s=5, label='model 1')\n",
        "ax.scatter(inputs, pred_model_2, c='m', s=5, label='model 2')\n",
        "ax.scatter(inputs, pred_model_3, c='g', s=5, label='model 3')\n",
        "ax.set_xticks(range(0, 1))\n",
        "plt.xlim(0, 1)\n",
        "ax.set_xlabel('Inputs')\n",
        "ax.set_ylabel('Function')\n",
        "ax.set_title(f'Model Predictions (Before Training)')\n",
        "ax.legend(loc='upper right')\n",
        "plt.show()"
      ],
      "execution_count": null,
      "outputs": [
        {
          "output_type": "display_data",
          "data": {
            "image/png": "[encoded data removed]",
            "text/plain": [
              "<Figure size 936x432 with 1 Axes>"
            ]
          },
          "metadata": {
            "tags": [],
            "needs_background": "light"
          }
        }
      ]
    },
    {
      "cell_type": "markdown",
      "metadata": {
        "id": "wvEDpQ8gOr7n"
      },
      "source": [
        "Now we define a training function that we will apply to each model. However, we must before explain an important detail. When our models have dropout or batch-normalization layers, it becomes important to specify if the model is in training or evaluation mode. During the former, these layers must be activated while during the latter they must be turned off. \n",
        "\n",
        "By default all the modules are initialized to train mode (self.training = True), but from now on we will always esplicitely set the training mode with `model.train()`(it is a good practice). When your model has dropout or batchnorm, you must set `model.eval()` before performing evaluation/inference.\n",
        "\n",
        "It is worth noticing that `model.train()` and `model.eval()` do not change any behavior of the gradient calculations, but they only change the forward behaviour setting specific layers like dropout and batchnorm to evaluation mode."
      ]
    },
    {
      "cell_type": "code",
      "metadata": {
        "id": "S_m7rcgfptkM",
        "outputId": "d63bf4d6-e2bf-4de8-94a9-be35b66c4619",
        "colab": {
          "base_uri": "https://localhost:8080/",
          "height": 87
        }
      },
      "source": [
        "\n",
        "# Settings\n",
        "num_epoch = 3000\n",
        "learning_rate = 0.0001 #0.001\n",
        "\n",
        "def training(net, criterion, optimizer, num_epochs):\n",
        "    # set the model to train mode\n",
        "    net.train()\n",
        "    for epoch in range(num_epoch):\n",
        "      for x, y in train_dataloader:\n",
        "        \n",
        "        # add one dimension\n",
        "        x = x.view(-1, 1) \n",
        "        y = y.view(-1, 1) \n",
        "\n",
        "        # transfer to device\n",
        "        x, y = x.to(device), y.to(device)\n",
        "\n",
        "        model_pred = net(x)\n",
        "\n",
        "        loss = criterion(model_pred, y)\n",
        "\n",
        "        optimizer.zero_grad()\n",
        "\n",
        "        # Backward pass: compute gradient of the loss with respect to model\n",
        "        # parameters\n",
        "        loss.backward()\n",
        "\n",
        "        # Calling the step function on an Optimizer makes an update to its\n",
        "        # parameters\n",
        "        optimizer.step()\n",
        "\n",
        "model_dict = {'model_1': model_1, 'model_2': model_2, 'model_3': model_3, 'model_4': model_4}\n",
        "\n",
        "\n",
        "for model in model_dict.keys():\n",
        "  print('Training {} ...'.format(model))\n",
        "  criterion = nn.MSELoss(reduction = 'mean')\n",
        "  optimizer = torch.optim.Adam(model_dict[model].parameters(), lr=learning_rate)\n",
        "  training(model_dict[model], criterion = criterion, optimizer = optimizer,  num_epochs = num_epoch)\n"
      ],
      "execution_count": null,
      "outputs": [
        {
          "output_type": "stream",
          "text": [
            "Training model_1 ...\n",
            "Training model_2 ...\n",
            "Training model_3 ...\n",
            "Training model_4 ...\n"
          ],
          "name": "stdout"
        }
      ]
    },
    {
      "cell_type": "code",
      "metadata": {
        "id": "yh5bSL0TR0v_"
      },
      "source": [
        "all_preds = []\n",
        "\n",
        "for model in model_dict.keys():\n",
        "  # Disabling gradient calculation is useful for inference, since it will reduce memory \n",
        "  # consumption for computations that would otherwise have requires_grad=True.\n",
        "  with torch.no_grad(): \n",
        "    model_dict[model].eval()\n",
        "    pred = model_dict[model](inputs.view(-1,1).to(device)).detach().to('cpu')\n",
        "    all_preds.append(pred)\n"
      ],
      "execution_count": null,
      "outputs": []
    },
    {
      "cell_type": "code",
      "metadata": {
        "id": "pjbbuAH55sOk",
        "outputId": "d1259d93-7de3-4fdf-977f-3c53359c0e62",
        "colab": {
          "base_uri": "https://localhost:8080/",
          "height": 621
        }
      },
      "source": [
        "fig, ax = plt.subplots(figsize=(20,10))\n",
        "\n",
        "#pred_over = np.load('./overfitted_model.npy')\n",
        "#pred_corr = np.load('./correct_model.npy')\n",
        "\n",
        "ax.scatter(inputs, targets, c='b', s=3, label='target points')\n",
        "for i, model in enumerate(model_dict.keys()):\n",
        "  colors = ['r', 'm', 'g', 'k']\n",
        "  ax.scatter(inputs, all_preds[i], c=colors[i], s=5, label=model)\n",
        "  #ax.scatter(inputs, all_preds[1], c='m', s=5, label='model 2')\n",
        "  #ax.scatter(inputs, all_preds[2], c='g', s=5, label='model 3')\n",
        "\n",
        "ax.set_xticks(range(0, 1))\n",
        "plt.xlim(0, 1)\n",
        "ax.set_xlabel('Inputs')\n",
        "ax.set_ylabel('Function')\n",
        "ax.set_title(f'Model Predictions (After Training)')\n",
        "ax.legend(loc='upper right')\n",
        "plt.show()"
      ],
      "execution_count": null,
      "outputs": [
        {
          "output_type": "display_data",
          "data": {
            "image/png": "[encoded data removed]",
            "text/plain": [
              "<Figure size 1440x720 with 1 Axes>"
            ]
          },
          "metadata": {
            "tags": [],
            "needs_background": "light"
          }
        }
      ]
    },
    {
      "cell_type": "markdown",
      "metadata": {
        "id": "DLnD3tyzpoJ4"
      },
      "source": [
        "The take home messagge is that as the model complexity increases, the models tends to fit even smaller deviations in the training data set. \n",
        "\n",
        "Underfitting can easily be addressed by increasing the capacity of the network, for instance the number of layers or parameters. On the other side, overfitting requires the use of specialized techniques that are called regularization techniques. We will now see some common regularizations. We have already used dropout, but let us now see it in detail"
      ]
    },
    {
      "cell_type": "markdown",
      "metadata": {
        "id": "0hbIeSgD_YUw"
      },
      "source": [
        "## Training, Validation and Test Sets\n",
        "\n",
        "* **parameters:** weights and biases of a DNN which transform the input before applying the activation function. Each layer has its own set of parameters. The parameters are adjusted through backpropagation to minimize the loss function or in other words are learned during the training process;\n",
        "\n",
        "* **hyperparameters:** unlike parameters, their values are not adapted by the learning algorithm itself. They can be viewed as settings that can be used to control the behaviour of the algorithm. Examples are number of layers, type of architecture, batch size, learning rate, etc...;\n",
        "\n",
        "* **training set:** a set of examples used for learning. It affects parameters ann in particular they are optimized according to this set;\n",
        "\n",
        "* **validation set:** a set of examples not seen by the model during training. It is like a mini-test set that provides feedback to the model during training on how well the current weights generalize beyond the training set. It does not impact or adjust weights directly, but providing information about overfitting it can indirectly impact weights if some regularization techniques are applied. In addition, validation set is widely used to tune hyperparameters;\n",
        "\n",
        "* **test set:** a set of examples used at the end of training and validation to assess the predictive power of your model."
      ]
    },
    {
      "cell_type": "markdown",
      "metadata": {
        "id": "XKcPaJBnEIsz"
      },
      "source": [
        "## Regularization 0: Early Stopping"
      ]
    },
    {
      "cell_type": "markdown",
      "metadata": {
        "id": "wvmmFfn9EtQh"
      },
      "source": [
        "Early stopping is a method that allows you to specify an arbitrarily large number of training epochs and (automatically) stop training once the model performance stops improving on the validation dataset.\n",
        "\n",
        "<center>  <img src=\"https://drive.google.com/uc?export=view&id=1wBnkjXZxOzjSAA7B6RGLjLh9YVb-Mubb\"width=\"800\">  </center> "
      ]
    },
    {
      "cell_type": "markdown",
      "metadata": {
        "id": "XBPuTN17Vi0y"
      },
      "source": [
        "## Regularization 1: Dropout"
      ]
    },
    {
      "cell_type": "markdown",
      "metadata": {
        "id": "kaZNxMhgx0AX"
      },
      "source": [
        "**What is dropout?**\n",
        "\n",
        "Dropout is created as a regularization technique, that we can use to reduce the model capacity so that our model can achieve lower generalization error. The intuition is easy, we do not use all neurons but only turn on some neuron in each training iteration with a certain probability. If you think a bit, dropout allows to train a slightly different networks at each pass. \n",
        "\n",
        "In other words, dropout tries to prevent co-adaptation of neurons by shutting some neurons off during training, while in prediction it uses its full capacity. If some neurons starts to detecting the same feature repeatedly (co-adaptation), the network is not efficiently using its power. \n",
        "\n",
        "Mathematically, let us see how it works for a single neuron\n",
        "\n",
        "$O_i = X_i a \\left(\\sum_{k=0}^d w_k x_k + b\\right) = \\begin{cases}\n",
        "  a \\left(\\sum_{k=0}^d w_k x_k + b\\right) & X_i = 1\\\\\\    \n",
        "  0 & X_i = 0 \n",
        "\\end{cases}$\n",
        "\n",
        "where $P(X_i=0) = p$.\n",
        "\n",
        "\n",
        "---\n",
        "\n",
        "\n",
        "\n",
        "---\n",
        "\n",
        "\n",
        "\n",
        "Let us try to see dropout effect on a tensor"
      ]
    },
    {
      "cell_type": "code",
      "metadata": {
        "id": "uGjeLg_UeBbD",
        "outputId": "0edbedb5-03c4-4a67-de30-d5541a9a116a",
        "colab": {
          "base_uri": "https://localhost:8080/",
          "height": 34
        }
      },
      "source": [
        "x = torch.tensor([[1.0, 1.0, 1.0, 1.0, 1.0, 1.0, 1.0]])\n",
        "\n",
        "# p is the probability of an element to be zero-ed.\n",
        "dropout = nn.Dropout2d(p = 0.2)\n",
        "\n",
        "output = dropout(x)\n",
        "output"
      ],
      "execution_count": null,
      "outputs": [
        {
          "output_type": "execute_result",
          "data": {
            "text/plain": [
              "tensor([[1.2500, 1.2500, 1.2500, 1.2500, 1.2500, 1.2500, 1.2500]])"
            ]
          },
          "metadata": {
            "tags": []
          },
          "execution_count": 18
        }
      ]
    },
    {
      "cell_type": "markdown",
      "metadata": {
        "id": "r8MC6mh0-fnf"
      },
      "source": [
        "Contrary to what it is generally said, dropout does not only zero-ed with probability $p$ elements in a tensor. As we can see, the values of the output are not what we expected. To understand this issue, we recall that dropout has different behavior during training and test. Imagine a very simple model with two linear layers of size 10 and 1, respectively. If you do not use dropout (as during test), and all activations are approximatively 1, your expect the output layer value to be around 10. Now using dropout (as usually done in training) with zero-ed probability p=0.2, we will lose 1/5 of these activations, so that during training our expected value would be smaller, say 8. The idea is then to rescale each survived element with a factor $1/(1 - p) = 1.25$. Therefore, in the limit case where all elements but one are zero-ed the survivor will have a big enough value. This approach is called **inverted dropout**. [Here](http://jmlr.org/papers/volume15/srivastava14a.old/srivastava14a.pdf) you can find a useful reference about dropout.\n",
        "\n",
        "So, mathematically we can describe inverted dropout with:\n",
        "\n",
        "$$ \\text{Training}: \\quad O_i = \\frac{1}{1-p} X_i a \\left(\\sum_{k=0}^d w_k x_k + b\\right) \\\\ \n",
        "\\text{Testing}: \\quad O_i = a \\left(\\sum_{k=0}^d w_k x_k + b\\right) $$\n",
        "\n",
        "where $P(X_i=0) = p$.\n",
        "\n",
        "Let us now implement dropout from scratch as we described above. We will use Bernoulli disctribution for $P(X_i=0)$ that is a special case of Binomial distribution with `total_count=1`. It outputs 1 with probability `probs`, and zero with `1-probs`.So let us first check it\n"
      ]
    },
    {
      "cell_type": "code",
      "metadata": {
        "id": "Ihgp8YqC0QAm",
        "outputId": "a10a90b5-720c-4c42-b0b4-a6303fe0f034",
        "colab": {
          "base_uri": "https://localhost:8080/",
          "height": 52
        }
      },
      "source": [
        "# tensor containing our activations\n",
        "x = torch.tensor([[2.0, 3.0, 5.0, 7.0, 6.0]])\n",
        "\n",
        "# probs: probability to have 1\n",
        "binomial = torch.distributions.binomial.Binomial(total_count=1, probs=1-0.2)\n",
        "binomial_sample = binomial.sample(x.size())\n",
        "\n",
        "print(binomial_sample)\n",
        "print(x * binomial_sample)"
      ],
      "execution_count": null,
      "outputs": [
        {
          "output_type": "stream",
          "text": [
            "tensor([[1., 1., 1., 0., 1.]])\n",
            "tensor([[2., 3., 5., 0., 6.]])\n"
          ],
          "name": "stdout"
        }
      ]
    },
    {
      "cell_type": "code",
      "metadata": {
        "id": "GeQ8Gdg7i3K-"
      },
      "source": [
        "class MyDropout(nn.Module):\n",
        "    def __init__(self, p: float = 0.5):\n",
        "        super().__init__()\n",
        "        if p < 0 or p > 1:\n",
        "            raise ValueError(\"p has to be between 0 and 1, \" \"but got {}\".format(p))\n",
        "        self.p = p\n",
        "\n",
        "    def forward(self, X):\n",
        "        if self.training:\n",
        "            binomial = torch.distributions.binomial.Binomial(probs=1-self.p)\n",
        "            return X * binomial.sample(X.size()) * (1.0/(1-self.p))\n",
        "        return X"
      ],
      "execution_count": null,
      "outputs": []
    },
    {
      "cell_type": "code",
      "metadata": {
        "id": "wKSfq5P42Dr4",
        "outputId": "9d428e3e-a611-41e0-a2b0-a601e4c25311",
        "colab": {
          "base_uri": "https://localhost:8080/",
          "height": 34
        }
      },
      "source": [
        "x = torch.tensor([[1.0, 1.0, 1.0, 1.0, 1.0]])\n",
        "\n",
        "# our dropout\n",
        "mydropout = MyDropout(p = 0.2)\n",
        "mydropout.train() # self.training = True\n",
        "\n",
        "mydropout(x)"
      ],
      "execution_count": null,
      "outputs": [
        {
          "output_type": "execute_result",
          "data": {
            "text/plain": [
              "tensor([[0.0000, 1.2500, 1.2500, 1.2500, 1.2500]])"
            ]
          },
          "metadata": {
            "tags": []
          },
          "execution_count": 21
        }
      ]
    },
    {
      "cell_type": "code",
      "metadata": {
        "id": "YK8YikhBFZRN",
        "outputId": "1832048c-f48b-434b-9ef4-d93f16cbadc8",
        "colab": {
          "base_uri": "https://localhost:8080/",
          "height": 34
        }
      },
      "source": [
        "mydropout.eval() # self.training = False\n",
        "mydropout(x)"
      ],
      "execution_count": null,
      "outputs": [
        {
          "output_type": "execute_result",
          "data": {
            "text/plain": [
              "tensor([[1., 1., 1., 1., 1.]])"
            ]
          },
          "metadata": {
            "tags": []
          },
          "execution_count": 22
        }
      ]
    },
    {
      "cell_type": "markdown",
      "metadata": {
        "id": "iobFlvkc3t_7"
      },
      "source": [
        "## Regularization 2: Batch Normalization\n",
        "\n",
        "\n",
        "\n"
      ]
    },
    {
      "cell_type": "markdown",
      "metadata": {
        "id": "UQCqQQteFTI2"
      },
      "source": [
        "Another successful normalization technique is Batch Normalization. In practice it consist of linearly transform the input to have zero mean and unit variance\n",
        "\n",
        "* to compare features that have different magnitude (for example a feature that varies from 0 to 1 compared to another feature that varies from -100 to 0).\n",
        "* to reduce overfitting (we will understand soon);\n",
        "* to speed up training.\n",
        "\n",
        "Training Deep Neural Networks is complicated by the fact that the distribution of each layer's inputs changes during training, as the parameters of the previous layers change. The authors of the algorithm ([here the paper!](https://arxiv.org/abs/1502.03167)) define Internal Covariate Shift as the change in the distribution of network activations due to the change in network parameters during training. Batch normalization aims to compensate this effect normalizing the activations of a layer by subtracting the batch mean and dividing by the batch standard deviation. By whitening the input (activation of the previous layer) the algorithm tries to achieve a fixed distribution of inputs that would decrease the effects of the internal covariate shift.\n",
        "\n",
        "$$\n",
        "\\mu_b = \\frac{1}{m} \\sum_{i=1}^m x_i\\\\\n",
        "\\sigma_b^2 = \\frac{1}{m} \\sum_{i=1}^m (x_i - \\mu_b)^2\\\\\n",
        "\\hat{x_i} = \\frac{x_i - \\mu_b}{\\sqrt{\\sigma^2_b + \\epsilon}}\n",
        "$$\n",
        "\n",
        "However, after this shift/scale of activation outputs, the weights in the next layer are no longer optimal. When the optimizer tries to minimize the loss function it might learn how to undo the normalization (if this goes in a better  local minima). For this reason, batch normalization algorithm has two trainable parameters, so that the normalized output is multiplied by a \"standard deviation\" parameter (gamma) and is added to a \"mean\" parameter (beta). \n",
        "\n",
        "$$\n",
        "\\hat{y_i} = \\gamma \\hat{x_i} + \\beta\n",
        "$$\n",
        "\n",
        "In other words, batch normalization lets the optimizer do the denormalization by changing only these two weights for each activation, instead of losing the local minima by changing all the weights (and potentially render unstable all the network).\n",
        "\n",
        "**But, how batch normalization is related to overfitting?**\n",
        "\n",
        "In a way, batch normalization is similar to dropout in the sense that it multiplies each hidden unit by a random value at each step of training. In this case, the random value is the standard deviation of all the hidden units in the batch. Because different examples are randomly chosen for inclusion in the batch at each step, the standard deviation randomly fluctuates. At the same time, batch normalization also subtracts a random value (the mean of the batch) from each hidden unit at each step. These sources of noise mean that the network has to learn to be robust to variations of the input, similarly to dropout."
      ]
    },
    {
      "cell_type": "code",
      "metadata": {
        "id": "X8Q_J8CHlhqZ"
      },
      "source": [
        "class MyBatchNorm2d(nn.Module):\n",
        "    def __init__(self, gamma: float = 1.0, beta: float = 0.0):\n",
        "        super().__init__()\n",
        "\n",
        "        # two learnable parameters of Batch Norma\n",
        "        self.gamma = gamma\n",
        "        self.beta = beta\n",
        "\n",
        "        # Let us define a linear layer\n",
        "        self.linear = torch.nn.Linear(1, 1)\n",
        "        self.linear.weight.data.fill_(self.gamma)\n",
        "        self.linear.bias.data.fill_(self.beta)\n",
        "\n",
        "    def forward(self, X):\n",
        "        # first mean on axis 0 (batches), then on axis 2 (columns), then on axis 3 (row)\n",
        "        mu = X.mean([0, 2, 3])\n",
        "        # If unbiased is False, then the variance will be calculated via the biased estimator (without Bessel’s correction ). \n",
        "        # Otherwise, Bessel’s correction will be used.\n",
        "        var = X.var([0, 2, 3], unbiased=False)\n",
        "\n",
        "        # new normalized weights\n",
        "        X_norm_tmp = (X - mu) / np.sqrt(var + 1e-8)\n",
        "        X_norm = X_norm_tmp.view([12,1])\n",
        "\n",
        "        # below nothis else than: gamma * X_norm + beta\n",
        "        out = self.linear(X_norm)\n",
        "        return out.view(3,1,2,2)"
      ],
      "execution_count": null,
      "outputs": []
    },
    {
      "cell_type": "markdown",
      "metadata": {
        "id": "v2836HG1_vVL"
      },
      "source": [
        "Let us now test that our Batch Normalization gives the same results of the built-in PyTorch function"
      ]
    },
    {
      "cell_type": "code",
      "metadata": {
        "id": "669DiUlC3yyF"
      },
      "source": [
        "# define a tensor of dimension (batch, channel, H, W) = (3, 1, 2, 2)\n",
        "X = np.array([[[[1.0, 2.0],[3.0, 4.0]]], [[[2.0, 3.0],[1, 2.5]]], [[[3.0, 4.0],[2.0, 2.5]]]])\n",
        "# cast it to a torch tensor\n",
        "x = torch.tensor(X).float()\n",
        "\n",
        "# pytorch built-in function\n",
        "batch_norm = nn.BatchNorm2d(1, affine=False)\n",
        "# our BN version (put it in eval mode)\n",
        "my_batch_norm = MyBatchNorm2d().eval()"
      ],
      "execution_count": null,
      "outputs": []
    },
    {
      "cell_type": "markdown",
      "metadata": {
        "id": "N-cqc5VUAu6w"
      },
      "source": [
        "Let us check that we correctly initialized the parameters $\\gamma$ and $\\beta$"
      ]
    },
    {
      "cell_type": "code",
      "metadata": {
        "id": "G-lRBrC14R1h",
        "outputId": "3e18ad94-ddfe-497b-966e-163c2ee2da4b",
        "colab": {
          "base_uri": "https://localhost:8080/",
          "height": 70
        }
      },
      "source": [
        "list(my_batch_norm.named_parameters())"
      ],
      "execution_count": null,
      "outputs": [
        {
          "output_type": "execute_result",
          "data": {
            "text/plain": [
              "[('linear.weight', Parameter containing:\n",
              "  tensor([[1.]], requires_grad=True)), ('linear.bias', Parameter containing:\n",
              "  tensor([0.], requires_grad=True))]"
            ]
          },
          "metadata": {
            "tags": []
          },
          "execution_count": 25
        }
      ]
    },
    {
      "cell_type": "markdown",
      "metadata": {
        "id": "7pfIsiEbBDGn"
      },
      "source": [
        "Their difference must be zero"
      ]
    },
    {
      "cell_type": "code",
      "metadata": {
        "id": "-79dpkARz0_Y",
        "outputId": "3b3b3d4f-2132-4076-ece3-1cb3bf2c3469",
        "colab": {
          "base_uri": "https://localhost:8080/",
          "height": 194
        }
      },
      "source": [
        "my_batch_norm(x) - batch_norm(x)\n",
        "\n"
      ],
      "execution_count": null,
      "outputs": [
        {
          "output_type": "execute_result",
          "data": {
            "text/plain": [
              "tensor([[[[-9.0599e-06, -3.0398e-06],\n",
              "          [ 3.0398e-06,  9.0599e-06]]],\n",
              "\n",
              "\n",
              "        [[[-3.0398e-06,  3.0398e-06],\n",
              "          [-9.0599e-06,  0.0000e+00]]],\n",
              "\n",
              "\n",
              "        [[[ 3.0398e-06,  9.0599e-06],\n",
              "          [-3.0398e-06,  0.0000e+00]]]], grad_fn=<SubBackward0>)"
            ]
          },
          "metadata": {
            "tags": []
          },
          "execution_count": 26
        }
      ]
    },
    {
      "cell_type": "markdown",
      "metadata": {
        "id": "ji8RQv5M9mLe"
      },
      "source": [
        "## Regularization 3: L1 & L2"
      ]
    },
    {
      "cell_type": "markdown",
      "metadata": {
        "id": "UHphyaor93te"
      },
      "source": [
        "We already understood that overfitting occurs when a machine learning or statistics model is tailored to a particular dataset and is unable to generalize to other datasets. This usually happens in complex models, like deep neural networks.\n",
        "\n",
        "Differently from Dropout and Batch Normalization (that are implemented into the neural network, as if they were layers), Lasso (L1) and Ridge (L2) regularizations are terms that enter into the loss function. In other words they involve adding penalties to the loss function.\n",
        "\n",
        "The underline idea is that when a model undergoes overfitting, its weights become more specialized with respect to the training data. In particular they grow in size in order to handle the specifics of the training examples.\n",
        "Large weights make the network unstable, since they tend to cause large changes in output for small changes in the inputs. Therefore, it is better to limit or constrain the possible values the model can have. This is done by adding a penalty to high values of weights, so that the space of possible models you can achieve is reduced. This is exactly what L1 and L2 do. Simpler models are less variable, hence less overfitting (but potentially more biased).\n",
        "\n",
        "\n",
        "\n",
        "### Lasso L1 Regularization\n",
        "\n",
        "Lasso regularization (sometimes called regularization for sparsity) performs **L1 regularization**, i.e. it adds a factor of sum of absolute value of weights in the loss function\n",
        "\n",
        "$$L(w) = l(y_{pred}(w), y_{true}) + \\alpha \\sum_i^{\\text{all}} |w_i|$$\n",
        "\n",
        "L1 regularization encourages many of the coefficients in our model to be exactly 0. In particular, since the model is forced to fit data, this regularization encourages the meaningless weights to drop to zero. Only relevant features will survive (features selection). This results in sparse weight matrices.\n",
        "\n",
        "\n",
        "\n",
        "\n",
        "\n",
        "\n"
      ]
    },
    {
      "cell_type": "markdown",
      "metadata": {
        "id": "AtTWTCCr625U"
      },
      "source": [
        "### Ridge L2 Regularization\n",
        "\n",
        "L2 Regularization consist of adding a factor of sum of squares of weights in the loss function\n",
        "\n",
        "$$L(w) = l(y_{pred}(w), y_{true}) + \\alpha \\sum_i^{\\text{all}} |w_i|^2$$\n",
        "\n",
        "Contrary to L1, L2 regularization does not encourage sparsity but leads to a balanced minimization of the weights. L1 and L2 terms have different derivatives, $2\\alpha*weight$ and $\\alpha$. At each update, the L2 derivative reduces the weight by a percentage proportionally to its values. This diminishes the weight but it will still never reach zero. On the other side, L1 derivative is a constant and easily drops to zero the weight. Note that L1 is a non-differentiable term, but despite of that, there are numerical methods to minimize it. L2 instead is differentiable."
      ]
    },
    {
      "cell_type": "code",
      "metadata": {
        "id": "N-IQz7FImH_C"
      },
      "source": [
        "model_2_regularized = UniversalApprox(num_units = 2048, dropout_rate = .2)\n",
        "\n",
        "model_2_regularized.to(device)\n",
        "\n",
        "criterion = nn.MSELoss(reduction = 'mean')\n",
        "optimizer = torch.optim.Adam(model_2_regularized.parameters(), lr=learning_rate, weight_decay=0.001)  # L2 regularizations\n",
        "\n",
        "training(model_2_regularized, criterion = criterion, optimizer = optimizer, num_epochs = num_epoch)"
      ],
      "execution_count": null,
      "outputs": []
    },
    {
      "cell_type": "code",
      "metadata": {
        "id": "A7QAfJFomU0Y",
        "outputId": "818b7294-ca83-4d9a-c871-2aa716124bb4",
        "colab": {
          "base_uri": "https://localhost:8080/",
          "height": 621
        }
      },
      "source": [
        "model_2_regularized.eval()\n",
        "pred_reg = model_2_regularized(inputs.view(-1,1).to(device)).detach().to('cpu')\n",
        "\n",
        "model_2.eval()\n",
        "pred_notreg = model_2(inputs.view(-1,1).to(device)).detach().to('cpu')\n",
        "\n",
        "\n",
        "fig, ax = plt.subplots(figsize=(20,10))\n",
        "\n",
        "#pred_over = np.load('./overfitted_model.npy')\n",
        "#pred_corr = np.load('./correct_model.npy')\n",
        "\n",
        "ax.scatter(inputs, targets, c='b', s=3, label='target points')\n",
        "ax.scatter(inputs, pred_reg, c='g', s=5, label='model_2_l2-reg')\n",
        "ax.scatter(inputs, pred_notreg, c='r', s=5, label='model_2')\n",
        "\n",
        "\n",
        "ax.set_xticks(range(0, 1))\n",
        "plt.xlim(0, 1)\n",
        "ax.set_xlabel('Inputs')\n",
        "ax.set_ylabel('Function')\n",
        "ax.set_title(f'Model Predictions (After Training)')\n",
        "ax.legend(loc='upper right')\n",
        "plt.show()"
      ],
      "execution_count": null,
      "outputs": [
        {
          "output_type": "display_data",
          "data": {
            "image/png": "[encoded data removed]",
            "text/plain": [
              "<Figure size 1440x720 with 1 Axes>"
            ]
          },
          "metadata": {
            "tags": [],
            "needs_background": "light"
          }
        }
      ]
    },
    {
      "cell_type": "markdown",
      "metadata": {
        "id": "MHSBvKR3QNTV"
      },
      "source": [
        "## A Complete Training of LeNet CNN Model on MNIST Dataset\n",
        "\n",
        "In this section, we want to show a complete train of a LeNet network (a simple but non-trivial CNN, [here some refs](http://yann.lecun.com/exdb/lenet/)). We will show the following pipelines\n",
        "\n",
        "* Import, preprocess and properly normalize training and test data;\n",
        "* Build up the LeNet CNN and init its weights;\n",
        "* Train and evaluate the model using standard hold-out validation;\n",
        "* Tune hyperparameters with Optuna;\n",
        "* Train and evaluate the model using K-Fold Cross-Validation."
      ]
    },
    {
      "cell_type": "markdown",
      "metadata": {
        "id": "ZBKPCzq6T781"
      },
      "source": [
        "## Train LeNet Model with hold-out validation"
      ]
    },
    {
      "cell_type": "markdown",
      "metadata": {
        "id": "9AE9tPDSt6KK"
      },
      "source": [
        "### Import and Preprocess Data"
      ]
    },
    {
      "cell_type": "markdown",
      "metadata": {
        "id": "sdCk3BlD8dNr"
      },
      "source": [
        "Normally, digital pixels have values from $0$ to $255$. On the other side, neural networks process inputs using small weight values, and inputs with large integer values can disrupt or slow down the learning process. Therefore it is a good practice to normalize input to small values. We will apply the centering procedure, that consist of dividing first all pixel values by the highest value $255$. Then, we subtract the mean value and dividing by the standard deviation.\n",
        "\n",
        "From **torchvision** we import MNIST dataset and we apply on it **transforms**, which allows a set of common image transformations that can be composed. Then we give the result to a DataLoader, that combines a dataset and a sampler, and provides an iterable over the given dataset.\n",
        "\n",
        "As a first step, let us compute mean and standard deviation of MNIST training dataset:"
      ]
    },
    {
      "cell_type": "code",
      "metadata": {
        "id": "U7oqJm4LuTB7",
        "outputId": "dc3743d3-bc2b-40e3-909e-95feaf454ad0",
        "colab": {
          "base_uri": "https://localhost:8080/",
          "height": 466,
          "referenced_widgets": [
            "607877f88ffa4c3b8ac1f0ad203ab2bb",
            "7f82eb2625cc4aa29890ca2bb5690c11",
            "fd10646935914980ace2da47c1c05a2a",
            "e4b47b341d7644789ce56c402acd79c8",
            "9a13b65c32644a1c9bdd69cd9dda623c",
            "ecef3d0b5d8a45fd87c7aebf2b31dde3",
            "18189b69ffdb482b959b7a7a0c867b45",
            "e08e5cd5cb6f4e2cb69524fea25ce103",
            "5d6e09535a694a388d168e08aa4f7246",
            "088681b4d06c424e9f68df4a5cebd1fa",
            "67c6581f6f66448a932c387f54d4a32d",
            "342cc4a904984265910ee798765c4d69",
            "a70d142c118f44e9a7976c6a5403ab0b",
            "2c7796eb5a754263ac9e85e4e5940c73",
            "31734f484a4745ab849800daaf559f54",
            "d7d21bb646c043de910e829ac5a54bf4",
            "bf5d8eb306a9467aadf6c7d1c814fef0",
            "a0ee0a713dba46ce98f099bfff58d23a",
            "43b05a120a174a3c9f7fdceefd88b2d4",
            "11dd14e330f74caeb94382ad39660428",
            "ac38be435fa74a2fa6cbccee6ad55323",
            "187081f6b9b442e8813e4697f0db7c07",
            "d90800aae3ab4758b105b80225ecd7d3",
            "9c7856064aef4776ace351fc6fd0843b",
            "660ea6d7bdb74dcea6b00e57a58c2afa",
            "67513f2fe231497da26100c175a73016",
            "4bdedbea74bd487299fdc50d03ea70b2",
            "ef1e342dd8bc4dd68e42909e66b8e9b1",
            "da301b90ac0641acb150085d864566af",
            "bf7a4f11f66b46d0bbc392292363adb9",
            "d3fa498e72c74d488a33853b626394ae",
            "5159d534ee7643a3a7a1484e60965a60"
          ]
        }
      },
      "source": [
        "train_set = MNIST('./data', train=True, download=True)\n",
        "test_set = MNIST('./data', train=False, download=True)\n",
        "\n",
        "train_set_array = train_set.data.numpy() / 255.0\n",
        "test_set_array = test_set.data.numpy() / 255.0\n",
        "\n",
        "print('Train mean and std: %f  %f' %(train_set_array.mean(), train_set_array.std()))\n",
        "print('Test mean and std: %f  %f' %(test_set_array.mean(), test_set_array.std()))"
      ],
      "execution_count": null,
      "outputs": [
        {
          "output_type": "stream",
          "text": [
            "Downloading http://yann.lecun.com/exdb/mnist/train-images-idx3-ubyte.gz to ./data/MNIST/raw/train-images-idx3-ubyte.gz\n"
          ],
          "name": "stdout"
        },
        {
          "output_type": "display_data",
          "data": {
            "application/vnd.jupyter.widget-view+json": {
              "model_id": "607877f88ffa4c3b8ac1f0ad203ab2bb",
              "version_minor": 0,
              "version_major": 2
            },
            "text/plain": [
              "HBox(children=(FloatProgress(value=1.0, bar_style='info', max=1.0), HTML(value='')))"
            ]
          },
          "metadata": {
            "tags": []
          }
        },
        {
          "output_type": "stream",
          "text": [
            "Extracting ./data/MNIST/raw/train-images-idx3-ubyte.gz to ./data/MNIST/raw\n",
            "Downloading http://yann.lecun.com/exdb/mnist/train-labels-idx1-ubyte.gz to ./data/MNIST/raw/train-labels-idx1-ubyte.gz\n",
            "\n"
          ],
          "name": "stdout"
        },
        {
          "output_type": "display_data",
          "data": {
            "application/vnd.jupyter.widget-view+json": {
              "model_id": "5d6e09535a694a388d168e08aa4f7246",
              "version_minor": 0,
              "version_major": 2
            },
            "text/plain": [
              "HBox(children=(FloatProgress(value=1.0, bar_style='info', max=1.0), HTML(value='')))"
            ]
          },
          "metadata": {
            "tags": []
          }
        },
        {
          "output_type": "stream",
          "text": [
            "Extracting ./data/MNIST/raw/train-labels-idx1-ubyte.gz to ./data/MNIST/raw\n",
            "Downloading http://yann.lecun.com/exdb/mnist/t10k-images-idx3-ubyte.gz to ./data/MNIST/raw/t10k-images-idx3-ubyte.gz\n"
          ],
          "name": "stdout"
        },
        {
          "output_type": "display_data",
          "data": {
            "application/vnd.jupyter.widget-view+json": {
              "model_id": "bf5d8eb306a9467aadf6c7d1c814fef0",
              "version_minor": 0,
              "version_major": 2
            },
            "text/plain": [
              "HBox(children=(FloatProgress(value=1.0, bar_style='info', max=1.0), HTML(value='')))"
            ]
          },
          "metadata": {
            "tags": []
          }
        },
        {
          "output_type": "stream",
          "text": [
            "Extracting ./data/MNIST/raw/t10k-images-idx3-ubyte.gz to ./data/MNIST/raw\n",
            "Downloading http://yann.lecun.com/exdb/mnist/t10k-labels-idx1-ubyte.gz to ./data/MNIST/raw/t10k-labels-idx1-ubyte.gz\n"
          ],
          "name": "stdout"
        },
        {
          "output_type": "display_data",
          "data": {
            "application/vnd.jupyter.widget-view+json": {
              "model_id": "660ea6d7bdb74dcea6b00e57a58c2afa",
              "version_minor": 0,
              "version_major": 2
            },
            "text/plain": [
              "HBox(children=(FloatProgress(value=1.0, bar_style='info', max=1.0), HTML(value='')))"
            ]
          },
          "metadata": {
            "tags": []
          }
        },
        {
          "output_type": "stream",
          "text": [
            "Extracting ./data/MNIST/raw/t10k-labels-idx1-ubyte.gz to ./data/MNIST/raw\n",
            "Processing...\n"
          ],
          "name": "stdout"
        },
        {
          "output_type": "stream",
          "text": [
            "/usr/local/lib/python3.6/dist-packages/torchvision/datasets/mnist.py:469: UserWarning:\n",
            "\n",
            "The given NumPy array is not writeable, and PyTorch does not support non-writeable tensors. This means you can write to the underlying (supposedly non-writeable) NumPy array using the tensor. You may want to copy the array to protect its data or make it writeable before converting it to a tensor. This type of warning will be suppressed for the rest of this program. (Triggered internally at  /pytorch/torch/csrc/utils/tensor_numpy.cpp:141.)\n",
            "\n"
          ],
          "name": "stderr"
        },
        {
          "output_type": "stream",
          "text": [
            "Done!\n",
            "Train mean and std: 0.130660  0.308108\n",
            "Test mean and std: 0.132515  0.310480\n"
          ],
          "name": "stdout"
        }
      ]
    },
    {
      "cell_type": "markdown",
      "metadata": {
        "id": "nxdgzVqr0Zgg"
      },
      "source": [
        "**A good practice** is to normalize the test set using the training normalization parameters (mean and std).\n",
        "\n",
        "We want testing data points to represent real-world data that the network has never seen. If we take the mean and variance of the whole dataset we will be introducing future information into the training explanatory variables (i.e. the mean and variance).\n",
        "\n",
        "Therefore, you should perform feature normalisation over the training data. Then perform normalisation on testing instances as well, but this time using the mean and variance of training explanatory variables. In this way, we can test and evaluate whether our model can generalize well to new, unseen data points.\n",
        "\n",
        "To better understand imagine now that we have trained our model and we are on a production where new data keep coming for prediction. We might not get them in mass, but one by one such as in an API call. We do not have the mean and standard deviation of those new data. We only have the mean and std during the training process.  To sum up, the goal is to be as close as possible to real problems. Therefore, during training we should not use any knowledge we get from the test data."
      ]
    },
    {
      "cell_type": "code",
      "metadata": {
        "id": "N2FRkLfBA6yW",
        "outputId": "c4c8c36d-4a34-435c-d9f1-8307a784a921",
        "colab": {
          "base_uri": "https://localhost:8080/",
          "height": 34
        }
      },
      "source": [
        "# set the seed: built-in python, numpy, and pytorch\n",
        "seed = 172\n",
        "random.seed(seed)\n",
        "np.random.seed(seed)\n",
        "torch.manual_seed(seed) # works for all devices (CPU and GPU)"
      ],
      "execution_count": null,
      "outputs": [
        {
          "output_type": "execute_result",
          "data": {
            "text/plain": [
              "<torch._C.Generator at 0x7f39f69b0138>"
            ]
          },
          "metadata": {
            "tags": []
          },
          "execution_count": 7
        }
      ]
    },
    {
      "cell_type": "code",
      "metadata": {
        "id": "fQj-ZUoUvjTC"
      },
      "source": [
        "batch_size = 16\n",
        "\n",
        "transform = transforms.Compose([transforms.ToTensor(), \n",
        "                                        transforms.Normalize( (0.1307,), (0.3081,))])\n",
        "\n",
        "# DataLoader: combines a dataset and a sampler, and provides an iterable over the given dataset.\n",
        "train_loader = DataLoader(MNIST(root = './data', train = True, transform = transform, download=True), batch_size=batch_size , shuffle=False)\n",
        "# Splitting the test images (tot 10k) in valid and test set.\n",
        "valid_loader_tmp, test_loader_tmp = random_split(MNIST(root = './data', train = False, transform = transform, download=True), [7000, 3000]) \n",
        "\n",
        "valid_loader = DataLoader(valid_loader_tmp, batch_size=batch_size , shuffle=False)\n",
        "test_loader = DataLoader(test_loader_tmp, batch_size=batch_size , shuffle=False)"
      ],
      "execution_count": null,
      "outputs": []
    },
    {
      "cell_type": "markdown",
      "metadata": {
        "id": "2-SU8Sx7aijC"
      },
      "source": [
        "### Show Image\n"
      ]
    },
    {
      "cell_type": "code",
      "metadata": {
        "id": "PYW3X_OjjrVt",
        "outputId": "77204809-faaa-4610-e6f0-565d7e12f99e",
        "colab": {
          "base_uri": "https://localhost:8080/",
          "height": 70
        }
      },
      "source": [
        "imgs, labels = next(iter(train_loader))\n",
        "print(imgs.shape, labels)\n"
      ],
      "execution_count": null,
      "outputs": [
        {
          "output_type": "stream",
          "text": [
            "\n",
            "\n",
            "torch.Size([16, 1, 28, 28]) tensor([5, 0, 4, 1, 9, 2, 1, 3, 1, 4, 3, 5, 3, 6, 1, 7])\n"
          ],
          "name": "stdout"
        }
      ]
    },
    {
      "cell_type": "code",
      "metadata": {
        "id": "rCuQNDuWoKSA",
        "outputId": "db81c082-2f50-4505-ec5d-ca35758c4a7e",
        "colab": {
          "base_uri": "https://localhost:8080/",
          "height": 34
        }
      },
      "source": [
        "imgs[2].shape"
      ],
      "execution_count": null,
      "outputs": [
        {
          "output_type": "execute_result",
          "data": {
            "text/plain": [
              "torch.Size([1, 28, 28])"
            ]
          },
          "metadata": {
            "tags": []
          },
          "execution_count": 10
        }
      ]
    },
    {
      "cell_type": "code",
      "metadata": {
        "id": "z0xyVlnDp8ft",
        "outputId": "fe29bd7b-d468-46f3-b4b6-e55856443448",
        "colab": {
          "base_uri": "https://localhost:8080/",
          "height": 300
        }
      },
      "source": [
        "image = imgs[2] # shape [1, 28, 28]\n",
        "image = image.reshape([-1, 28, 28, 1])\n",
        "print(np.shape(image))\n",
        "plt.imshow(image.reshape([28, 28]), interpolation=\"nearest\", cmap=\"gray_r\")"
      ],
      "execution_count": null,
      "outputs": [
        {
          "output_type": "stream",
          "text": [
            "torch.Size([1, 28, 28, 1])\n"
          ],
          "name": "stdout"
        },
        {
          "output_type": "execute_result",
          "data": {
            "text/plain": [
              "<matplotlib.image.AxesImage at 0x7f39912df400>"
            ]
          },
          "metadata": {
            "tags": []
          },
          "execution_count": 11
        },
        {
          "output_type": "display_data",
          "data": {
            "image/png": "[encoded data removed]",
            "text/plain": [
              "<Figure size 432x288 with 1 Axes>"
            ]
          },
          "metadata": {
            "tags": [],
            "needs_background": "light"
          }
        }
      ]
    },
    {
      "cell_type": "markdown",
      "metadata": {
        "id": "5ryJmjq3amVy"
      },
      "source": [
        "### LeNet Model\n",
        "\n",
        "We star with a simple CNN, the so called LeNet. The idea is to introduce a few concepts, build up a pipeline and be as clear as possible. "
      ]
    },
    {
      "cell_type": "code",
      "metadata": {
        "id": "P7mQDrBJYuYt",
        "outputId": "35a285dd-017c-4b85-fe59-f4ebf1cc9ded",
        "colab": {
          "base_uri": "https://localhost:8080/",
          "height": 34
        }
      },
      "source": [
        "l = [0,1,2,3,4,5,6]\n",
        "l.insert(2, 172)\n",
        "l.insert(5, 172)\n",
        "l"
      ],
      "execution_count": null,
      "outputs": [
        {
          "output_type": "execute_result",
          "data": {
            "text/plain": [
              "[0, 1, 172, 2, 3, 172, 4, 5, 6]"
            ]
          },
          "metadata": {
            "tags": []
          },
          "execution_count": 12
        }
      ]
    },
    {
      "cell_type": "code",
      "metadata": {
        "id": "tiORodbFqrHI"
      },
      "source": [
        "class LeNet(nn.Module):\n",
        "    def __init__(self, dropout_rate = .2, batch_norm = True):\n",
        "        super().__init__()\n",
        "\n",
        "        self.batch_norm = batch_norm\n",
        "        self.dropout_rate = dropout_rate\n",
        "\n",
        "        layers = [\n",
        "            nn.Conv2d(1, 6, kernel_size=3), #64\n",
        "            nn.ReLU(),\n",
        "            nn.MaxPool2d(kernel_size = 2, stride=2),\n",
        "            nn.Conv2d(6, 16, kernel_size=3), #128\n",
        "            nn.ReLU(),\n",
        "            nn.MaxPool2d(kernel_size = 2, stride=2),\n",
        "            nn.Dropout2d(p = self.dropout_rate)]\n",
        "\n",
        "        if self.batch_norm == True:\n",
        "            layers.insert(2, nn.BatchNorm2d(6))\n",
        "            layers.insert(6, nn.BatchNorm2d(16))\n",
        "          \n",
        "\n",
        "        self.feature_extractor = nn.Sequential(*layers)\n",
        "        \n",
        "        self.classifier = nn.Sequential(\n",
        "            nn.Linear(16*5*5, 84), #84\n",
        "            nn.ReLU(),\n",
        "            nn.Dropout(p = self.dropout_rate),\n",
        "            nn.Linear(84, 10),\n",
        "        )\n",
        "\n",
        "    def forward(self, x):\n",
        "        features = self.feature_extractor(x)\n",
        "        features = features.view(x.shape[0], -1)\n",
        "        logits = self.classifier(features)\n",
        "        return logits"
      ],
      "execution_count": null,
      "outputs": []
    },
    {
      "cell_type": "markdown",
      "metadata": {
        "id": "UUEiwOtSqFx1"
      },
      "source": [
        "### Weights Initialization"
      ]
    },
    {
      "cell_type": "markdown",
      "metadata": {
        "id": "dimObwP6bUgb"
      },
      "source": [
        "We will now initialize weights (and biases) using Xavier initialization. If you are more interested in understanding its details, you can find here the origina paper by [Xavier and Bengio](http://proceedings.mlr.press/v9/glorot10a/glorot10a.pdf).\n",
        "\n",
        "There are several ways to initialize parmeters. However, the most naively ones might cause vanishing gradinet effects during training. Researchers finded more safe initializations. One of them is Xavier initialization.\n",
        "It sets a layer’s weights to values chosen from a random uniform distribution that is bounded between\n",
        "\n",
        "\n",
        "$$\\pm \\frac{\\sqrt{6}}{\\sqrt{n_i+n_{i+1}}}, $$\n",
        "\n",
        "where $n_i$ is the number of incoming network connections, or *fan-in*, to the layer, and $n_{i+1}$ is the number of outgoing network connections from that layer, also known as the *fan-out*. We are going to use it for weights initialization (`nn.init.xavier_uniform_(m.weight)`). For biases initialization instead we will adopt a slightly different approach, just to show you how you can play with initializations."
      ]
    },
    {
      "cell_type": "code",
      "metadata": {
        "id": "eUUdTKP7fhFo"
      },
      "source": [
        "def weight_init(m):\n",
        "    torch.manual_seed(seed) \n",
        "    if isinstance(m, nn.Conv2d) or isinstance(m, nn.Linear):\n",
        "        nn.init.xavier_uniform_(m.weight)\n",
        "        if m.bias is not None:\n",
        "            fan_in, _ = nn.init._calculate_fan_in_and_fan_out(m.weight)\n",
        "            bound = 1 / np.sqrt(fan_in)\n",
        "            nn.init.uniform_(m.bias, -bound, bound)"
      ],
      "execution_count": null,
      "outputs": []
    },
    {
      "cell_type": "code",
      "metadata": {
        "id": "22InO0WGtZu_",
        "outputId": "ec4afa6f-7ff4-4bef-a011-acda211fa3e2",
        "colab": {
          "base_uri": "https://localhost:8080/",
          "height": 354
        }
      },
      "source": [
        "lenet = LeNet(dropout_rate = 0.2, batch_norm=True)\n",
        "#lenet = LeNet(dropout_rate = 0.000001, batch_norm=False)\n",
        "\n",
        "# apply weight init\n",
        "lenet.apply(weight_init)\n",
        "\n",
        "# put the model on the device\n",
        "lenet.cuda() # alternatively: lenet.to(device)\n"
      ],
      "execution_count": null,
      "outputs": [
        {
          "output_type": "execute_result",
          "data": {
            "text/plain": [
              "LeNet(\n",
              "  (feature_extractor): Sequential(\n",
              "    (0): Conv2d(1, 6, kernel_size=(3, 3), stride=(1, 1))\n",
              "    (1): ReLU()\n",
              "    (2): BatchNorm2d(6, eps=1e-05, momentum=0.1, affine=True, track_running_stats=True)\n",
              "    (3): MaxPool2d(kernel_size=2, stride=2, padding=0, dilation=1, ceil_mode=False)\n",
              "    (4): Conv2d(6, 16, kernel_size=(3, 3), stride=(1, 1))\n",
              "    (5): ReLU()\n",
              "    (6): BatchNorm2d(16, eps=1e-05, momentum=0.1, affine=True, track_running_stats=True)\n",
              "    (7): MaxPool2d(kernel_size=2, stride=2, padding=0, dilation=1, ceil_mode=False)\n",
              "    (8): Dropout2d(p=0.2, inplace=False)\n",
              "  )\n",
              "  (classifier): Sequential(\n",
              "    (0): Linear(in_features=400, out_features=84, bias=True)\n",
              "    (1): ReLU()\n",
              "    (2): Dropout(p=0.2, inplace=False)\n",
              "    (3): Linear(in_features=84, out_features=10, bias=True)\n",
              "  )\n",
              ")"
            ]
          },
          "metadata": {
            "tags": []
          },
          "execution_count": 15
        }
      ]
    },
    {
      "cell_type": "code",
      "metadata": {
        "id": "74o3mkz0vfYR",
        "outputId": "9f0669e3-50ff-40cd-a12e-0756701bbdf1",
        "colab": {
          "base_uri": "https://localhost:8080/",
          "height": 478
        }
      },
      "source": [
        "# check that the model is working\n",
        "summary(lenet, (1, 28, 28))"
      ],
      "execution_count": null,
      "outputs": [
        {
          "output_type": "stream",
          "text": [
            "----------------------------------------------------------------\n",
            "        Layer (type)               Output Shape         Param #\n",
            "================================================================\n",
            "            Conv2d-1            [-1, 6, 26, 26]              60\n",
            "              ReLU-2            [-1, 6, 26, 26]               0\n",
            "       BatchNorm2d-3            [-1, 6, 26, 26]              12\n",
            "         MaxPool2d-4            [-1, 6, 13, 13]               0\n",
            "            Conv2d-5           [-1, 16, 11, 11]             880\n",
            "              ReLU-6           [-1, 16, 11, 11]               0\n",
            "       BatchNorm2d-7           [-1, 16, 11, 11]              32\n",
            "         MaxPool2d-8             [-1, 16, 5, 5]               0\n",
            "         Dropout2d-9             [-1, 16, 5, 5]               0\n",
            "           Linear-10                   [-1, 84]          33,684\n",
            "             ReLU-11                   [-1, 84]               0\n",
            "          Dropout-12                   [-1, 84]               0\n",
            "           Linear-13                   [-1, 10]             850\n",
            "================================================================\n",
            "Total params: 35,518\n",
            "Trainable params: 35,518\n",
            "Non-trainable params: 0\n",
            "----------------------------------------------------------------\n",
            "Input size (MB): 0.00\n",
            "Forward/backward pass size (MB): 0.15\n",
            "Params size (MB): 0.14\n",
            "Estimated Total Size (MB): 0.29\n",
            "----------------------------------------------------------------\n"
          ],
          "name": "stdout"
        }
      ]
    },
    {
      "cell_type": "markdown",
      "metadata": {
        "id": "cl5aSZSDdC0W"
      },
      "source": [
        "To keep under control all steps"
      ]
    },
    {
      "cell_type": "code",
      "metadata": {
        "id": "vDDrKnst15wX",
        "outputId": "89b61f84-6b35-4bda-c853-3471f5d26066",
        "colab": {
          "base_uri": "https://localhost:8080/",
          "height": 532
        }
      },
      "source": [
        "torch.save(lenet.state_dict(), './weights_init')\n",
        "\n",
        "list(lenet.parameters())[0]"
      ],
      "execution_count": null,
      "outputs": [
        {
          "output_type": "execute_result",
          "data": {
            "text/plain": [
              "Parameter containing:\n",
              "tensor([[[[-0.1562, -0.1802,  0.2467],\n",
              "          [ 0.2934,  0.2136,  0.1818],\n",
              "          [ 0.2655, -0.3056, -0.0591]]],\n",
              "\n",
              "\n",
              "        [[[-0.2284, -0.1789,  0.2981],\n",
              "          [-0.2880, -0.0393, -0.1080],\n",
              "          [-0.1186, -0.1669, -0.2160]]],\n",
              "\n",
              "\n",
              "        [[[ 0.0983, -0.0844,  0.2297],\n",
              "          [-0.2784, -0.1143, -0.0104],\n",
              "          [-0.2498, -0.1786,  0.2177]]],\n",
              "\n",
              "\n",
              "        [[[-0.1314,  0.1066, -0.2609],\n",
              "          [-0.1883,  0.1763,  0.0388],\n",
              "          [-0.0899,  0.2967, -0.2992]]],\n",
              "\n",
              "\n",
              "        [[[ 0.1354,  0.1173,  0.1132],\n",
              "          [ 0.0986,  0.0031,  0.1644],\n",
              "          [-0.1876, -0.2926,  0.2668]]],\n",
              "\n",
              "\n",
              "        [[[ 0.1527,  0.0065,  0.1030],\n",
              "          [-0.0440,  0.1028, -0.2853],\n",
              "          [ 0.2688, -0.2156, -0.0882]]]], device='cuda:0', requires_grad=True)"
            ]
          },
          "metadata": {
            "tags": []
          },
          "execution_count": 17
        }
      ]
    },
    {
      "cell_type": "markdown",
      "metadata": {
        "id": "ROpfooUCqNrT"
      },
      "source": [
        "### Training and Evaluation\n",
        "\n",
        "Let us first define \n",
        "\n",
        "* a function that computes accuracy from logits (applying a softmax function);\n",
        "\n",
        "* a function that computes evaluation.\n",
        "\n",
        "Logits are the unnormalized final scores (predictions) of our model. We must apply softmax to it to get a probability distribution over our classes. If you remind, the LeNet() class returns logits\n",
        "\n",
        "\n",
        "\n",
        "```python\n",
        "class LeNet(nn.Module):\n",
        "    def __init__(self, dropout_rate = .2, batch_norm = True):\n",
        "          ...\n",
        "          ...\n",
        "          ...\n",
        "\n",
        "    def forward(self, x):\n",
        "        features = self.feature_extractor(x)\n",
        "        features = features.view(x.shape[0], -1)\n",
        "        logits = self.classifier(features)\n",
        "        return logits\n",
        "        \n",
        "```\n",
        "\n"
      ]
    },
    {
      "cell_type": "code",
      "metadata": {
        "id": "--ZryiNvxyth"
      },
      "source": [
        "def get_accuracy_from_logits(logits, labels):\n",
        "    softmax = nn.Softmax(dim=1)\n",
        "    argmax = torch.argmax(softmax(logits.float()), dim=1)\n",
        "    pred_class = argmax.long()\n",
        "    acc = (pred_class == labels.long()).float().mean()\n",
        "    return acc\n",
        "\n",
        "def evaluate(net, crit, dataloader, device):\n",
        "    net.eval()\n",
        "\n",
        "    mean_acc, mean_loss = 0, 0\n",
        "    count = 0\n",
        "\n",
        "    with torch.no_grad():\n",
        "        for data, labels in dataloader:\n",
        "            data, labels = data.to(device), labels.to(device)\n",
        "            logits = net(data)\n",
        "            mean_loss += crit(logits, labels).item()\n",
        "            mean_acc += get_accuracy_from_logits(logits, labels)\n",
        "            count += 1\n",
        "\n",
        "    return mean_acc / count, mean_loss / count"
      ],
      "execution_count": null,
      "outputs": []
    },
    {
      "cell_type": "code",
      "metadata": {
        "id": "TnmsFxJppv1n",
        "outputId": "74f91eeb-2de6-48ef-b65e-63f00fa665d9",
        "colab": {
          "base_uri": "https://localhost:8080/",
          "height": 34
        }
      },
      "source": [
        "len(train_loader) # 3750*batch_size"
      ],
      "execution_count": null,
      "outputs": [
        {
          "output_type": "execute_result",
          "data": {
            "text/plain": [
              "3750"
            ]
          },
          "metadata": {
            "tags": []
          },
          "execution_count": 19
        }
      ]
    },
    {
      "cell_type": "code",
      "metadata": {
        "id": "1hotozlhni1N"
      },
      "source": [
        "# The SummaryWriter class is your main entry to log data for consumption and visualization by TensorBoard.\n",
        "writer = SummaryWriter() # it will output to ./runs/ directory by default\n",
        "\n",
        "def training(model, train_loader, valid_loader, optim, crit, epochs, device, model_save = True):\n",
        "    # set up the model on training phase\n",
        "    model.train()\n",
        "    best_acc = 0\n",
        "    tot_len = len(train_loader)\n",
        "    for epoch in range(1, epochs + 1):\n",
        "        for batch_idx, (data, labels) in enumerate(train_loader):\n",
        "            # transfer data on the device\n",
        "            data, labels = data.to(device), labels.to(device)\n",
        "            #Clear gradients  \n",
        "            # Since the backward() function accumulates gradients, and you do not want to mix up \n",
        "            # gradients between different batches, you have to zero them out at the start of a new batch.\n",
        "            optim.zero_grad()\n",
        "            logits = model(data)\n",
        "            loss = crit(logits, labels)\n",
        "            loss.backward()\n",
        "            optim.step()\n",
        "            if batch_idx % 200 == 0:\n",
        "                print('Train Epoch: {} [{}/{} ({:.0f}%)]\\tLoss: {:.6f}'.format(\n",
        "                    epoch, batch_idx * len(data), len(train_loader.dataset),\n",
        "                    100. * batch_idx / len(train_loader), loss.item()))\n",
        "                writer.add_scalars('Loss', {'train': loss.item()}, batch_idx + tot_len*(epoch-1))\n",
        "\n",
        "            if batch_idx % 500 == 0:\n",
        "                _, valid_loss = evaluate(model, crit, valid_loader, device)\n",
        "                writer.add_scalars('Loss', {'valid': valid_loss}, batch_idx + tot_len*(epoch-1))\n",
        "                # set again the model to train mode\n",
        "                model.train()\n",
        "    \n",
        "        valid_acc, _ = evaluate(model, crit, valid_loader, device)\n",
        "        #writer.add_scalar('Accuracy', valid_acc, tot_len + tot_len*(epoch-1))\n",
        "        writer.add_scalars('Acc', {'valid': valid_acc}, tot_len + tot_len*(epoch-1))\n",
        "\n",
        "        if valid_acc > best_acc:\n",
        "          print(\"Best validation accuracy improved from {} to {}, saving model...\".format(best_acc, valid_acc))\n",
        "          best_acc = valid_acc\n",
        "          if model_save:\n",
        "            torch.save(model.state_dict(), 'Models/lenet_{}.pt'.format(epoch))\n",
        "\n",
        "    return best_acc\n",
        "    \n",
        "def test(model, device, test_loader):\n",
        "    model.eval()\n",
        "    test_loss = 0\n",
        "    correct = 0\n",
        "    with torch.no_grad():\n",
        "        for data, labels in test_loader:\n",
        "            data, labels = data.to(device), labels.to(device)\n",
        "            output = model(data)\n",
        "            test_loss += criterion(output, labels).item() # sum up batch loss\n",
        "            pred = output.argmax(dim=1, keepdim=True) # get the index of the max log-probability\n",
        "            correct += pred.eq(labels.view_as(pred)).sum().item()\n",
        "\n",
        "    test_loss /= len(test_loader.dataset)\n",
        "\n",
        "    print('\\nTest set: Loss: {:.4f}, Accuracy: {}/{} ({:.1f}%)\\n'.format(\n",
        "        test_loss, correct, len(test_loader.dataset),\n",
        "        100. * correct / len(test_loader.dataset)))"
      ],
      "execution_count": null,
      "outputs": []
    },
    {
      "cell_type": "code",
      "metadata": {
        "id": "dcNjSHBbEiI0"
      },
      "source": [
        "#!rm -rf runs\n",
        "#!rm -rf Models"
      ],
      "execution_count": null,
      "outputs": []
    },
    {
      "cell_type": "code",
      "metadata": {
        "id": "4kENFWEdZKsh"
      },
      "source": [
        "epochs = 3\n",
        "!mkdir Models\n"
      ],
      "execution_count": null,
      "outputs": []
    },
    {
      "cell_type": "markdown",
      "metadata": {
        "id": "61YjipGhv2za"
      },
      "source": [
        "Let us train the LeNet model"
      ]
    },
    {
      "cell_type": "code",
      "metadata": {
        "id": "xjjff52rZJGE",
        "outputId": "267ad8b7-e32a-4ce1-e11c-142fd1d07004",
        "colab": {
          "base_uri": "https://localhost:8080/",
          "height": 1000
        }
      },
      "source": [
        "# define loss function\n",
        "criterion = nn.CrossEntropyLoss() # The input is expected to contain raw, unnormalized scores for each class (logits)\n",
        "\n",
        "# define optimizer\n",
        "optimizer = torch.optim.Adam(lenet.parameters(), lr = 0.0001) \n",
        "\n",
        "kwargs = {'optim': optimizer, 'crit': criterion, \n",
        "          'epochs': epochs, 'device': device}\n",
        "\n",
        "training(lenet, train_loader, valid_loader, **kwargs)\n",
        "\n",
        "writer.close()"
      ],
      "execution_count": null,
      "outputs": [
        {
          "output_type": "stream",
          "text": [
            "Train Epoch: 1 [0/60000 (0%)]\tLoss: 2.658118\n",
            "Train Epoch: 1 [3200/60000 (5%)]\tLoss: 1.877341\n",
            "Train Epoch: 1 [6400/60000 (11%)]\tLoss: 0.906877\n",
            "Train Epoch: 1 [9600/60000 (16%)]\tLoss: 0.992326\n",
            "Train Epoch: 1 [12800/60000 (21%)]\tLoss: 0.756338\n",
            "Train Epoch: 1 [16000/60000 (27%)]\tLoss: 0.611249\n",
            "Train Epoch: 1 [19200/60000 (32%)]\tLoss: 0.681029\n",
            "Train Epoch: 1 [22400/60000 (37%)]\tLoss: 0.531705\n",
            "Train Epoch: 1 [25600/60000 (43%)]\tLoss: 0.475723\n",
            "Train Epoch: 1 [28800/60000 (48%)]\tLoss: 0.323899\n",
            "Train Epoch: 1 [32000/60000 (53%)]\tLoss: 0.293203\n",
            "Train Epoch: 1 [35200/60000 (59%)]\tLoss: 0.303319\n",
            "Train Epoch: 1 [38400/60000 (64%)]\tLoss: 0.260779\n",
            "Train Epoch: 1 [41600/60000 (69%)]\tLoss: 0.630203\n",
            "Train Epoch: 1 [44800/60000 (75%)]\tLoss: 0.377947\n",
            "Train Epoch: 1 [48000/60000 (80%)]\tLoss: 0.258571\n",
            "Train Epoch: 1 [51200/60000 (85%)]\tLoss: 0.252461\n",
            "Train Epoch: 1 [54400/60000 (91%)]\tLoss: 0.185472\n",
            "Train Epoch: 1 [57600/60000 (96%)]\tLoss: 0.153833\n",
            "Best validation accuracy improved from 0 to 0.9493435621261597, saving model...\n",
            "Train Epoch: 2 [0/60000 (0%)]\tLoss: 0.024123\n",
            "Train Epoch: 2 [3200/60000 (5%)]\tLoss: 0.130229\n",
            "Train Epoch: 2 [6400/60000 (11%)]\tLoss: 0.065516\n",
            "Train Epoch: 2 [9600/60000 (16%)]\tLoss: 0.172996\n",
            "Train Epoch: 2 [12800/60000 (21%)]\tLoss: 0.466775\n",
            "Train Epoch: 2 [16000/60000 (27%)]\tLoss: 0.300096\n",
            "Train Epoch: 2 [19200/60000 (32%)]\tLoss: 0.308893\n",
            "Train Epoch: 2 [22400/60000 (37%)]\tLoss: 0.160884\n",
            "Train Epoch: 2 [25600/60000 (43%)]\tLoss: 0.371183\n",
            "Train Epoch: 2 [28800/60000 (48%)]\tLoss: 0.104835\n",
            "Train Epoch: 2 [32000/60000 (53%)]\tLoss: 0.090048\n",
            "Train Epoch: 2 [35200/60000 (59%)]\tLoss: 0.276485\n",
            "Train Epoch: 2 [38400/60000 (64%)]\tLoss: 0.138195\n",
            "Train Epoch: 2 [41600/60000 (69%)]\tLoss: 0.143029\n",
            "Train Epoch: 2 [44800/60000 (75%)]\tLoss: 0.176333\n",
            "Train Epoch: 2 [48000/60000 (80%)]\tLoss: 0.076039\n",
            "Train Epoch: 2 [51200/60000 (85%)]\tLoss: 0.105853\n",
            "Train Epoch: 2 [54400/60000 (91%)]\tLoss: 0.173984\n",
            "Train Epoch: 2 [57600/60000 (96%)]\tLoss: 0.028254\n",
            "Best validation accuracy improved from 0.9493435621261597 to 0.9650399088859558, saving model...\n",
            "Train Epoch: 3 [0/60000 (0%)]\tLoss: 0.006625\n",
            "Train Epoch: 3 [3200/60000 (5%)]\tLoss: 0.081922\n",
            "Train Epoch: 3 [6400/60000 (11%)]\tLoss: 0.008145\n",
            "Train Epoch: 3 [9600/60000 (16%)]\tLoss: 0.155789\n",
            "Train Epoch: 3 [12800/60000 (21%)]\tLoss: 0.172112\n",
            "Train Epoch: 3 [16000/60000 (27%)]\tLoss: 0.211707\n",
            "Train Epoch: 3 [19200/60000 (32%)]\tLoss: 0.073751\n",
            "Train Epoch: 3 [22400/60000 (37%)]\tLoss: 0.162197\n",
            "Train Epoch: 3 [25600/60000 (43%)]\tLoss: 0.258020\n",
            "Train Epoch: 3 [28800/60000 (48%)]\tLoss: 0.088516\n",
            "Train Epoch: 3 [32000/60000 (53%)]\tLoss: 0.183380\n",
            "Train Epoch: 3 [35200/60000 (59%)]\tLoss: 0.117713\n",
            "Train Epoch: 3 [38400/60000 (64%)]\tLoss: 0.205328\n",
            "Train Epoch: 3 [41600/60000 (69%)]\tLoss: 0.161860\n",
            "Train Epoch: 3 [44800/60000 (75%)]\tLoss: 0.078178\n",
            "Train Epoch: 3 [48000/60000 (80%)]\tLoss: 0.058415\n",
            "Train Epoch: 3 [51200/60000 (85%)]\tLoss: 0.056863\n",
            "Train Epoch: 3 [54400/60000 (91%)]\tLoss: 0.116861\n",
            "Train Epoch: 3 [57600/60000 (96%)]\tLoss: 0.075509\n",
            "Best validation accuracy improved from 0.9650399088859558 to 0.9740296602249146, saving model...\n"
          ],
          "name": "stdout"
        }
      ]
    },
    {
      "cell_type": "markdown",
      "metadata": {
        "id": "W6QyPq_6H6YO"
      },
      "source": [
        "Let us now evaluate the model on the test set"
      ]
    },
    {
      "cell_type": "code",
      "metadata": {
        "id": "_pBd_Wz83GlS",
        "outputId": "c4b2a320-4edc-4233-b910-62b0f4bbb56c",
        "colab": {
          "base_uri": "https://localhost:8080/",
          "height": 70
        }
      },
      "source": [
        "# Model with Batch Normalization active\n",
        "test(lenet, device = device, test_loader=test_loader)"
      ],
      "execution_count": null,
      "outputs": [
        {
          "output_type": "stream",
          "text": [
            "\n",
            "Test set: Loss: 0.0042, Accuracy: 2933/3000 (97.8%)\n",
            "\n"
          ],
          "name": "stdout"
        }
      ]
    },
    {
      "cell_type": "code",
      "metadata": {
        "id": "vKQKAqaI3KGu",
        "outputId": "86ecf139-9f8b-41da-9a81-b2077a43f3ce",
        "colab": {
          "base_uri": "https://localhost:8080/",
          "height": 87
        }
      },
      "source": [
        "list(lenet.parameters())[0][0]"
      ],
      "execution_count": null,
      "outputs": [
        {
          "output_type": "execute_result",
          "data": {
            "text/plain": [
              "tensor([[[-0.1530, -0.1603,  0.2593],\n",
              "         [ 0.2800,  0.2426,  0.2417],\n",
              "         [ 0.2658, -0.2709, -0.0232]]], device='cuda:0',\n",
              "       grad_fn=<SelectBackward>)"
            ]
          },
          "metadata": {
            "tags": []
          },
          "execution_count": 24
        }
      ]
    },
    {
      "cell_type": "code",
      "metadata": {
        "id": "9m8rzjnKmU9P",
        "outputId": "9574cb9a-f3f8-465b-83b3-232823ac8fff",
        "colab": {
          "base_uri": "https://localhost:8080/",
          "height": 34
        }
      },
      "source": [
        "lenet_ = LeNet(dropout_rate = 0.4, batch_norm=True) #LeNet()\n",
        "lenet_.cuda()\n",
        "lenet_.load_state_dict(torch.load('./weights_init'))"
      ],
      "execution_count": null,
      "outputs": [
        {
          "output_type": "execute_result",
          "data": {
            "text/plain": [
              "<All keys matched successfully>"
            ]
          },
          "metadata": {
            "tags": []
          },
          "execution_count": 25
        }
      ]
    },
    {
      "cell_type": "code",
      "metadata": {
        "id": "Qydnfz95mfrS",
        "outputId": "c4c427f3-40a9-4f92-c29b-52a80f4e112a",
        "colab": {
          "base_uri": "https://localhost:8080/",
          "height": 87
        }
      },
      "source": [
        "list(lenet_.parameters())[0][0]"
      ],
      "execution_count": null,
      "outputs": [
        {
          "output_type": "execute_result",
          "data": {
            "text/plain": [
              "tensor([[[-0.1562, -0.1802,  0.2467],\n",
              "         [ 0.2934,  0.2136,  0.1818],\n",
              "         [ 0.2655, -0.3056, -0.0591]]], device='cuda:0',\n",
              "       grad_fn=<SelectBackward>)"
            ]
          },
          "metadata": {
            "tags": []
          },
          "execution_count": 26
        }
      ]
    },
    {
      "cell_type": "code",
      "metadata": {
        "id": "DoSdmZ-BblFi",
        "outputId": "7594a394-8b8a-408b-d201-1c7791ca1a23",
        "colab": {
          "base_uri": "https://localhost:8080/",
          "height": 820
        }
      },
      "source": [
        "# Start tensorboard.\n",
        "%load_ext tensorboard\n",
        "%tensorboard --logdir runs/"
      ],
      "execution_count": null,
      "outputs": []
    },
    {
      "cell_type": "markdown",
      "metadata": {
        "id": "2VEH5WiYLYjB"
      },
      "source": [
        "## Hyperparameters Tuning with Optuna\n",
        "\n",
        "\n"
      ]
    },
    {
      "cell_type": "markdown",
      "metadata": {
        "id": "zJJo9vkBl2Qv"
      },
      "source": [
        "Hyperparameter optimization is an important issue in machine learning. Parameters are learned during training, as we have seen so far. Hyperparameters are instead setup before training and they do not take part to backpropagation. Different hyperparameter setups can evolve in different performances. Therefore it is important to explore the landscape of hyperparameter combinations and find out the best one according to a choosen metric.\n",
        "\n",
        "[Optuna](https://optuna.org/) is an open source hyperparameter optimization framework to automate hyperparameter search. Optuna is framework agnostic. You can use it with any machine learning or deep learning framework.\n",
        "\n",
        "The main objects of an Optuna pipeline are\n",
        "\n",
        "* a **trial** corresponds to a single execution of the objective function and it is internally instantiated upon each invocation of the function;\n",
        "\n",
        "* **suggest methods** are called inside the objective function to obtain parameters for a trial;\n",
        "\n",
        "* a **study object** is created to start the optimization."
      ]
    },
    {
      "cell_type": "code",
      "metadata": {
        "id": "SXgEz_vuPAQp"
      },
      "source": [
        "# let us define our objective function\n",
        "def train_mnist(trial):\n",
        "\n",
        "  # configuration\n",
        "  cfg = { 'device' : \"cuda\" if torch.cuda.is_available() else \"cpu\",\n",
        "          'n_epochs' : 1,\n",
        "          'seed' : 0,\n",
        "          'model_save' : False,\n",
        "          'lr' : trial.suggest_loguniform('lr', 1e-4, 1e-2),          \n",
        "          'dropout': trial.suggest_discrete_uniform('dropout', 0.1, 0.3, 0.5),\n",
        "          'optimizer': trial.suggest_categorical('optimizer',[torch.optim.SGD, torch.optim.Adam]),\n",
        "          'batch_norm': trial.suggest_categorical('batch_norm',[True, False]),\n",
        "          }\n",
        "\n",
        "  torch.manual_seed(cfg['seed'])\n",
        "  # model\n",
        "  lenet = LeNet(dropout_rate = cfg['dropout']).to(device)\n",
        "  # apply weight init\n",
        "  lenet.apply(weight_init)\n",
        "\n",
        "  criterion = nn.CrossEntropyLoss()\n",
        "  optimizer = cfg['optimizer'](lenet.parameters(), lr=cfg['lr'])\n",
        "\n",
        "  best_valid_acc = training(lenet, train_loader, valid_loader, optimizer, criterion, \n",
        "                  epochs = cfg['n_epochs'], device = cfg['device'], model_save = cfg['model_save'])\n",
        "\n",
        "  return best_valid_acc"
      ],
      "execution_count": null,
      "outputs": []
    },
    {
      "cell_type": "markdown",
      "metadata": {
        "id": "RKpYTX-vEW6U"
      },
      "source": [
        "To determine the hyperparameter values to be used in a trial, we must define e sampler. We will use `optuna.samplers.TPESampler()` that is based on Tree-structured Parzen Estimator algorithm (it makes use of Gaussian Mixture Models, more details [here](https://optuna.readthedocs.io/en/stable/reference/generated/optuna.samplers.TPESampler.html#optuna.samplers.TPESampler)). There are [several samplers](https://optuna.readthedocs.io/en/stable/reference/samplers.html), for instance also the most basic ones like `optuna.samplers.GridSampler` which suggests all combinations of parameters in the given search space during the study."
      ]
    },
    {
      "cell_type": "code",
      "metadata": {
        "id": "BoZYv0C3jCj4",
        "outputId": "51cc988e-d54f-435a-a626-a3b444611153",
        "colab": {
          "base_uri": "https://localhost:8080/",
          "height": 1000
        }
      },
      "source": [
        "import joblib\n",
        "\n",
        "# a sampler has the responsibility to determine the parameter values to be evaluated in a trial.\n",
        "sampler = optuna.samplers.TPESampler()\n",
        "# You can also try \n",
        "# sampler = optuna.samplers.GridSampler()\n",
        "    \n",
        "study = optuna.create_study(sampler=sampler, direction='maximize')\n",
        "study.optimize(func=train_mnist, n_trials=15)\n",
        "\n",
        "# persist an arbitrary Python object into one file.\n",
        "joblib.dump(study, './optuna_report.pkl')"
      ],
      "execution_count": null,
      "outputs": [
        {
          "output_type": "stream",
          "text": [
            "[I 2020-09-09 15:11:34,924] A new study created in memory with name: no-name-c2a0f60b-8561-442b-9794-b479b465227d\n",
            "/usr/local/lib/python3.6/dist-packages/optuna/distributions.py:517: UserWarning:\n",
            "\n",
            "The distribution is specified by [0.1, 0.3] and q=0.5, but the range is not divisible by `q`. It will be replaced by [0.1, 0.1].\n",
            "\n",
            "/usr/local/lib/python3.6/dist-packages/optuna/distributions.py:403: UserWarning:\n",
            "\n",
            "Choices for a categorical distribution should be a tuple of None, bool, int, float and str for persistent storage but contains <class 'torch.optim.sgd.SGD'> which is of type type.\n",
            "\n",
            "/usr/local/lib/python3.6/dist-packages/optuna/distributions.py:403: UserWarning:\n",
            "\n",
            "Choices for a categorical distribution should be a tuple of None, bool, int, float and str for persistent storage but contains <class 'torch.optim.adam.Adam'> which is of type type.\n",
            "\n"
          ],
          "name": "stderr"
        },
        {
          "output_type": "stream",
          "text": [
            "Train Epoch: 1 [0/60000 (0%)]\tLoss: 4.231233\n",
            "Train Epoch: 1 [3200/60000 (5%)]\tLoss: 0.764893\n",
            "Train Epoch: 1 [6400/60000 (11%)]\tLoss: 0.187835\n",
            "Train Epoch: 1 [9600/60000 (16%)]\tLoss: 0.837062\n",
            "Train Epoch: 1 [12800/60000 (21%)]\tLoss: 0.531365\n",
            "Train Epoch: 1 [16000/60000 (27%)]\tLoss: 0.282993\n",
            "Train Epoch: 1 [19200/60000 (32%)]\tLoss: 0.221020\n",
            "Train Epoch: 1 [22400/60000 (37%)]\tLoss: 0.256928\n",
            "Train Epoch: 1 [25600/60000 (43%)]\tLoss: 0.214015\n",
            "Train Epoch: 1 [28800/60000 (48%)]\tLoss: 0.141186\n",
            "Train Epoch: 1 [32000/60000 (53%)]\tLoss: 0.176672\n",
            "Train Epoch: 1 [35200/60000 (59%)]\tLoss: 0.058201\n",
            "Train Epoch: 1 [38400/60000 (64%)]\tLoss: 0.429856\n",
            "Train Epoch: 1 [41600/60000 (69%)]\tLoss: 0.126822\n",
            "Train Epoch: 1 [44800/60000 (75%)]\tLoss: 0.166686\n",
            "Train Epoch: 1 [48000/60000 (80%)]\tLoss: 0.053149\n",
            "Train Epoch: 1 [51200/60000 (85%)]\tLoss: 0.037635\n",
            "Train Epoch: 1 [54400/60000 (91%)]\tLoss: 0.111503\n",
            "Train Epoch: 1 [57600/60000 (96%)]\tLoss: 0.071155\n",
            "Best validation accuracy improved from 0 to 0.9640410542488098, saving model...\n"
          ],
          "name": "stdout"
        },
        {
          "output_type": "stream",
          "text": [
            "[I 2020-09-09 15:12:07,916] Trial 0 finished with value: 0.9640410542488098 and parameters: {'lr': 0.004217957959858376, 'dropout': 0.1, 'optimizer': <class 'torch.optim.sgd.SGD'>, 'batch_norm': False}. Best is trial 0 with value: 0.9640410542488098.\n"
          ],
          "name": "stderr"
        },
        {
          "output_type": "stream",
          "text": [
            "Train Epoch: 1 [0/60000 (0%)]\tLoss: 4.231233\n",
            "Train Epoch: 1 [3200/60000 (5%)]\tLoss: 0.909007\n",
            "Train Epoch: 1 [6400/60000 (11%)]\tLoss: 0.254495\n",
            "Train Epoch: 1 [9600/60000 (16%)]\tLoss: 0.925537\n",
            "Train Epoch: 1 [12800/60000 (21%)]\tLoss: 0.624924\n",
            "Train Epoch: 1 [16000/60000 (27%)]\tLoss: 0.363950\n",
            "Train Epoch: 1 [19200/60000 (32%)]\tLoss: 0.246350\n",
            "Train Epoch: 1 [22400/60000 (37%)]\tLoss: 0.284810\n",
            "Train Epoch: 1 [25600/60000 (43%)]\tLoss: 0.253524\n",
            "Train Epoch: 1 [28800/60000 (48%)]\tLoss: 0.156803\n",
            "Train Epoch: 1 [32000/60000 (53%)]\tLoss: 0.212615\n",
            "Train Epoch: 1 [35200/60000 (59%)]\tLoss: 0.061382\n",
            "Train Epoch: 1 [38400/60000 (64%)]\tLoss: 0.431588\n",
            "Train Epoch: 1 [41600/60000 (69%)]\tLoss: 0.165202\n",
            "Train Epoch: 1 [44800/60000 (75%)]\tLoss: 0.178158\n",
            "Train Epoch: 1 [48000/60000 (80%)]\tLoss: 0.066818\n",
            "Train Epoch: 1 [51200/60000 (85%)]\tLoss: 0.045431\n",
            "Train Epoch: 1 [54400/60000 (91%)]\tLoss: 0.135278\n",
            "Train Epoch: 1 [57600/60000 (96%)]\tLoss: 0.073637\n",
            "Best validation accuracy improved from 0 to 0.9603310227394104, saving model...\n"
          ],
          "name": "stdout"
        },
        {
          "output_type": "stream",
          "text": [
            "[I 2020-09-09 15:12:40,876] Trial 1 finished with value: 0.9603310227394104 and parameters: {'lr': 0.0031840253574837735, 'dropout': 0.1, 'optimizer': <class 'torch.optim.sgd.SGD'>, 'batch_norm': False}. Best is trial 0 with value: 0.9640410542488098.\n"
          ],
          "name": "stderr"
        },
        {
          "output_type": "stream",
          "text": [
            "Train Epoch: 1 [0/60000 (0%)]\tLoss: 4.231233\n",
            "Train Epoch: 1 [3200/60000 (5%)]\tLoss: 0.548542\n",
            "Train Epoch: 1 [6400/60000 (11%)]\tLoss: 0.043624\n",
            "Train Epoch: 1 [9600/60000 (16%)]\tLoss: 0.372114\n",
            "Train Epoch: 1 [12800/60000 (21%)]\tLoss: 0.448614\n",
            "Train Epoch: 1 [16000/60000 (27%)]\tLoss: 0.046568\n",
            "Train Epoch: 1 [19200/60000 (32%)]\tLoss: 0.143217\n",
            "Train Epoch: 1 [22400/60000 (37%)]\tLoss: 0.068261\n",
            "Train Epoch: 1 [25600/60000 (43%)]\tLoss: 0.410157\n",
            "Train Epoch: 1 [28800/60000 (48%)]\tLoss: 0.018449\n",
            "Train Epoch: 1 [32000/60000 (53%)]\tLoss: 0.037777\n",
            "Train Epoch: 1 [35200/60000 (59%)]\tLoss: 0.005203\n",
            "Train Epoch: 1 [38400/60000 (64%)]\tLoss: 0.410337\n",
            "Train Epoch: 1 [41600/60000 (69%)]\tLoss: 0.070488\n",
            "Train Epoch: 1 [44800/60000 (75%)]\tLoss: 0.061867\n",
            "Train Epoch: 1 [48000/60000 (80%)]\tLoss: 0.042583\n",
            "Train Epoch: 1 [51200/60000 (85%)]\tLoss: 0.020897\n",
            "Train Epoch: 1 [54400/60000 (91%)]\tLoss: 0.027910\n",
            "Train Epoch: 1 [57600/60000 (96%)]\tLoss: 0.004479\n",
            "Best validation accuracy improved from 0 to 0.9700341820716858, saving model...\n"
          ],
          "name": "stdout"
        },
        {
          "output_type": "stream",
          "text": [
            "[I 2020-09-09 15:13:17,908] Trial 2 finished with value: 0.9700341820716858 and parameters: {'lr': 0.0013496314462008844, 'dropout': 0.1, 'optimizer': <class 'torch.optim.adam.Adam'>, 'batch_norm': False}. Best is trial 2 with value: 0.9700341820716858.\n"
          ],
          "name": "stderr"
        },
        {
          "output_type": "stream",
          "text": [
            "Train Epoch: 1 [0/60000 (0%)]\tLoss: 4.231233\n",
            "Train Epoch: 1 [3200/60000 (5%)]\tLoss: 0.226795\n",
            "Train Epoch: 1 [6400/60000 (11%)]\tLoss: 0.014624\n",
            "Train Epoch: 1 [9600/60000 (16%)]\tLoss: 0.244280\n",
            "Train Epoch: 1 [12800/60000 (21%)]\tLoss: 0.362063\n",
            "Train Epoch: 1 [16000/60000 (27%)]\tLoss: 0.204846\n",
            "Train Epoch: 1 [19200/60000 (32%)]\tLoss: 0.084826\n",
            "Train Epoch: 1 [22400/60000 (37%)]\tLoss: 0.126031\n",
            "Train Epoch: 1 [25600/60000 (43%)]\tLoss: 0.002739\n",
            "Train Epoch: 1 [28800/60000 (48%)]\tLoss: 0.188376\n",
            "Train Epoch: 1 [32000/60000 (53%)]\tLoss: 0.076911\n",
            "Train Epoch: 1 [35200/60000 (59%)]\tLoss: 0.108414\n",
            "Train Epoch: 1 [38400/60000 (64%)]\tLoss: 0.228380\n",
            "Train Epoch: 1 [41600/60000 (69%)]\tLoss: 0.048450\n",
            "Train Epoch: 1 [44800/60000 (75%)]\tLoss: 0.045463\n",
            "Train Epoch: 1 [48000/60000 (80%)]\tLoss: 0.128787\n",
            "Train Epoch: 1 [51200/60000 (85%)]\tLoss: 0.043221\n",
            "Train Epoch: 1 [54400/60000 (91%)]\tLoss: 0.037053\n",
            "Train Epoch: 1 [57600/60000 (96%)]\tLoss: 0.060665\n",
            "Best validation accuracy improved from 0 to 0.9678937792778015, saving model...\n"
          ],
          "name": "stdout"
        },
        {
          "output_type": "stream",
          "text": [
            "[I 2020-09-09 15:13:55,042] Trial 3 finished with value: 0.9678937792778015 and parameters: {'lr': 0.009138748296228055, 'dropout': 0.1, 'optimizer': <class 'torch.optim.adam.Adam'>, 'batch_norm': False}. Best is trial 2 with value: 0.9700341820716858.\n"
          ],
          "name": "stderr"
        },
        {
          "output_type": "stream",
          "text": [
            "Train Epoch: 1 [0/60000 (0%)]\tLoss: 4.231233\n",
            "Train Epoch: 1 [3200/60000 (5%)]\tLoss: 0.737453\n",
            "Train Epoch: 1 [6400/60000 (11%)]\tLoss: 0.142292\n",
            "Train Epoch: 1 [9600/60000 (16%)]\tLoss: 0.840591\n",
            "Train Epoch: 1 [12800/60000 (21%)]\tLoss: 0.477619\n",
            "Train Epoch: 1 [16000/60000 (27%)]\tLoss: 0.258423\n",
            "Train Epoch: 1 [19200/60000 (32%)]\tLoss: 0.264997\n",
            "Train Epoch: 1 [22400/60000 (37%)]\tLoss: 0.200966\n",
            "Train Epoch: 1 [25600/60000 (43%)]\tLoss: 0.068743\n",
            "Train Epoch: 1 [28800/60000 (48%)]\tLoss: 0.062365\n",
            "Train Epoch: 1 [32000/60000 (53%)]\tLoss: 0.178751\n",
            "Train Epoch: 1 [35200/60000 (59%)]\tLoss: 0.029428\n",
            "Train Epoch: 1 [38400/60000 (64%)]\tLoss: 0.435453\n",
            "Train Epoch: 1 [41600/60000 (69%)]\tLoss: 0.064927\n",
            "Train Epoch: 1 [44800/60000 (75%)]\tLoss: 0.115654\n",
            "Train Epoch: 1 [48000/60000 (80%)]\tLoss: 0.136522\n",
            "Train Epoch: 1 [51200/60000 (85%)]\tLoss: 0.157820\n",
            "Train Epoch: 1 [54400/60000 (91%)]\tLoss: 0.008607\n",
            "Train Epoch: 1 [57600/60000 (96%)]\tLoss: 0.004599\n",
            "Best validation accuracy improved from 0 to 0.9701768755912781, saving model...\n"
          ],
          "name": "stdout"
        },
        {
          "output_type": "stream",
          "text": [
            "[I 2020-09-09 15:14:32,065] Trial 4 finished with value: 0.9701768755912781 and parameters: {'lr': 0.0004590766530999341, 'dropout': 0.1, 'optimizer': <class 'torch.optim.adam.Adam'>, 'batch_norm': True}. Best is trial 4 with value: 0.9701768755912781.\n"
          ],
          "name": "stderr"
        },
        {
          "output_type": "stream",
          "text": [
            "Train Epoch: 1 [0/60000 (0%)]\tLoss: 4.231233\n",
            "Train Epoch: 1 [3200/60000 (5%)]\tLoss: 1.245361\n",
            "Train Epoch: 1 [6400/60000 (11%)]\tLoss: 0.458819\n",
            "Train Epoch: 1 [9600/60000 (16%)]\tLoss: 1.139655\n",
            "Train Epoch: 1 [12800/60000 (21%)]\tLoss: 0.734916\n",
            "Train Epoch: 1 [16000/60000 (27%)]\tLoss: 0.520417\n",
            "Train Epoch: 1 [19200/60000 (32%)]\tLoss: 0.454798\n",
            "Train Epoch: 1 [22400/60000 (37%)]\tLoss: 0.366873\n",
            "Train Epoch: 1 [25600/60000 (43%)]\tLoss: 0.169508\n",
            "Train Epoch: 1 [28800/60000 (48%)]\tLoss: 0.196266\n",
            "Train Epoch: 1 [32000/60000 (53%)]\tLoss: 0.294883\n",
            "Train Epoch: 1 [35200/60000 (59%)]\tLoss: 0.082817\n",
            "Train Epoch: 1 [38400/60000 (64%)]\tLoss: 0.300170\n",
            "Train Epoch: 1 [41600/60000 (69%)]\tLoss: 0.158899\n",
            "Train Epoch: 1 [44800/60000 (75%)]\tLoss: 0.200972\n",
            "Train Epoch: 1 [48000/60000 (80%)]\tLoss: 0.163077\n",
            "Train Epoch: 1 [51200/60000 (85%)]\tLoss: 0.222497\n",
            "Train Epoch: 1 [54400/60000 (91%)]\tLoss: 0.019411\n",
            "Train Epoch: 1 [57600/60000 (96%)]\tLoss: 0.061278\n",
            "Best validation accuracy improved from 0 to 0.958618700504303, saving model...\n"
          ],
          "name": "stdout"
        },
        {
          "output_type": "stream",
          "text": [
            "[I 2020-09-09 15:15:09,083] Trial 5 finished with value: 0.958618700504303 and parameters: {'lr': 0.00016321055039421, 'dropout': 0.1, 'optimizer': <class 'torch.optim.adam.Adam'>, 'batch_norm': False}. Best is trial 4 with value: 0.9701768755912781.\n"
          ],
          "name": "stderr"
        },
        {
          "output_type": "stream",
          "text": [
            "Train Epoch: 1 [0/60000 (0%)]\tLoss: 4.231233\n",
            "Train Epoch: 1 [3200/60000 (5%)]\tLoss: 3.010260\n",
            "Train Epoch: 1 [6400/60000 (11%)]\tLoss: 2.357849\n",
            "Train Epoch: 1 [9600/60000 (16%)]\tLoss: 2.335377\n",
            "Train Epoch: 1 [12800/60000 (21%)]\tLoss: 2.536402\n",
            "Train Epoch: 1 [16000/60000 (27%)]\tLoss: 2.331409\n",
            "Train Epoch: 1 [19200/60000 (32%)]\tLoss: 2.115428\n",
            "Train Epoch: 1 [22400/60000 (37%)]\tLoss: 1.734170\n",
            "Train Epoch: 1 [25600/60000 (43%)]\tLoss: 1.454136\n",
            "Train Epoch: 1 [28800/60000 (48%)]\tLoss: 1.282772\n",
            "Train Epoch: 1 [32000/60000 (53%)]\tLoss: 1.144038\n",
            "Train Epoch: 1 [35200/60000 (59%)]\tLoss: 1.170518\n",
            "Train Epoch: 1 [38400/60000 (64%)]\tLoss: 1.043232\n",
            "Train Epoch: 1 [41600/60000 (69%)]\tLoss: 1.225429\n",
            "Train Epoch: 1 [44800/60000 (75%)]\tLoss: 1.430902\n",
            "Train Epoch: 1 [48000/60000 (80%)]\tLoss: 1.021445\n",
            "Train Epoch: 1 [51200/60000 (85%)]\tLoss: 0.774033\n",
            "Train Epoch: 1 [54400/60000 (91%)]\tLoss: 1.114071\n",
            "Train Epoch: 1 [57600/60000 (96%)]\tLoss: 0.935009\n",
            "Best validation accuracy improved from 0 to 0.7990867495536804, saving model...\n"
          ],
          "name": "stdout"
        },
        {
          "output_type": "stream",
          "text": [
            "[I 2020-09-09 15:15:42,121] Trial 6 finished with value: 0.7990867495536804 and parameters: {'lr': 0.00016659814230979075, 'dropout': 0.1, 'optimizer': <class 'torch.optim.sgd.SGD'>, 'batch_norm': False}. Best is trial 4 with value: 0.9701768755912781.\n"
          ],
          "name": "stderr"
        },
        {
          "output_type": "stream",
          "text": [
            "Train Epoch: 1 [0/60000 (0%)]\tLoss: 4.231233\n",
            "Train Epoch: 1 [3200/60000 (5%)]\tLoss: 0.776339\n",
            "Train Epoch: 1 [6400/60000 (11%)]\tLoss: 0.147654\n",
            "Train Epoch: 1 [9600/60000 (16%)]\tLoss: 0.782851\n",
            "Train Epoch: 1 [12800/60000 (21%)]\tLoss: 0.496995\n",
            "Train Epoch: 1 [16000/60000 (27%)]\tLoss: 0.336319\n",
            "Train Epoch: 1 [19200/60000 (32%)]\tLoss: 0.276418\n",
            "Train Epoch: 1 [22400/60000 (37%)]\tLoss: 0.203813\n",
            "Train Epoch: 1 [25600/60000 (43%)]\tLoss: 0.053734\n",
            "Train Epoch: 1 [28800/60000 (48%)]\tLoss: 0.051856\n",
            "Train Epoch: 1 [32000/60000 (53%)]\tLoss: 0.181888\n",
            "Train Epoch: 1 [35200/60000 (59%)]\tLoss: 0.031296\n",
            "Train Epoch: 1 [38400/60000 (64%)]\tLoss: 0.438653\n",
            "Train Epoch: 1 [41600/60000 (69%)]\tLoss: 0.128296\n",
            "Train Epoch: 1 [44800/60000 (75%)]\tLoss: 0.136014\n",
            "Train Epoch: 1 [48000/60000 (80%)]\tLoss: 0.088342\n",
            "Train Epoch: 1 [51200/60000 (85%)]\tLoss: 0.194134\n",
            "Train Epoch: 1 [54400/60000 (91%)]\tLoss: 0.008243\n",
            "Train Epoch: 1 [57600/60000 (96%)]\tLoss: 0.003811\n",
            "Best validation accuracy improved from 0 to 0.9673230051994324, saving model...\n"
          ],
          "name": "stdout"
        },
        {
          "output_type": "stream",
          "text": [
            "[I 2020-09-09 15:16:18,924] Trial 7 finished with value: 0.9673230051994324 and parameters: {'lr': 0.0004299548794604202, 'dropout': 0.1, 'optimizer': <class 'torch.optim.adam.Adam'>, 'batch_norm': False}. Best is trial 4 with value: 0.9701768755912781.\n"
          ],
          "name": "stderr"
        },
        {
          "output_type": "stream",
          "text": [
            "Train Epoch: 1 [0/60000 (0%)]\tLoss: 4.231233\n",
            "Train Epoch: 1 [3200/60000 (5%)]\tLoss: 0.658823\n",
            "Train Epoch: 1 [6400/60000 (11%)]\tLoss: 0.080569\n",
            "Train Epoch: 1 [9600/60000 (16%)]\tLoss: 0.642886\n",
            "Train Epoch: 1 [12800/60000 (21%)]\tLoss: 0.625326\n",
            "Train Epoch: 1 [16000/60000 (27%)]\tLoss: 0.121114\n",
            "Train Epoch: 1 [19200/60000 (32%)]\tLoss: 0.186502\n",
            "Train Epoch: 1 [22400/60000 (37%)]\tLoss: 0.057934\n",
            "Train Epoch: 1 [25600/60000 (43%)]\tLoss: 0.252643\n",
            "Train Epoch: 1 [28800/60000 (48%)]\tLoss: 0.041508\n",
            "Train Epoch: 1 [32000/60000 (53%)]\tLoss: 0.049635\n",
            "Train Epoch: 1 [35200/60000 (59%)]\tLoss: 0.010825\n",
            "Train Epoch: 1 [38400/60000 (64%)]\tLoss: 0.404353\n",
            "Train Epoch: 1 [41600/60000 (69%)]\tLoss: 0.016482\n",
            "Train Epoch: 1 [44800/60000 (75%)]\tLoss: 0.054718\n",
            "Train Epoch: 1 [48000/60000 (80%)]\tLoss: 0.061207\n",
            "Train Epoch: 1 [51200/60000 (85%)]\tLoss: 0.079267\n",
            "Train Epoch: 1 [54400/60000 (91%)]\tLoss: 0.010446\n",
            "Train Epoch: 1 [57600/60000 (96%)]\tLoss: 0.009375\n",
            "Best validation accuracy improved from 0 to 0.9720319509506226, saving model...\n"
          ],
          "name": "stdout"
        },
        {
          "output_type": "stream",
          "text": [
            "[I 2020-09-09 15:16:55,435] Trial 8 finished with value: 0.9720319509506226 and parameters: {'lr': 0.000860235361468209, 'dropout': 0.1, 'optimizer': <class 'torch.optim.adam.Adam'>, 'batch_norm': False}. Best is trial 8 with value: 0.9720319509506226.\n"
          ],
          "name": "stderr"
        },
        {
          "output_type": "stream",
          "text": [
            "Train Epoch: 1 [0/60000 (0%)]\tLoss: 4.231233\n",
            "Train Epoch: 1 [3200/60000 (5%)]\tLoss: 1.547839\n",
            "Train Epoch: 1 [6400/60000 (11%)]\tLoss: 0.789367\n",
            "Train Epoch: 1 [9600/60000 (16%)]\tLoss: 1.316748\n",
            "Train Epoch: 1 [12800/60000 (21%)]\tLoss: 1.021559\n",
            "Train Epoch: 1 [16000/60000 (27%)]\tLoss: 0.722895\n",
            "Train Epoch: 1 [19200/60000 (32%)]\tLoss: 0.553427\n",
            "Train Epoch: 1 [22400/60000 (37%)]\tLoss: 0.463201\n",
            "Train Epoch: 1 [25600/60000 (43%)]\tLoss: 0.324415\n",
            "Train Epoch: 1 [28800/60000 (48%)]\tLoss: 0.267716\n",
            "Train Epoch: 1 [32000/60000 (53%)]\tLoss: 0.333280\n",
            "Train Epoch: 1 [35200/60000 (59%)]\tLoss: 0.166287\n",
            "Train Epoch: 1 [38400/60000 (64%)]\tLoss: 0.276478\n",
            "Train Epoch: 1 [41600/60000 (69%)]\tLoss: 0.223409\n",
            "Train Epoch: 1 [44800/60000 (75%)]\tLoss: 0.282391\n",
            "Train Epoch: 1 [48000/60000 (80%)]\tLoss: 0.223007\n",
            "Train Epoch: 1 [51200/60000 (85%)]\tLoss: 0.235133\n",
            "Train Epoch: 1 [54400/60000 (91%)]\tLoss: 0.039278\n",
            "Train Epoch: 1 [57600/60000 (96%)]\tLoss: 0.104764\n",
            "Best validation accuracy improved from 0 to 0.9511985778808594, saving model...\n"
          ],
          "name": "stdout"
        },
        {
          "output_type": "stream",
          "text": [
            "[I 2020-09-09 15:17:31,870] Trial 9 finished with value: 0.9511985778808594 and parameters: {'lr': 0.00010526607009498394, 'dropout': 0.1, 'optimizer': <class 'torch.optim.adam.Adam'>, 'batch_norm': False}. Best is trial 8 with value: 0.9720319509506226.\n"
          ],
          "name": "stderr"
        },
        {
          "output_type": "stream",
          "text": [
            "Train Epoch: 1 [0/60000 (0%)]\tLoss: 4.231233\n",
            "Train Epoch: 1 [3200/60000 (5%)]\tLoss: 0.554189\n",
            "Train Epoch: 1 [6400/60000 (11%)]\tLoss: 0.088104\n",
            "Train Epoch: 1 [9600/60000 (16%)]\tLoss: 0.480324\n",
            "Train Epoch: 1 [12800/60000 (21%)]\tLoss: 0.508406\n",
            "Train Epoch: 1 [16000/60000 (27%)]\tLoss: 0.144013\n",
            "Train Epoch: 1 [19200/60000 (32%)]\tLoss: 0.321510\n",
            "Train Epoch: 1 [22400/60000 (37%)]\tLoss: 0.048714\n",
            "Train Epoch: 1 [25600/60000 (43%)]\tLoss: 0.372477\n",
            "Train Epoch: 1 [28800/60000 (48%)]\tLoss: 0.122013\n",
            "Train Epoch: 1 [32000/60000 (53%)]\tLoss: 0.011991\n",
            "Train Epoch: 1 [35200/60000 (59%)]\tLoss: 0.011152\n",
            "Train Epoch: 1 [38400/60000 (64%)]\tLoss: 0.551071\n",
            "Train Epoch: 1 [41600/60000 (69%)]\tLoss: 0.048451\n",
            "Train Epoch: 1 [44800/60000 (75%)]\tLoss: 0.023031\n",
            "Train Epoch: 1 [48000/60000 (80%)]\tLoss: 0.176553\n",
            "Train Epoch: 1 [51200/60000 (85%)]\tLoss: 0.030277\n",
            "Train Epoch: 1 [54400/60000 (91%)]\tLoss: 0.008401\n",
            "Train Epoch: 1 [57600/60000 (96%)]\tLoss: 0.025646\n",
            "Best validation accuracy improved from 0 to 0.9691780209541321, saving model...\n"
          ],
          "name": "stdout"
        },
        {
          "output_type": "stream",
          "text": [
            "[I 2020-09-09 15:18:08,186] Trial 10 finished with value: 0.9691780209541321 and parameters: {'lr': 0.0012051511112780475, 'dropout': 0.1, 'optimizer': <class 'torch.optim.adam.Adam'>, 'batch_norm': True}. Best is trial 8 with value: 0.9720319509506226.\n"
          ],
          "name": "stderr"
        },
        {
          "output_type": "stream",
          "text": [
            "Train Epoch: 1 [0/60000 (0%)]\tLoss: 4.231233\n",
            "Train Epoch: 1 [3200/60000 (5%)]\tLoss: 0.755198\n",
            "Train Epoch: 1 [6400/60000 (11%)]\tLoss: 0.127244\n",
            "Train Epoch: 1 [9600/60000 (16%)]\tLoss: 0.737832\n",
            "Train Epoch: 1 [12800/60000 (21%)]\tLoss: 0.484605\n",
            "Train Epoch: 1 [16000/60000 (27%)]\tLoss: 0.259922\n",
            "Train Epoch: 1 [19200/60000 (32%)]\tLoss: 0.247953\n",
            "Train Epoch: 1 [22400/60000 (37%)]\tLoss: 0.149272\n",
            "Train Epoch: 1 [25600/60000 (43%)]\tLoss: 0.092439\n",
            "Train Epoch: 1 [28800/60000 (48%)]\tLoss: 0.045344\n",
            "Train Epoch: 1 [32000/60000 (53%)]\tLoss: 0.144317\n",
            "Train Epoch: 1 [35200/60000 (59%)]\tLoss: 0.021894\n",
            "Train Epoch: 1 [38400/60000 (64%)]\tLoss: 0.469650\n",
            "Train Epoch: 1 [41600/60000 (69%)]\tLoss: 0.044483\n",
            "Train Epoch: 1 [44800/60000 (75%)]\tLoss: 0.143546\n",
            "Train Epoch: 1 [48000/60000 (80%)]\tLoss: 0.108809\n",
            "Train Epoch: 1 [51200/60000 (85%)]\tLoss: 0.109393\n",
            "Train Epoch: 1 [54400/60000 (91%)]\tLoss: 0.019428\n",
            "Train Epoch: 1 [57600/60000 (96%)]\tLoss: 0.002109\n",
            "Best validation accuracy improved from 0 to 0.9718892574310303, saving model...\n"
          ],
          "name": "stdout"
        },
        {
          "output_type": "stream",
          "text": [
            "[I 2020-09-09 15:18:44,336] Trial 11 finished with value: 0.9718892574310303 and parameters: {'lr': 0.0005195386267002047, 'dropout': 0.1, 'optimizer': <class 'torch.optim.adam.Adam'>, 'batch_norm': True}. Best is trial 8 with value: 0.9720319509506226.\n"
          ],
          "name": "stderr"
        },
        {
          "output_type": "stream",
          "text": [
            "Train Epoch: 1 [0/60000 (0%)]\tLoss: 4.231233\n",
            "Train Epoch: 1 [3200/60000 (5%)]\tLoss: 0.731792\n",
            "Train Epoch: 1 [6400/60000 (11%)]\tLoss: 0.128313\n",
            "Train Epoch: 1 [9600/60000 (16%)]\tLoss: 0.806886\n",
            "Train Epoch: 1 [12800/60000 (21%)]\tLoss: 0.507611\n",
            "Train Epoch: 1 [16000/60000 (27%)]\tLoss: 0.255530\n",
            "Train Epoch: 1 [19200/60000 (32%)]\tLoss: 0.264506\n",
            "Train Epoch: 1 [22400/60000 (37%)]\tLoss: 0.146853\n",
            "Train Epoch: 1 [25600/60000 (43%)]\tLoss: 0.105846\n",
            "Train Epoch: 1 [28800/60000 (48%)]\tLoss: 0.025955\n",
            "Train Epoch: 1 [32000/60000 (53%)]\tLoss: 0.127266\n",
            "Train Epoch: 1 [35200/60000 (59%)]\tLoss: 0.026642\n",
            "Train Epoch: 1 [38400/60000 (64%)]\tLoss: 0.396347\n",
            "Train Epoch: 1 [41600/60000 (69%)]\tLoss: 0.064282\n",
            "Train Epoch: 1 [44800/60000 (75%)]\tLoss: 0.082637\n",
            "Train Epoch: 1 [48000/60000 (80%)]\tLoss: 0.079962\n",
            "Train Epoch: 1 [51200/60000 (85%)]\tLoss: 0.157957\n",
            "Train Epoch: 1 [54400/60000 (91%)]\tLoss: 0.010025\n",
            "Train Epoch: 1 [57600/60000 (96%)]\tLoss: 0.002179\n",
            "Best validation accuracy improved from 0 to 0.9678937792778015, saving model...\n"
          ],
          "name": "stdout"
        },
        {
          "output_type": "stream",
          "text": [
            "[I 2020-09-09 15:19:20,709] Trial 12 finished with value: 0.9678937792778015 and parameters: {'lr': 0.0005021104445555263, 'dropout': 0.1, 'optimizer': <class 'torch.optim.adam.Adam'>, 'batch_norm': True}. Best is trial 8 with value: 0.9720319509506226.\n"
          ],
          "name": "stderr"
        },
        {
          "output_type": "stream",
          "text": [
            "Train Epoch: 1 [0/60000 (0%)]\tLoss: 4.231233\n",
            "Train Epoch: 1 [3200/60000 (5%)]\tLoss: 0.662869\n",
            "Train Epoch: 1 [6400/60000 (11%)]\tLoss: 0.087170\n",
            "Train Epoch: 1 [9600/60000 (16%)]\tLoss: 0.658597\n",
            "Train Epoch: 1 [12800/60000 (21%)]\tLoss: 0.555994\n",
            "Train Epoch: 1 [16000/60000 (27%)]\tLoss: 0.179977\n",
            "Train Epoch: 1 [19200/60000 (32%)]\tLoss: 0.245224\n",
            "Train Epoch: 1 [22400/60000 (37%)]\tLoss: 0.063340\n",
            "Train Epoch: 1 [25600/60000 (43%)]\tLoss: 0.217585\n",
            "Train Epoch: 1 [28800/60000 (48%)]\tLoss: 0.060267\n",
            "Train Epoch: 1 [32000/60000 (53%)]\tLoss: 0.060161\n",
            "Train Epoch: 1 [35200/60000 (59%)]\tLoss: 0.013172\n",
            "Train Epoch: 1 [38400/60000 (64%)]\tLoss: 0.468376\n",
            "Train Epoch: 1 [41600/60000 (69%)]\tLoss: 0.022622\n",
            "Train Epoch: 1 [44800/60000 (75%)]\tLoss: 0.135540\n",
            "Train Epoch: 1 [48000/60000 (80%)]\tLoss: 0.119560\n",
            "Train Epoch: 1 [51200/60000 (85%)]\tLoss: 0.092129\n",
            "Train Epoch: 1 [54400/60000 (91%)]\tLoss: 0.030270\n",
            "Train Epoch: 1 [57600/60000 (96%)]\tLoss: 0.003365\n",
            "Best validation accuracy improved from 0 to 0.9730308055877686, saving model...\n"
          ],
          "name": "stdout"
        },
        {
          "output_type": "stream",
          "text": [
            "[I 2020-09-09 15:19:57,078] Trial 13 finished with value: 0.9730308055877686 and parameters: {'lr': 0.0006595402688301448, 'dropout': 0.1, 'optimizer': <class 'torch.optim.adam.Adam'>, 'batch_norm': True}. Best is trial 13 with value: 0.9730308055877686.\n"
          ],
          "name": "stderr"
        },
        {
          "output_type": "stream",
          "text": [
            "Train Epoch: 1 [0/60000 (0%)]\tLoss: 4.231233\n",
            "Train Epoch: 1 [3200/60000 (5%)]\tLoss: 0.233178\n",
            "Train Epoch: 1 [6400/60000 (11%)]\tLoss: 0.036070\n",
            "Train Epoch: 1 [9600/60000 (16%)]\tLoss: 0.320669\n",
            "Train Epoch: 1 [12800/60000 (21%)]\tLoss: 0.428473\n",
            "Train Epoch: 1 [16000/60000 (27%)]\tLoss: 0.037209\n",
            "Train Epoch: 1 [19200/60000 (32%)]\tLoss: 0.143872\n",
            "Train Epoch: 1 [22400/60000 (37%)]\tLoss: 0.126630\n",
            "Train Epoch: 1 [25600/60000 (43%)]\tLoss: 0.209994\n",
            "Train Epoch: 1 [28800/60000 (48%)]\tLoss: 0.166676\n",
            "Train Epoch: 1 [32000/60000 (53%)]\tLoss: 0.041766\n",
            "Train Epoch: 1 [35200/60000 (59%)]\tLoss: 0.073385\n",
            "Train Epoch: 1 [38400/60000 (64%)]\tLoss: 0.553906\n",
            "Train Epoch: 1 [41600/60000 (69%)]\tLoss: 0.037521\n",
            "Train Epoch: 1 [44800/60000 (75%)]\tLoss: 0.002214\n",
            "Train Epoch: 1 [48000/60000 (80%)]\tLoss: 0.214130\n",
            "Train Epoch: 1 [51200/60000 (85%)]\tLoss: 0.306186\n",
            "Train Epoch: 1 [54400/60000 (91%)]\tLoss: 0.015068\n",
            "Train Epoch: 1 [57600/60000 (96%)]\tLoss: 0.002198\n",
            "Best validation accuracy improved from 0 to 0.9678937792778015, saving model...\n"
          ],
          "name": "stdout"
        },
        {
          "output_type": "stream",
          "text": [
            "[I 2020-09-09 15:20:33,800] Trial 14 finished with value: 0.9678937792778015 and parameters: {'lr': 0.0021307889364594788, 'dropout': 0.1, 'optimizer': <class 'torch.optim.adam.Adam'>, 'batch_norm': True}. Best is trial 13 with value: 0.9730308055877686.\n"
          ],
          "name": "stderr"
        },
        {
          "output_type": "execute_result",
          "data": {
            "text/plain": [
              "['./optuna_report.pkl']"
            ]
          },
          "metadata": {
            "tags": []
          },
          "execution_count": 33
        }
      ]
    },
    {
      "cell_type": "code",
      "metadata": {
        "id": "XR7f5Y9gfxMz",
        "outputId": "7267f7e4-32a2-4632-f1a9-0dbca7ff5efb",
        "colab": {
          "base_uri": "https://localhost:8080/",
          "height": 497
        }
      },
      "source": [
        "# load the saved study\n",
        "study = joblib.load('./optuna_report.pkl')\n",
        "# convert in dataframe\n",
        "df = study.trials_dataframe().drop(['state','datetime_start','datetime_complete'], axis=1)\n",
        "df"
      ],
      "execution_count": null,
      "outputs": [
        {
          "output_type": "execute_result",
          "data": {
            "text/html": [
              "<div>\n",
              "<style scoped>\n",
              "    .dataframe tbody tr th:only-of-type {\n",
              "        vertical-align: middle;\n",
              "    }\n",
              "\n",
              "    .dataframe tbody tr th {\n",
              "        vertical-align: top;\n",
              "    }\n",
              "\n",
              "    .dataframe thead th {\n",
              "        text-align: right;\n",
              "    }\n",
              "</style>\n",
              "<table border=\"1\" class=\"dataframe\">\n",
              "  <thead>\n",
              "    <tr style=\"text-align: right;\">\n",
              "      <th></th>\n",
              "      <th>number</th>\n",
              "      <th>value</th>\n",
              "      <th>duration</th>\n",
              "      <th>params_batch_norm</th>\n",
              "      <th>params_dropout</th>\n",
              "      <th>params_lr</th>\n",
              "      <th>params_optimizer</th>\n",
              "    </tr>\n",
              "  </thead>\n",
              "  <tbody>\n",
              "    <tr>\n",
              "      <th>0</th>\n",
              "      <td>0</td>\n",
              "      <td>0.964041</td>\n",
              "      <td>00:00:32.986281</td>\n",
              "      <td>False</td>\n",
              "      <td>0.1</td>\n",
              "      <td>0.004218</td>\n",
              "      <td>&lt;class 'torch.optim.sgd.SGD'&gt;</td>\n",
              "    </tr>\n",
              "    <tr>\n",
              "      <th>1</th>\n",
              "      <td>1</td>\n",
              "      <td>0.960331</td>\n",
              "      <td>00:00:32.950794</td>\n",
              "      <td>False</td>\n",
              "      <td>0.1</td>\n",
              "      <td>0.003184</td>\n",
              "      <td>&lt;class 'torch.optim.sgd.SGD'&gt;</td>\n",
              "    </tr>\n",
              "    <tr>\n",
              "      <th>2</th>\n",
              "      <td>2</td>\n",
              "      <td>0.970034</td>\n",
              "      <td>00:00:37.023680</td>\n",
              "      <td>False</td>\n",
              "      <td>0.1</td>\n",
              "      <td>0.001350</td>\n",
              "      <td>&lt;class 'torch.optim.adam.Adam'&gt;</td>\n",
              "    </tr>\n",
              "    <tr>\n",
              "      <th>3</th>\n",
              "      <td>3</td>\n",
              "      <td>0.967894</td>\n",
              "      <td>00:00:37.129444</td>\n",
              "      <td>False</td>\n",
              "      <td>0.1</td>\n",
              "      <td>0.009139</td>\n",
              "      <td>&lt;class 'torch.optim.adam.Adam'&gt;</td>\n",
              "    </tr>\n",
              "    <tr>\n",
              "      <th>4</th>\n",
              "      <td>4</td>\n",
              "      <td>0.970177</td>\n",
              "      <td>00:00:37.018455</td>\n",
              "      <td>True</td>\n",
              "      <td>0.1</td>\n",
              "      <td>0.000459</td>\n",
              "      <td>&lt;class 'torch.optim.adam.Adam'&gt;</td>\n",
              "    </tr>\n",
              "    <tr>\n",
              "      <th>5</th>\n",
              "      <td>5</td>\n",
              "      <td>0.958619</td>\n",
              "      <td>00:00:37.011276</td>\n",
              "      <td>False</td>\n",
              "      <td>0.1</td>\n",
              "      <td>0.000163</td>\n",
              "      <td>&lt;class 'torch.optim.adam.Adam'&gt;</td>\n",
              "    </tr>\n",
              "    <tr>\n",
              "      <th>6</th>\n",
              "      <td>6</td>\n",
              "      <td>0.799087</td>\n",
              "      <td>00:00:33.030336</td>\n",
              "      <td>False</td>\n",
              "      <td>0.1</td>\n",
              "      <td>0.000167</td>\n",
              "      <td>&lt;class 'torch.optim.sgd.SGD'&gt;</td>\n",
              "    </tr>\n",
              "    <tr>\n",
              "      <th>7</th>\n",
              "      <td>7</td>\n",
              "      <td>0.967323</td>\n",
              "      <td>00:00:36.794189</td>\n",
              "      <td>False</td>\n",
              "      <td>0.1</td>\n",
              "      <td>0.000430</td>\n",
              "      <td>&lt;class 'torch.optim.adam.Adam'&gt;</td>\n",
              "    </tr>\n",
              "    <tr>\n",
              "      <th>8</th>\n",
              "      <td>8</td>\n",
              "      <td>0.972032</td>\n",
              "      <td>00:00:36.507813</td>\n",
              "      <td>False</td>\n",
              "      <td>0.1</td>\n",
              "      <td>0.000860</td>\n",
              "      <td>&lt;class 'torch.optim.adam.Adam'&gt;</td>\n",
              "    </tr>\n",
              "    <tr>\n",
              "      <th>9</th>\n",
              "      <td>9</td>\n",
              "      <td>0.951199</td>\n",
              "      <td>00:00:36.426737</td>\n",
              "      <td>False</td>\n",
              "      <td>0.1</td>\n",
              "      <td>0.000105</td>\n",
              "      <td>&lt;class 'torch.optim.adam.Adam'&gt;</td>\n",
              "    </tr>\n",
              "    <tr>\n",
              "      <th>10</th>\n",
              "      <td>10</td>\n",
              "      <td>0.969178</td>\n",
              "      <td>00:00:36.309231</td>\n",
              "      <td>True</td>\n",
              "      <td>0.1</td>\n",
              "      <td>0.001205</td>\n",
              "      <td>&lt;class 'torch.optim.adam.Adam'&gt;</td>\n",
              "    </tr>\n",
              "    <tr>\n",
              "      <th>11</th>\n",
              "      <td>11</td>\n",
              "      <td>0.971889</td>\n",
              "      <td>00:00:36.135850</td>\n",
              "      <td>True</td>\n",
              "      <td>0.1</td>\n",
              "      <td>0.000520</td>\n",
              "      <td>&lt;class 'torch.optim.adam.Adam'&gt;</td>\n",
              "    </tr>\n",
              "    <tr>\n",
              "      <th>12</th>\n",
              "      <td>12</td>\n",
              "      <td>0.967894</td>\n",
              "      <td>00:00:36.359138</td>\n",
              "      <td>True</td>\n",
              "      <td>0.1</td>\n",
              "      <td>0.000502</td>\n",
              "      <td>&lt;class 'torch.optim.adam.Adam'&gt;</td>\n",
              "    </tr>\n",
              "    <tr>\n",
              "      <th>13</th>\n",
              "      <td>13</td>\n",
              "      <td>0.973031</td>\n",
              "      <td>00:00:36.360311</td>\n",
              "      <td>True</td>\n",
              "      <td>0.1</td>\n",
              "      <td>0.000660</td>\n",
              "      <td>&lt;class 'torch.optim.adam.Adam'&gt;</td>\n",
              "    </tr>\n",
              "    <tr>\n",
              "      <th>14</th>\n",
              "      <td>14</td>\n",
              "      <td>0.967894</td>\n",
              "      <td>00:00:36.710861</td>\n",
              "      <td>True</td>\n",
              "      <td>0.1</td>\n",
              "      <td>0.002131</td>\n",
              "      <td>&lt;class 'torch.optim.adam.Adam'&gt;</td>\n",
              "    </tr>\n",
              "  </tbody>\n",
              "</table>\n",
              "</div>"
            ],
            "text/plain": [
              "    number     value  ... params_lr                 params_optimizer\n",
              "0        0  0.964041  ...  0.004218    <class 'torch.optim.sgd.SGD'>\n",
              "1        1  0.960331  ...  0.003184    <class 'torch.optim.sgd.SGD'>\n",
              "2        2  0.970034  ...  0.001350  <class 'torch.optim.adam.Adam'>\n",
              "3        3  0.967894  ...  0.009139  <class 'torch.optim.adam.Adam'>\n",
              "4        4  0.970177  ...  0.000459  <class 'torch.optim.adam.Adam'>\n",
              "5        5  0.958619  ...  0.000163  <class 'torch.optim.adam.Adam'>\n",
              "6        6  0.799087  ...  0.000167    <class 'torch.optim.sgd.SGD'>\n",
              "7        7  0.967323  ...  0.000430  <class 'torch.optim.adam.Adam'>\n",
              "8        8  0.972032  ...  0.000860  <class 'torch.optim.adam.Adam'>\n",
              "9        9  0.951199  ...  0.000105  <class 'torch.optim.adam.Adam'>\n",
              "10      10  0.969178  ...  0.001205  <class 'torch.optim.adam.Adam'>\n",
              "11      11  0.971889  ...  0.000520  <class 'torch.optim.adam.Adam'>\n",
              "12      12  0.967894  ...  0.000502  <class 'torch.optim.adam.Adam'>\n",
              "13      13  0.973031  ...  0.000660  <class 'torch.optim.adam.Adam'>\n",
              "14      14  0.967894  ...  0.002131  <class 'torch.optim.adam.Adam'>\n",
              "\n",
              "[15 rows x 7 columns]"
            ]
          },
          "metadata": {
            "tags": []
          },
          "execution_count": 34
        }
      ]
    },
    {
      "cell_type": "code",
      "metadata": {
        "id": "dSJzu-9PgZCV",
        "outputId": "4d0cef9f-0239-41b2-f761-c0f4cceddf3e",
        "colab": {
          "base_uri": "https://localhost:8080/",
          "height": 54
        }
      },
      "source": [
        "study.best_trial"
      ],
      "execution_count": null,
      "outputs": [
        {
          "output_type": "execute_result",
          "data": {
            "text/plain": [
              "FrozenTrial(number=13, value=0.9730308055877686, datetime_start=datetime.datetime(2020, 9, 9, 15, 19, 20, 717374), datetime_complete=datetime.datetime(2020, 9, 9, 15, 19, 57, 77685), params={'lr': 0.0006595402688301448, 'dropout': 0.1, 'optimizer': <class 'torch.optim.adam.Adam'>, 'batch_norm': True}, distributions={'lr': LogUniformDistribution(high=0.01, low=0.0001), 'dropout': DiscreteUniformDistribution(high=0.1, low=0.1, q=0.5), 'optimizer': CategoricalDistribution(choices=(<class 'torch.optim.sgd.SGD'>, <class 'torch.optim.adam.Adam'>)), 'batch_norm': CategoricalDistribution(choices=(True, False))}, user_attrs={}, system_attrs={}, intermediate_values={}, trial_id=13, state=TrialState.COMPLETE)"
            ]
          },
          "metadata": {
            "tags": []
          },
          "execution_count": 35
        }
      ]
    },
    {
      "cell_type": "code",
      "metadata": {
        "id": "jVpuIr6mgZMv",
        "outputId": "7e2217ee-0292-4da4-bd96-f2e185337cb2",
        "colab": {
          "base_uri": "https://localhost:8080/",
          "height": 542
        }
      },
      "source": [
        "#optuna.visualization.plot_contour(study, params=['lr','optimizer'])\n",
        "optuna.visualization.plot_optimization_history(study)"
      ],
      "execution_count": null,
      "outputs": [
        {
          "output_type": "display_data",
          "data": {
            "text/html": [
              "<html>\n",
              "<head><meta charset=\"utf-8\" /></head>\n",
              "<body>\n",
              "    <div>\n",
              "            <script src=\"https://cdnjs.cloudflare.com/ajax/libs/mathjax/2.7.5/MathJax.js?config=TeX-AMS-MML_SVG\"></script><script type=\"text/javascript\">if (window.MathJax) {MathJax.Hub.Config({SVG: {font: \"STIX-Web\"}});}</script>\n",
              "                <script type=\"text/javascript\">window.PlotlyConfig = {MathJaxConfig: 'local'};</script>\n",
              "        <script src=\"https://cdn.plot.ly/plotly-latest.min.js\"></script>    \n",
              "            <div id=\"175e1b94-80f7-4261-a2ec-ce7adbb2ca8e\" class=\"plotly-graph-div\" style=\"height:525px; width:100%;\"></div>\n",
              "            <script type=\"text/javascript\">\n",
              "                \n",
              "                    window.PLOTLYENV=window.PLOTLYENV || {};\n",
              "                    \n",
              "                if (document.getElementById(\"175e1b94-80f7-4261-a2ec-ce7adbb2ca8e\")) {\n",
              "                    Plotly.newPlot(\n",
              "                        '175e1b94-80f7-4261-a2ec-ce7adbb2ca8e',\n",
              "                        [{\"mode\": \"markers\", \"name\": \"Objective Value\", \"type\": \"scatter\", \"x\": [0, 1, 2, 3, 4, 5, 6, 7, 8, 9, 10, 11, 12, 13, 14], \"y\": [0.9640410542488098, 0.9603310227394104, 0.9700341820716858, 0.9678937792778015, 0.9701768755912781, 0.958618700504303, 0.7990867495536804, 0.9673230051994324, 0.9720319509506226, 0.9511985778808594, 0.9691780209541321, 0.9718892574310303, 0.9678937792778015, 0.9730308055877686, 0.9678937792778015]}, {\"name\": \"Best Value\", \"type\": \"scatter\", \"x\": [0, 1, 2, 3, 4, 5, 6, 7, 8, 9, 10, 11, 12, 13, 14], \"y\": [0.9640410542488098, 0.9640410542488098, 0.9700341820716858, 0.9700341820716858, 0.9701768755912781, 0.9701768755912781, 0.9701768755912781, 0.9701768755912781, 0.9720319509506226, 0.9720319509506226, 0.9720319509506226, 0.9720319509506226, 0.9720319509506226, 0.9730308055877686, 0.9730308055877686]}],\n",
              "                        {\"template\": {\"data\": {\"bar\": [{\"error_x\": {\"color\": \"#2a3f5f\"}, \"error_y\": {\"color\": \"#2a3f5f\"}, \"marker\": {\"line\": {\"color\": \"#E5ECF6\", \"width\": 0.5}}, \"type\": \"bar\"}], \"barpolar\": [{\"marker\": {\"line\": {\"color\": \"#E5ECF6\", \"width\": 0.5}}, \"type\": \"barpolar\"}], \"carpet\": [{\"aaxis\": {\"endlinecolor\": \"#2a3f5f\", \"gridcolor\": \"white\", \"linecolor\": \"white\", \"minorgridcolor\": \"white\", \"startlinecolor\": \"#2a3f5f\"}, \"baxis\": {\"endlinecolor\": \"#2a3f5f\", \"gridcolor\": \"white\", \"linecolor\": \"white\", \"minorgridcolor\": \"white\", \"startlinecolor\": \"#2a3f5f\"}, \"type\": \"carpet\"}], \"choropleth\": [{\"colorbar\": {\"outlinewidth\": 0, \"ticks\": \"\"}, \"type\": \"choropleth\"}], \"contour\": [{\"colorbar\": {\"outlinewidth\": 0, \"ticks\": \"\"}, \"colorscale\": [[0.0, \"#0d0887\"], [0.1111111111111111, \"#46039f\"], [0.2222222222222222, \"#7201a8\"], [0.3333333333333333, \"#9c179e\"], [0.4444444444444444, \"#bd3786\"], [0.5555555555555556, \"#d8576b\"], [0.6666666666666666, \"#ed7953\"], [0.7777777777777778, \"#fb9f3a\"], [0.8888888888888888, \"#fdca26\"], [1.0, \"#f0f921\"]], \"type\": \"contour\"}], \"contourcarpet\": [{\"colorbar\": {\"outlinewidth\": 0, \"ticks\": \"\"}, \"type\": \"contourcarpet\"}], \"heatmap\": [{\"colorbar\": {\"outlinewidth\": 0, \"ticks\": \"\"}, \"colorscale\": [[0.0, \"#0d0887\"], [0.1111111111111111, \"#46039f\"], [0.2222222222222222, \"#7201a8\"], [0.3333333333333333, \"#9c179e\"], [0.4444444444444444, \"#bd3786\"], [0.5555555555555556, \"#d8576b\"], [0.6666666666666666, \"#ed7953\"], [0.7777777777777778, \"#fb9f3a\"], [0.8888888888888888, \"#fdca26\"], [1.0, \"#f0f921\"]], \"type\": \"heatmap\"}], \"heatmapgl\": [{\"colorbar\": {\"outlinewidth\": 0, \"ticks\": \"\"}, \"colorscale\": [[0.0, \"#0d0887\"], [0.1111111111111111, \"#46039f\"], [0.2222222222222222, \"#7201a8\"], [0.3333333333333333, \"#9c179e\"], [0.4444444444444444, \"#bd3786\"], [0.5555555555555556, \"#d8576b\"], [0.6666666666666666, \"#ed7953\"], [0.7777777777777778, \"#fb9f3a\"], [0.8888888888888888, \"#fdca26\"], [1.0, \"#f0f921\"]], \"type\": \"heatmapgl\"}], \"histogram\": [{\"marker\": {\"colorbar\": {\"outlinewidth\": 0, \"ticks\": \"\"}}, \"type\": \"histogram\"}], \"histogram2d\": [{\"colorbar\": {\"outlinewidth\": 0, \"ticks\": \"\"}, \"colorscale\": [[0.0, \"#0d0887\"], [0.1111111111111111, \"#46039f\"], [0.2222222222222222, \"#7201a8\"], [0.3333333333333333, \"#9c179e\"], [0.4444444444444444, \"#bd3786\"], [0.5555555555555556, \"#d8576b\"], [0.6666666666666666, \"#ed7953\"], [0.7777777777777778, \"#fb9f3a\"], [0.8888888888888888, \"#fdca26\"], [1.0, \"#f0f921\"]], \"type\": \"histogram2d\"}], \"histogram2dcontour\": [{\"colorbar\": {\"outlinewidth\": 0, \"ticks\": \"\"}, \"colorscale\": [[0.0, \"#0d0887\"], [0.1111111111111111, \"#46039f\"], [0.2222222222222222, \"#7201a8\"], [0.3333333333333333, \"#9c179e\"], [0.4444444444444444, \"#bd3786\"], [0.5555555555555556, \"#d8576b\"], [0.6666666666666666, \"#ed7953\"], [0.7777777777777778, \"#fb9f3a\"], [0.8888888888888888, \"#fdca26\"], [1.0, \"#f0f921\"]], \"type\": \"histogram2dcontour\"}], \"mesh3d\": [{\"colorbar\": {\"outlinewidth\": 0, \"ticks\": \"\"}, \"type\": \"mesh3d\"}], \"parcoords\": [{\"line\": {\"colorbar\": {\"outlinewidth\": 0, \"ticks\": \"\"}}, \"type\": \"parcoords\"}], \"pie\": [{\"automargin\": true, \"type\": \"pie\"}], \"scatter\": [{\"marker\": {\"colorbar\": {\"outlinewidth\": 0, \"ticks\": \"\"}}, \"type\": \"scatter\"}], \"scatter3d\": [{\"line\": {\"colorbar\": {\"outlinewidth\": 0, \"ticks\": \"\"}}, \"marker\": {\"colorbar\": {\"outlinewidth\": 0, \"ticks\": \"\"}}, \"type\": \"scatter3d\"}], \"scattercarpet\": [{\"marker\": {\"colorbar\": {\"outlinewidth\": 0, \"ticks\": \"\"}}, \"type\": \"scattercarpet\"}], \"scattergeo\": [{\"marker\": {\"colorbar\": {\"outlinewidth\": 0, \"ticks\": \"\"}}, \"type\": \"scattergeo\"}], \"scattergl\": [{\"marker\": {\"colorbar\": {\"outlinewidth\": 0, \"ticks\": \"\"}}, \"type\": \"scattergl\"}], \"scattermapbox\": [{\"marker\": {\"colorbar\": {\"outlinewidth\": 0, \"ticks\": \"\"}}, \"type\": \"scattermapbox\"}], \"scatterpolar\": [{\"marker\": {\"colorbar\": {\"outlinewidth\": 0, \"ticks\": \"\"}}, \"type\": \"scatterpolar\"}], \"scatterpolargl\": [{\"marker\": {\"colorbar\": {\"outlinewidth\": 0, \"ticks\": \"\"}}, \"type\": \"scatterpolargl\"}], \"scatterternary\": [{\"marker\": {\"colorbar\": {\"outlinewidth\": 0, \"ticks\": \"\"}}, \"type\": \"scatterternary\"}], \"surface\": [{\"colorbar\": {\"outlinewidth\": 0, \"ticks\": \"\"}, \"colorscale\": [[0.0, \"#0d0887\"], [0.1111111111111111, \"#46039f\"], [0.2222222222222222, \"#7201a8\"], [0.3333333333333333, \"#9c179e\"], [0.4444444444444444, \"#bd3786\"], [0.5555555555555556, \"#d8576b\"], [0.6666666666666666, \"#ed7953\"], [0.7777777777777778, \"#fb9f3a\"], [0.8888888888888888, \"#fdca26\"], [1.0, \"#f0f921\"]], \"type\": \"surface\"}], \"table\": [{\"cells\": {\"fill\": {\"color\": \"#EBF0F8\"}, \"line\": {\"color\": \"white\"}}, \"header\": {\"fill\": {\"color\": \"#C8D4E3\"}, \"line\": {\"color\": \"white\"}}, \"type\": \"table\"}]}, \"layout\": {\"annotationdefaults\": {\"arrowcolor\": \"#2a3f5f\", \"arrowhead\": 0, \"arrowwidth\": 1}, \"coloraxis\": {\"colorbar\": {\"outlinewidth\": 0, \"ticks\": \"\"}}, \"colorscale\": {\"diverging\": [[0, \"#8e0152\"], [0.1, \"#c51b7d\"], [0.2, \"#de77ae\"], [0.3, \"#f1b6da\"], [0.4, \"#fde0ef\"], [0.5, \"#f7f7f7\"], [0.6, \"#e6f5d0\"], [0.7, \"#b8e186\"], [0.8, \"#7fbc41\"], [0.9, \"#4d9221\"], [1, \"#276419\"]], \"sequential\": [[0.0, \"#0d0887\"], [0.1111111111111111, \"#46039f\"], [0.2222222222222222, \"#7201a8\"], [0.3333333333333333, \"#9c179e\"], [0.4444444444444444, \"#bd3786\"], [0.5555555555555556, \"#d8576b\"], [0.6666666666666666, \"#ed7953\"], [0.7777777777777778, \"#fb9f3a\"], [0.8888888888888888, \"#fdca26\"], [1.0, \"#f0f921\"]], \"sequentialminus\": [[0.0, \"#0d0887\"], [0.1111111111111111, \"#46039f\"], [0.2222222222222222, \"#7201a8\"], [0.3333333333333333, \"#9c179e\"], [0.4444444444444444, \"#bd3786\"], [0.5555555555555556, \"#d8576b\"], [0.6666666666666666, \"#ed7953\"], [0.7777777777777778, \"#fb9f3a\"], [0.8888888888888888, \"#fdca26\"], [1.0, \"#f0f921\"]]}, \"colorway\": [\"#636efa\", \"#EF553B\", \"#00cc96\", \"#ab63fa\", \"#FFA15A\", \"#19d3f3\", \"#FF6692\", \"#B6E880\", \"#FF97FF\", \"#FECB52\"], \"font\": {\"color\": \"#2a3f5f\"}, \"geo\": {\"bgcolor\": \"white\", \"lakecolor\": \"white\", \"landcolor\": \"#E5ECF6\", \"showlakes\": true, \"showland\": true, \"subunitcolor\": \"white\"}, \"hoverlabel\": {\"align\": \"left\"}, \"hovermode\": \"closest\", \"mapbox\": {\"style\": \"light\"}, \"paper_bgcolor\": \"white\", \"plot_bgcolor\": \"#E5ECF6\", \"polar\": {\"angularaxis\": {\"gridcolor\": \"white\", \"linecolor\": \"white\", \"ticks\": \"\"}, \"bgcolor\": \"#E5ECF6\", \"radialaxis\": {\"gridcolor\": \"white\", \"linecolor\": \"white\", \"ticks\": \"\"}}, \"scene\": {\"xaxis\": {\"backgroundcolor\": \"#E5ECF6\", \"gridcolor\": \"white\", \"gridwidth\": 2, \"linecolor\": \"white\", \"showbackground\": true, \"ticks\": \"\", \"zerolinecolor\": \"white\"}, \"yaxis\": {\"backgroundcolor\": \"#E5ECF6\", \"gridcolor\": \"white\", \"gridwidth\": 2, \"linecolor\": \"white\", \"showbackground\": true, \"ticks\": \"\", \"zerolinecolor\": \"white\"}, \"zaxis\": {\"backgroundcolor\": \"#E5ECF6\", \"gridcolor\": \"white\", \"gridwidth\": 2, \"linecolor\": \"white\", \"showbackground\": true, \"ticks\": \"\", \"zerolinecolor\": \"white\"}}, \"shapedefaults\": {\"line\": {\"color\": \"#2a3f5f\"}}, \"ternary\": {\"aaxis\": {\"gridcolor\": \"white\", \"linecolor\": \"white\", \"ticks\": \"\"}, \"baxis\": {\"gridcolor\": \"white\", \"linecolor\": \"white\", \"ticks\": \"\"}, \"bgcolor\": \"#E5ECF6\", \"caxis\": {\"gridcolor\": \"white\", \"linecolor\": \"white\", \"ticks\": \"\"}}, \"title\": {\"x\": 0.05}, \"xaxis\": {\"automargin\": true, \"gridcolor\": \"white\", \"linecolor\": \"white\", \"ticks\": \"\", \"title\": {\"standoff\": 15}, \"zerolinecolor\": \"white\", \"zerolinewidth\": 2}, \"yaxis\": {\"automargin\": true, \"gridcolor\": \"white\", \"linecolor\": \"white\", \"ticks\": \"\", \"title\": {\"standoff\": 15}, \"zerolinecolor\": \"white\", \"zerolinewidth\": 2}}}, \"title\": {\"text\": \"Optimization History Plot\"}, \"xaxis\": {\"title\": {\"text\": \"#Trials\"}}, \"yaxis\": {\"title\": {\"text\": \"Objective Value\"}}},\n",
              "                        {\"responsive\": true}\n",
              "                    ).then(function(){\n",
              "                            \n",
              "var gd = document.getElementById('175e1b94-80f7-4261-a2ec-ce7adbb2ca8e');\n",
              "var x = new MutationObserver(function (mutations, observer) {{\n",
              "        var display = window.getComputedStyle(gd).display;\n",
              "        if (!display || display === 'none') {{\n",
              "            console.log([gd, 'removed!']);\n",
              "            Plotly.purge(gd);\n",
              "            observer.disconnect();\n",
              "        }}\n",
              "}});\n",
              "\n",
              "// Listen for the removal of the full notebook cells\n",
              "var notebookContainer = gd.closest('#notebook-container');\n",
              "if (notebookContainer) {{\n",
              "    x.observe(notebookContainer, {childList: true});\n",
              "}}\n",
              "\n",
              "// Listen for the clearing of the current output cell\n",
              "var outputEl = gd.closest('.output');\n",
              "if (outputEl) {{\n",
              "    x.observe(outputEl, {childList: true});\n",
              "}}\n",
              "\n",
              "                        })\n",
              "                };\n",
              "                \n",
              "            </script>\n",
              "        </div>\n",
              "</body>\n",
              "</html>"
            ]
          },
          "metadata": {
            "tags": []
          }
        }
      ]
    },
    {
      "cell_type": "markdown",
      "metadata": {
        "id": "jB704nfU-eiB"
      },
      "source": [
        "## K-Fold Cross Validation"
      ]
    },
    {
      "cell_type": "markdown",
      "metadata": {
        "id": "ZPyYQxI1x8hB"
      },
      "source": [
        "So far, we have used holdout set for model validation that consists of splitting once and for all the whole dataset in training and validation sets. This method is widely used but can suffer from the lucky split phenomenon.\n",
        "\n",
        "It is a good practice in machine learning to overwhelm hold-out validation and exploit cross-validation. This means that multiple rounds of train/validation are performed using different data partitions. Validation results are then averaged over the rounds to give a fair estimate of the model predictive performances. This process allows to reduce variance and avoids the lucky split phonomenon.\n",
        "\n",
        "Let see how it works. Cross-validation is always performed on training set (Think about MNIST dataset, that has 60k samples in training set and 10K in test set). In case of k-fold cross validation, say number of samples in training set is 100 and you have taken k = 5, then train set is equally divided in 5 equal parts: p1, p2, p3, p4, p5.\n",
        "Now, in first iteration/fold p1 will be left out and remaining 4 parts (p2, p3, p4, p5) will be used for training the algorithm and p1 to validate it. Once algorithm is trained this trained model will be validated on p1 from this you will get error/accuracy metric. Now in 2nd iteration/fold p2 will be left out and again algorithm will be trained on remaining 4 parts( p1, p3, p4, p5) and once algorithm is trained it gets validated on p2. It continues till all 5 iterations are over. At last you will get average train and validated error/accuracy metrics from cross validation exercise. And this is how cross-validation works and is used.\n",
        "\n",
        "<center>  <img src=\"https://drive.google.com/uc?export=view&id=1qRpYnHSzc1lhutp-F3ehpEGMSSa18Eza\"width=\"800\">  </center> \n",
        "\n",
        "\n",
        "The best scenario is that our accuracy is similar in all our folds, say 92.0, 91.5, 92.0, 92.5 and 91.8. This means that our algorithm (and our data) is consistent and we can be confident that by training it on all the data set and deploy it in production will lead to similar performance.\n",
        "However, we could end up in a slightly different scenario, say 92.0, 44.0, 91.5, 92.5 and 91.8. These results look very strange. It looks like one of our folds is from a different distribution, we have to go back and make sure that our data is what we think it is.\n",
        "\n",
        "The worst scenario we can end up in is when we have considerable variation in our results, say 80, 44, 99, 60 and 87. Here it looks like that our algorithm or our data (or both) is no consistent, it could be that our algorithm is unable to learn, or our data is very complicated.\n"
      ]
    },
    {
      "cell_type": "code",
      "metadata": {
        "id": "pR3ds_7kCPko"
      },
      "source": [
        "transform = transforms.Compose([transforms.ToTensor(), \n",
        "                                        transforms.Normalize( (0.1307,), (0.3081,))])\n",
        "\n",
        "train_dataset = MNIST(root = './data', train = True, transform = transform, download=True)"
      ],
      "execution_count": null,
      "outputs": []
    },
    {
      "cell_type": "code",
      "metadata": {
        "id": "p3MsWG5l6CHH"
      },
      "source": [
        "from sklearn.model_selection import KFold\n",
        "kfold = KFold(n_splits=5)\n",
        "\n",
        "def cross_validation(network, optim, crit, epochs, device, batch_size = 16, model_save = False):\n",
        "    final_acc = []\n",
        "    for fold, (train_index, valid_index) in enumerate(kfold.split(train_dataset.data, train_dataset.targets)):\n",
        "        # reset weights to init values at each fold\n",
        "        network.load_state_dict(torch.load('./weights_init'))\n",
        "        print(list(network.parameters())[0][0])\n",
        "        \n",
        "        ### Dividing data into folds\n",
        "        train_fold = torch.utils.data.Subset(train_dataset, train_index)\n",
        "        valid_fold = torch.utils.data.Subset(train_dataset, valid_index)\n",
        "\n",
        "        train_loader_fold = DataLoader(train_fold, batch_size = batch_size, shuffle = False)\n",
        "        valid_loader_fold = DataLoader(valid_fold, batch_size = batch_size, shuffle = False)\n",
        "\n",
        "        #print(len(train_loader_fold))\n",
        "        #print(len(valid_loader_fold))\n",
        "\n",
        "        kwargs = {'optim': optim, 'crit': crit, \n",
        "          'epochs': epochs, 'device': device, 'model_save': model_save}\n",
        "        \n",
        "        valid_acc = training(network, train_loader_fold, valid_loader_fold, **kwargs)\n",
        "        final_acc.append(valid_acc.to('cpu'))\n",
        "        #print(final_acc)\n",
        "\n",
        "        print('\\nFold number {} , Valid Accuracy: {}\\n'.format(fold + 1 , valid_acc))\n",
        "    #print(final_acc)\n",
        "    print('\\nFinal Accuracy Mean: {} , Final Accuracy Std: {}\\n'.format(np.array(final_acc).mean() , np.array(final_acc).std()))  \n",
        "    return np.array(final_acc).mean(), np.array(final_acc).std()"
      ],
      "execution_count": null,
      "outputs": []
    },
    {
      "cell_type": "code",
      "metadata": {
        "id": "HvRbV5CRGdQ8",
        "outputId": "7e0933e5-ad9f-446d-e325-e1effc01f681",
        "colab": {
          "base_uri": "https://localhost:8080/",
          "height": 1000
        }
      },
      "source": [
        "lenet = LeNet(dropout_rate = 0.2)\n",
        "\n",
        "device = \"cuda\" if torch.cuda.is_available() else \"cpu\"\n",
        "lenet.to(device)\n",
        "\n",
        "optimizer = torch.optim.Adam(lenet.parameters(), lr = 0.00066) \n",
        "criterion = nn.CrossEntropyLoss()\n",
        "\n",
        "kwargs = {'optim': optimizer, 'crit': criterion, \n",
        "          'epochs': 3, 'device': device, 'batch_size': 32, 'model_save': False}\n",
        "\n",
        "cross_validation(lenet, **kwargs)"
      ],
      "execution_count": null,
      "outputs": [
        {
          "output_type": "stream",
          "text": [
            "tensor([[[-0.1562, -0.1802,  0.2467],\n",
            "         [ 0.2934,  0.2136,  0.1818],\n",
            "         [ 0.2655, -0.3056, -0.0591]]], device='cuda:0',\n",
            "       grad_fn=<SelectBackward>)\n",
            "Train Epoch: 1 [0/48000 (0%)]\tLoss: 3.149100\n",
            "Train Epoch: 1 [6400/48000 (13%)]\tLoss: 0.763499\n",
            "Train Epoch: 1 [12800/48000 (27%)]\tLoss: 0.216688\n",
            "Train Epoch: 1 [19200/48000 (40%)]\tLoss: 0.373426\n",
            "Train Epoch: 1 [25600/48000 (53%)]\tLoss: 0.193764\n",
            "Train Epoch: 1 [32000/48000 (67%)]\tLoss: 0.053987\n",
            "Train Epoch: 1 [38400/48000 (80%)]\tLoss: 0.666700\n",
            "Train Epoch: 1 [44800/48000 (93%)]\tLoss: 0.198721\n",
            "Best validation accuracy improved from 0 to 0.9674166440963745, saving model...\n",
            "Train Epoch: 2 [0/48000 (0%)]\tLoss: 0.055065\n",
            "Train Epoch: 2 [6400/48000 (13%)]\tLoss: 0.083243\n",
            "Train Epoch: 2 [12800/48000 (27%)]\tLoss: 0.064931\n",
            "Train Epoch: 2 [19200/48000 (40%)]\tLoss: 0.025287\n",
            "Train Epoch: 2 [25600/48000 (53%)]\tLoss: 0.100971\n",
            "Train Epoch: 2 [32000/48000 (67%)]\tLoss: 0.134662\n",
            "Train Epoch: 2 [38400/48000 (80%)]\tLoss: 0.265231\n",
            "Train Epoch: 2 [44800/48000 (93%)]\tLoss: 0.206700\n",
            "Best validation accuracy improved from 0.9674166440963745 to 0.9748333096504211, saving model...\n",
            "Train Epoch: 3 [0/48000 (0%)]\tLoss: 0.051635\n",
            "Train Epoch: 3 [6400/48000 (13%)]\tLoss: 0.118435\n",
            "Train Epoch: 3 [12800/48000 (27%)]\tLoss: 0.023652\n",
            "Train Epoch: 3 [19200/48000 (40%)]\tLoss: 0.004563\n",
            "Train Epoch: 3 [25600/48000 (53%)]\tLoss: 0.017587\n",
            "Train Epoch: 3 [32000/48000 (67%)]\tLoss: 0.006273\n",
            "Train Epoch: 3 [38400/48000 (80%)]\tLoss: 0.126117\n",
            "Train Epoch: 3 [44800/48000 (93%)]\tLoss: 0.122116\n",
            "Best validation accuracy improved from 0.9748333096504211 to 0.9795833230018616, saving model...\n",
            "\n",
            "Fold number 1 , Valid Accuracy: 0.9795833230018616\n",
            "\n",
            "tensor([[[-0.1562, -0.1802,  0.2467],\n",
            "         [ 0.2934,  0.2136,  0.1818],\n",
            "         [ 0.2655, -0.3056, -0.0591]]], device='cuda:0',\n",
            "       grad_fn=<SelectBackward>)\n",
            "Train Epoch: 1 [0/48000 (0%)]\tLoss: 2.848809\n",
            "Train Epoch: 1 [6400/48000 (13%)]\tLoss: 0.390409\n",
            "Train Epoch: 1 [12800/48000 (27%)]\tLoss: 0.177848\n",
            "Train Epoch: 1 [19200/48000 (40%)]\tLoss: 0.169216\n",
            "Train Epoch: 1 [25600/48000 (53%)]\tLoss: 0.083597\n",
            "Train Epoch: 1 [32000/48000 (67%)]\tLoss: 0.056920\n",
            "Train Epoch: 1 [38400/48000 (80%)]\tLoss: 0.739392\n",
            "Train Epoch: 1 [44800/48000 (93%)]\tLoss: 0.241727\n",
            "Best validation accuracy improved from 0 to 0.9714166522026062, saving model...\n",
            "Train Epoch: 2 [0/48000 (0%)]\tLoss: 0.023016\n",
            "Train Epoch: 2 [6400/48000 (13%)]\tLoss: 0.117924\n",
            "Train Epoch: 2 [12800/48000 (27%)]\tLoss: 0.048431\n",
            "Train Epoch: 2 [19200/48000 (40%)]\tLoss: 0.014685\n",
            "Train Epoch: 2 [25600/48000 (53%)]\tLoss: 0.037965\n",
            "Train Epoch: 2 [32000/48000 (67%)]\tLoss: 0.022999\n",
            "Train Epoch: 2 [38400/48000 (80%)]\tLoss: 0.559015\n",
            "Train Epoch: 2 [44800/48000 (93%)]\tLoss: 0.053691\n",
            "Best validation accuracy improved from 0.9714166522026062 to 0.9783332943916321, saving model...\n",
            "Train Epoch: 3 [0/48000 (0%)]\tLoss: 0.006216\n",
            "Train Epoch: 3 [6400/48000 (13%)]\tLoss: 0.030110\n",
            "Train Epoch: 3 [12800/48000 (27%)]\tLoss: 0.025214\n",
            "Train Epoch: 3 [19200/48000 (40%)]\tLoss: 0.011592\n",
            "Train Epoch: 3 [25600/48000 (53%)]\tLoss: 0.056948\n",
            "Train Epoch: 3 [32000/48000 (67%)]\tLoss: 0.019332\n",
            "Train Epoch: 3 [38400/48000 (80%)]\tLoss: 0.307598\n",
            "Train Epoch: 3 [44800/48000 (93%)]\tLoss: 0.286297\n",
            "Best validation accuracy improved from 0.9783332943916321 to 0.9839166402816772, saving model...\n",
            "\n",
            "Fold number 2 , Valid Accuracy: 0.9839166402816772\n",
            "\n",
            "tensor([[[-0.1562, -0.1802,  0.2467],\n",
            "         [ 0.2934,  0.2136,  0.1818],\n",
            "         [ 0.2655, -0.3056, -0.0591]]], device='cuda:0',\n",
            "       grad_fn=<SelectBackward>)\n",
            "Train Epoch: 1 [0/48000 (0%)]\tLoss: 3.066073\n",
            "Train Epoch: 1 [6400/48000 (13%)]\tLoss: 0.499127\n",
            "Train Epoch: 1 [12800/48000 (27%)]\tLoss: 0.228400\n",
            "Train Epoch: 1 [19200/48000 (40%)]\tLoss: 0.270540\n",
            "Train Epoch: 1 [25600/48000 (53%)]\tLoss: 0.232586\n",
            "Train Epoch: 1 [32000/48000 (67%)]\tLoss: 0.128888\n",
            "Train Epoch: 1 [38400/48000 (80%)]\tLoss: 0.581973\n",
            "Train Epoch: 1 [44800/48000 (93%)]\tLoss: 0.190766\n",
            "Best validation accuracy improved from 0 to 0.9671666622161865, saving model...\n",
            "Train Epoch: 2 [0/48000 (0%)]\tLoss: 0.024276\n",
            "Train Epoch: 2 [6400/48000 (13%)]\tLoss: 0.154907\n",
            "Train Epoch: 2 [12800/48000 (27%)]\tLoss: 0.191938\n",
            "Train Epoch: 2 [19200/48000 (40%)]\tLoss: 0.038074\n",
            "Train Epoch: 2 [25600/48000 (53%)]\tLoss: 0.015312\n",
            "Train Epoch: 2 [32000/48000 (67%)]\tLoss: 0.070850\n",
            "Train Epoch: 2 [38400/48000 (80%)]\tLoss: 0.534734\n",
            "Train Epoch: 2 [44800/48000 (93%)]\tLoss: 0.226018\n",
            "Best validation accuracy improved from 0.9671666622161865 to 0.9782499670982361, saving model...\n",
            "Train Epoch: 3 [0/48000 (0%)]\tLoss: 0.011191\n",
            "Train Epoch: 3 [6400/48000 (13%)]\tLoss: 0.160741\n",
            "Train Epoch: 3 [12800/48000 (27%)]\tLoss: 0.090498\n",
            "Train Epoch: 3 [19200/48000 (40%)]\tLoss: 0.011110\n",
            "Train Epoch: 3 [25600/48000 (53%)]\tLoss: 0.020478\n",
            "Train Epoch: 3 [32000/48000 (67%)]\tLoss: 0.088614\n",
            "Train Epoch: 3 [38400/48000 (80%)]\tLoss: 0.249940\n",
            "Train Epoch: 3 [44800/48000 (93%)]\tLoss: 0.184419\n",
            "Best validation accuracy improved from 0.9782499670982361 to 0.9827499985694885, saving model...\n",
            "\n",
            "Fold number 3 , Valid Accuracy: 0.9827499985694885\n",
            "\n",
            "tensor([[[-0.1562, -0.1802,  0.2467],\n",
            "         [ 0.2934,  0.2136,  0.1818],\n",
            "         [ 0.2655, -0.3056, -0.0591]]], device='cuda:0',\n",
            "       grad_fn=<SelectBackward>)\n",
            "Train Epoch: 1 [0/48000 (0%)]\tLoss: 3.140345\n",
            "Train Epoch: 1 [6400/48000 (13%)]\tLoss: 0.528068\n",
            "Train Epoch: 1 [12800/48000 (27%)]\tLoss: 0.183408\n",
            "Train Epoch: 1 [19200/48000 (40%)]\tLoss: 0.137504\n",
            "Train Epoch: 1 [25600/48000 (53%)]\tLoss: 0.268605\n",
            "Train Epoch: 1 [32000/48000 (67%)]\tLoss: 0.226708\n",
            "Train Epoch: 1 [38400/48000 (80%)]\tLoss: 0.624356\n",
            "Train Epoch: 1 [44800/48000 (93%)]\tLoss: 0.277118\n",
            "Best validation accuracy improved from 0 to 0.9661666750907898, saving model...\n",
            "Train Epoch: 2 [0/48000 (0%)]\tLoss: 0.014747\n",
            "Train Epoch: 2 [6400/48000 (13%)]\tLoss: 0.165764\n",
            "Train Epoch: 2 [12800/48000 (27%)]\tLoss: 0.081870\n",
            "Train Epoch: 2 [19200/48000 (40%)]\tLoss: 0.031358\n",
            "Train Epoch: 2 [25600/48000 (53%)]\tLoss: 0.035251\n",
            "Train Epoch: 2 [32000/48000 (67%)]\tLoss: 0.224758\n",
            "Train Epoch: 2 [38400/48000 (80%)]\tLoss: 0.513324\n",
            "Train Epoch: 2 [44800/48000 (93%)]\tLoss: 0.163196\n",
            "Best validation accuracy improved from 0.9661666750907898 to 0.9765833020210266, saving model...\n",
            "Train Epoch: 3 [0/48000 (0%)]\tLoss: 0.008207\n",
            "Train Epoch: 3 [6400/48000 (13%)]\tLoss: 0.081933\n",
            "Train Epoch: 3 [12800/48000 (27%)]\tLoss: 0.047586\n",
            "Train Epoch: 3 [19200/48000 (40%)]\tLoss: 0.051330\n",
            "Train Epoch: 3 [25600/48000 (53%)]\tLoss: 0.110337\n",
            "Train Epoch: 3 [32000/48000 (67%)]\tLoss: 0.422132\n",
            "Train Epoch: 3 [38400/48000 (80%)]\tLoss: 0.384604\n",
            "Train Epoch: 3 [44800/48000 (93%)]\tLoss: 0.181722\n",
            "Best validation accuracy improved from 0.9765833020210266 to 0.9808333516120911, saving model...\n",
            "\n",
            "Fold number 4 , Valid Accuracy: 0.9808333516120911\n",
            "\n",
            "tensor([[[-0.1562, -0.1802,  0.2467],\n",
            "         [ 0.2934,  0.2136,  0.1818],\n",
            "         [ 0.2655, -0.3056, -0.0591]]], device='cuda:0',\n",
            "       grad_fn=<SelectBackward>)\n",
            "Train Epoch: 1 [0/48000 (0%)]\tLoss: 2.727768\n",
            "Train Epoch: 1 [6400/48000 (13%)]\tLoss: 0.445160\n",
            "Train Epoch: 1 [12800/48000 (27%)]\tLoss: 0.134080\n",
            "Train Epoch: 1 [19200/48000 (40%)]\tLoss: 0.135643\n",
            "Train Epoch: 1 [25600/48000 (53%)]\tLoss: 0.395903\n",
            "Train Epoch: 1 [32000/48000 (67%)]\tLoss: 0.245111\n",
            "Train Epoch: 1 [38400/48000 (80%)]\tLoss: 0.126911\n",
            "Train Epoch: 1 [44800/48000 (93%)]\tLoss: 0.074194\n",
            "Best validation accuracy improved from 0 to 0.9768333435058594, saving model...\n",
            "Train Epoch: 2 [0/48000 (0%)]\tLoss: 0.019347\n",
            "Train Epoch: 2 [6400/48000 (13%)]\tLoss: 0.246622\n",
            "Train Epoch: 2 [12800/48000 (27%)]\tLoss: 0.075111\n",
            "Train Epoch: 2 [19200/48000 (40%)]\tLoss: 0.063351\n",
            "Train Epoch: 2 [25600/48000 (53%)]\tLoss: 0.106486\n",
            "Train Epoch: 2 [32000/48000 (67%)]\tLoss: 0.382210\n",
            "Train Epoch: 2 [38400/48000 (80%)]\tLoss: 0.164116\n",
            "Train Epoch: 2 [44800/48000 (93%)]\tLoss: 0.023807\n",
            "Best validation accuracy improved from 0.9768333435058594 to 0.9825000166893005, saving model...\n",
            "Train Epoch: 3 [0/48000 (0%)]\tLoss: 0.020689\n",
            "Train Epoch: 3 [6400/48000 (13%)]\tLoss: 0.187575\n",
            "Train Epoch: 3 [12800/48000 (27%)]\tLoss: 0.065874\n",
            "Train Epoch: 3 [19200/48000 (40%)]\tLoss: 0.012109\n",
            "Train Epoch: 3 [25600/48000 (53%)]\tLoss: 0.039207\n",
            "Train Epoch: 3 [32000/48000 (67%)]\tLoss: 0.088976\n",
            "Train Epoch: 3 [38400/48000 (80%)]\tLoss: 0.119974\n",
            "Train Epoch: 3 [44800/48000 (93%)]\tLoss: 0.050789\n",
            "Best validation accuracy improved from 0.9825000166893005 to 0.9850833415985107, saving model...\n",
            "\n",
            "Fold number 5 , Valid Accuracy: 0.9850833415985107\n",
            "\n",
            "\n",
            "Final Accuracy Mean: 0.9824333190917969 , Final Accuracy Std: 0.0020002759993076324\n",
            "\n"
          ],
          "name": "stdout"
        },
        {
          "output_type": "execute_result",
          "data": {
            "text/plain": [
              "(0.9824333, 0.002000276)"
            ]
          },
          "metadata": {
            "tags": []
          },
          "execution_count": 27
        }
      ]
    },
    {
      "cell_type": "markdown",
      "metadata": {
        "id": "o4KEtFhgobSR"
      },
      "source": [
        "Cross validation is finished and now it is time to test the model on the test dataset"
      ]
    },
    {
      "cell_type": "code",
      "metadata": {
        "id": "bE30oneCl2Jp",
        "outputId": "c7b9fa0c-e7f1-486c-9f5c-bf16eae4bea9",
        "colab": {
          "base_uri": "https://localhost:8080/",
          "height": 70
        }
      },
      "source": [
        "test(model=lenet, device=device, test_loader=test_loader)\n"
      ],
      "execution_count": null,
      "outputs": [
        {
          "output_type": "stream",
          "text": [
            "\n",
            "Test set: Average loss: 0.0027, Accuracy: 2955/3000 (98.5%)\n",
            "\n"
          ],
          "name": "stdout"
        }
      ]
    },
    {
      "cell_type": "markdown",
      "metadata": {
        "id": "DJu6BGRjjJa-"
      },
      "source": [
        "Since we are dealing with a multi-class classification (10 classes), let us check"
      ]
    },
    {
      "cell_type": "code",
      "metadata": {
        "id": "MLbuRknip0gf"
      },
      "source": [
        "def confusion_matrix_data(model, device, test_loader):\n",
        "    model.eval()\n",
        "\n",
        "    all_preds = np.array([])\n",
        "    all_labels = np.array([])\n",
        "    with torch.no_grad():\n",
        "        for data, labels in test_loader:\n",
        "            data, labels = data.to(device), labels.to(device)\n",
        "            output = model(data)\n",
        "            preds = output.argmax(dim=1, keepdim=True) \n",
        "            # transfer to cpu and reshape preds from [[1],[2],[3]] to [1,2,3]\n",
        "            preds = preds.to('cpu').detach().numpy().reshape(-1)\n",
        "            labels = labels.to('cpu').detach().numpy()\n",
        "\n",
        "            all_preds = np.concatenate((all_preds, preds), axis=0)\n",
        "            all_labels = np.concatenate((all_labels, labels), axis=0)\n",
        "\n",
        "    return all_preds, all_labels"
      ],
      "execution_count": null,
      "outputs": []
    },
    {
      "cell_type": "code",
      "metadata": {
        "id": "x9eqkWGmcvJa",
        "outputId": "0ca34127-7e2e-46d7-a267-351132f06640",
        "colab": {
          "base_uri": "https://localhost:8080/",
          "height": 194
        }
      },
      "source": [
        "from sklearn import metrics\n",
        "\n",
        "preds, labels = confusion_matrix_data(model=lenet, device=device, test_loader=test_loader)\n",
        "\n",
        "cm = metrics.confusion_matrix(preds, labels)\n",
        "\n",
        "cm"
      ],
      "execution_count": null,
      "outputs": [
        {
          "output_type": "execute_result",
          "data": {
            "text/plain": [
              "array([[302,   0,   1,   0,   1,   0,   1,   0,   0,   1],\n",
              "       [  0, 355,   0,   0,   0,   0,   2,   1,   0,   1],\n",
              "       [  1,   0, 304,   1,   0,   0,   0,   3,   0,   0],\n",
              "       [  0,   0,   0, 281,   0,   5,   0,   0,   2,   2],\n",
              "       [  0,   0,   0,   0, 293,   0,   0,   0,   2,   2],\n",
              "       [  0,   0,   0,   1,   0, 266,   1,   0,   0,   3],\n",
              "       [  0,   0,   0,   0,   0,   1, 301,   0,   0,   0],\n",
              "       [  1,   0,   3,   0,   0,   0,   0, 276,   2,   0],\n",
              "       [  2,   1,   2,   1,   0,   2,   0,   0, 268,   3],\n",
              "       [  0,   0,   0,   0,   0,   0,   0,   1,   0, 304]])"
            ]
          },
          "metadata": {
            "tags": []
          },
          "execution_count": 88
        }
      ]
    },
    {
      "cell_type": "code",
      "metadata": {
        "id": "WpclKO10k4Uz",
        "outputId": "b09bd774-2875-4e6b-c17b-51a73446a492",
        "colab": {
          "base_uri": "https://localhost:8080/",
          "height": 596
        }
      },
      "source": [
        "## Plot multi-class metrics and confusion matrix \n",
        "classes = ['0', '1', '2', '3', '4', '5', '6', '7', '8', '9']\n",
        "print(metrics.classification_report(labels, preds))\n",
        "\n",
        "fig, ax = plt.subplots()\n",
        "sns.heatmap(cm, annot=True, fmt='d', ax=ax, cmap=plt.cm.Blues, \n",
        "            cbar=False)\n",
        "ax.set(xlabel=\"Pred\", ylabel=\"True\", xticklabels=classes, \n",
        "       yticklabels=classes, title=\"Confusion matrix\")\n",
        "\n",
        "plt.show()"
      ],
      "execution_count": null,
      "outputs": [
        {
          "output_type": "stream",
          "text": [
            "              precision    recall  f1-score   support\n",
            "\n",
            "         0.0       0.99      0.99      0.99       306\n",
            "         1.0       0.99      1.00      0.99       356\n",
            "         2.0       0.98      0.98      0.98       310\n",
            "         3.0       0.97      0.99      0.98       284\n",
            "         4.0       0.99      1.00      0.99       294\n",
            "         5.0       0.98      0.97      0.98       274\n",
            "         6.0       1.00      0.99      0.99       305\n",
            "         7.0       0.98      0.98      0.98       281\n",
            "         8.0       0.96      0.98      0.97       274\n",
            "         9.0       1.00      0.96      0.98       316\n",
            "\n",
            "    accuracy                           0.98      3000\n",
            "   macro avg       0.98      0.98      0.98      3000\n",
            "weighted avg       0.98      0.98      0.98      3000\n",
            "\n"
          ],
          "name": "stdout"
        },
        {
          "output_type": "display_data",
          "data": {
            "image/png": "[encoded data removed]",
            "text/plain": [
              "<Figure size 432x288 with 1 Axes>"
            ]
          },
          "metadata": {
            "tags": [],
            "needs_background": "light"
          }
        }
      ]
    },
    {
      "cell_type": "code",
      "metadata": {
        "id": "y9JXxvRsqRfw"
      },
      "source": [
        ""
      ],
      "execution_count": null,
      "outputs": []
    }
  ]
}